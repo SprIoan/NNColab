{
  "nbformat": 4,
  "nbformat_minor": 0,
  "metadata": {
    "colab": {
      "name": "Ergasia 1.ipynb",
      "provenance": [],
      "collapsed_sections": [
        "WUccryTw8Cw6",
        "DKnx8iOnBJlC",
        "mQ_hKHnrWkj6",
        "Cb5L-EsuWqtA",
        "HWU19JTbWvv3",
        "CD3PNO7VECxx",
        "W7axJcC2BgX-",
        "I_w45tL6F6qW",
        "bYi8aN9eGH-a",
        "EXmeGmeK01tR",
        "28ZsqZyYlilY",
        "ifsggMOBg0on"
      ],
      "include_colab_link": true
    },
    "kernelspec": {
      "name": "python3",
      "display_name": "Python 3"
    }
  },
  "cells": [
    {
      "cell_type": "markdown",
      "metadata": {
        "id": "view-in-github",
        "colab_type": "text"
      },
      "source": [
        "<a href=\"https://colab.research.google.com/github/SprIoan/NNColab/blob/main/Ergasia_1.ipynb\" target=\"_parent\"><img src=\"https://colab.research.google.com/assets/colab-badge.svg\" alt=\"Open In Colab\"/></a>"
      ]
    },
    {
      "cell_type": "code",
      "metadata": {
        "colab": {
          "base_uri": "https://localhost:8080/",
          "height": 282
        },
        "cellView": "form",
        "id": "Lp7oN1cOTPnw",
        "outputId": "57c0c93e-e078-418a-ea21-4755957f254d"
      },
      "source": [
        "#@title  Intro Code\n",
        "\n",
        "%%html\n",
        "<html xmlns=\"http://www.w3.org/1999/xhtml\">\n",
        "\n",
        "<head>\n",
        "\t<meta http-equiv='Content-Type' content='text/html; charset=UTF-8' />\n",
        "\t\n",
        "\t<title>3D Text Tower</title>\n",
        "\t\n",
        "\t<style type=\"text/css\">\n",
        "\t\n",
        "\t\t* { margin: 0; padding: 0; }\n",
        "\t\tbody { background: #666; }\n",
        "\t\th1,h2,h3,h4 { margin: 0 0 3px 0; }\n",
        "\t   h1 { color: white; font: bold 52px Helvetica, Arial, Sans-Serif;\n",
        "\t\t       text-shadow: 1px 1px #0F2520, 2px 2px #0F2520, 3px 3px #0F2520;\n",
        "\t\t       -webkit-transition: all 0.12s ease-out;\n",
        "\t\t       -moz-transition: all 0.12s ease-out;\n",
        "\t\t       -o-transition: all 0.12s ease-out;\n",
        "\t\t}\n",
        "\t\th1:hover {\n",
        "\t\t    position: relative; top: -3px; left: -3px; \n",
        "\t\t    text-shadow: 1px 1px #0F2520, 2px 2px #0F2520, 3px 3px #0F2520, 4px 4px #0F2520, 5px 5px #0F2520, 6px 6px #0F2520;\n",
        "\t\t}\n",
        "\n",
        "\t\t#page-wrap { width: 700px; margin: 0 auto; padding: 20px; text-align: center; }\n",
        "\t\t.about {  color: white; font: bold 30px Helvetica, Arial, Sans-Serif;\n",
        "\t\t       text-shadow: 1px 1px #0F2520, 1px 1px #0F2520, 1px 1px #0F2520;\n",
        "\t\t       -webkit-transition: all 0.12s ease-out;\n",
        "\t\t       -moz-transition: all 0.12s ease-out;\n",
        "\t\t       -o-transition: all 0.12s ease-out\n",
        "           margin: 20px;\n",
        "    }\n",
        "\n",
        "    .about:hover {\n",
        "\n",
        "       position: relative; top: -3px; left: -3px; \n",
        "\t\t    text-shadow: 1px 1px #0F2520, 2px 2px #0F2520, 3px 3px #0F2520, 4px 4px #0F2520, 5px 5px #0F2520, 6px 6px #0F2520;\n",
        "\n",
        "    }\n",
        "\t</style>\n",
        "</head>\n",
        "\n",
        "<body>\n",
        "\n",
        "\t<div id=\"page-wrap\">\n",
        "\n",
        "\t\t<h1>Ομάδα 38</h1>\n",
        "\n",
        "\t\t<div id=\"about\">\n",
        "      <div></div>\n",
        "\t\t  <ul>\n",
        "        <br>\n",
        "        <div class=\"about\">Χαδουμέλλης Ανδρέας (03116641)</div>\n",
        "        <br>\n",
        "\t\t    <div class=\"about\">Γρηγοράτος Σπυρίδων (03116161)</div>\n",
        "        <br>\n",
        "\t\t    <div class=\"about\">Ιωάννου Σπυρίδων (03116110)</div>\n",
        "      </ul>\n",
        "\t\t\t\n",
        "\t</div>\n",
        "\t\n",
        "  </div>\n",
        "</body>\n",
        "\n",
        "</html>"
      ],
      "execution_count": null,
      "outputs": [
        {
          "output_type": "display_data",
          "data": {
            "text/html": [
              "<html xmlns=\"http://www.w3.org/1999/xhtml\">\n",
              "\n",
              "<head>\n",
              "\t<meta http-equiv='Content-Type' content='text/html; charset=UTF-8' />\n",
              "\t\n",
              "\t<title>3D Text Tower</title>\n",
              "\t\n",
              "\t<style type=\"text/css\">\n",
              "\t\n",
              "\t\t* { margin: 0; padding: 0; }\n",
              "\t\tbody { background: #666; }\n",
              "\t\th1,h2,h3,h4 { margin: 0 0 3px 0; }\n",
              "\t   h1 { color: white; font: bold 52px Helvetica, Arial, Sans-Serif;\n",
              "\t\t       text-shadow: 1px 1px #0F2520, 2px 2px #0F2520, 3px 3px #0F2520;\n",
              "\t\t       -webkit-transition: all 0.12s ease-out;\n",
              "\t\t       -moz-transition: all 0.12s ease-out;\n",
              "\t\t       -o-transition: all 0.12s ease-out;\n",
              "\t\t}\n",
              "\t\th1:hover {\n",
              "\t\t    position: relative; top: -3px; left: -3px; \n",
              "\t\t    text-shadow: 1px 1px #0F2520, 2px 2px #0F2520, 3px 3px #0F2520, 4px 4px #0F2520, 5px 5px #0F2520, 6px 6px #0F2520;\n",
              "\t\t}\n",
              "\n",
              "\t\t#page-wrap { width: 700px; margin: 0 auto; padding: 20px; text-align: center; }\n",
              "\t\t.about {  color: white; font: bold 30px Helvetica, Arial, Sans-Serif;\n",
              "\t\t       text-shadow: 1px 1px #0F2520, 1px 1px #0F2520, 1px 1px #0F2520;\n",
              "\t\t       -webkit-transition: all 0.12s ease-out;\n",
              "\t\t       -moz-transition: all 0.12s ease-out;\n",
              "\t\t       -o-transition: all 0.12s ease-out\n",
              "           margin: 20px;\n",
              "    }\n",
              "\n",
              "    .about:hover {\n",
              "\n",
              "       position: relative; top: -3px; left: -3px; \n",
              "\t\t    text-shadow: 1px 1px #0F2520, 2px 2px #0F2520, 3px 3px #0F2520, 4px 4px #0F2520, 5px 5px #0F2520, 6px 6px #0F2520;\n",
              "\n",
              "    }\n",
              "\t</style>\n",
              "</head>\n",
              "\n",
              "<body>\n",
              "\n",
              "\t<div id=\"page-wrap\">\n",
              "\n",
              "\t\t<h1>Ομάδα 38</h1>\n",
              "\n",
              "\t\t<div id=\"about\">\n",
              "      <div></div>\n",
              "\t\t  <ul>\n",
              "        <br>\n",
              "        <div class=\"about\">Χαδουμέλλης Ανδρέας (03116641)</div>\n",
              "        <br>\n",
              "\t\t    <div class=\"about\">Γρηγοράτος Σπυρίδων (03116161)</div>\n",
              "        <br>\n",
              "\t\t    <div class=\"about\">Ιωάννου Σπυρίδων (03116110)</div>\n",
              "      </ul>\n",
              "\t\t\t\n",
              "\t</div>\n",
              "\t\n",
              "  </div>\n",
              "</body>\n",
              "\n",
              "</html>"
            ],
            "text/plain": [
              "<IPython.core.display.HTML object>"
            ]
          },
          "metadata": {
            "tags": []
          }
        }
      ]
    },
    {
      "cell_type": "code",
      "metadata": {
        "id": "NgAJu1eCPDLE",
        "colab": {
          "base_uri": "https://localhost:8080/",
          "height": 925
        },
        "outputId": "77d4c977-f68a-44fb-9180-3bab9055cb41"
      },
      "source": [
        "!pip install --upgrade pip #upgrade pip package installer\n",
        "!pip install scikit-learn --upgrade #upgrade scikit-learn package\n",
        "!pip install numpy --upgrade #upgrade numpy package\n",
        "!pip install pandas --upgrade #--upgrade #upgrade pandas package"
      ],
      "execution_count": null,
      "outputs": [
        {
          "output_type": "stream",
          "text": [
            "Collecting pip\n",
            "\u001b[?25l  Downloading https://files.pythonhosted.org/packages/cb/28/91f26bd088ce8e22169032100d4260614fc3da435025ff389ef1d396a433/pip-20.2.4-py2.py3-none-any.whl (1.5MB)\n",
            "\u001b[K     |████████████████████████████████| 1.5MB 6.7MB/s \n",
            "\u001b[?25hInstalling collected packages: pip\n",
            "  Found existing installation: pip 19.3.1\n",
            "    Uninstalling pip-19.3.1:\n",
            "      Successfully uninstalled pip-19.3.1\n",
            "Successfully installed pip-20.2.4\n",
            "Collecting scikit-learn\n",
            "  Downloading scikit_learn-0.23.2-cp36-cp36m-manylinux1_x86_64.whl (6.8 MB)\n",
            "\u001b[K     |████████████████████████████████| 6.8 MB 6.7 MB/s \n",
            "\u001b[?25hRequirement already satisfied, skipping upgrade: joblib>=0.11 in /usr/local/lib/python3.6/dist-packages (from scikit-learn) (0.17.0)\n",
            "Requirement already satisfied, skipping upgrade: scipy>=0.19.1 in /usr/local/lib/python3.6/dist-packages (from scikit-learn) (1.4.1)\n",
            "Collecting threadpoolctl>=2.0.0\n",
            "  Downloading threadpoolctl-2.1.0-py3-none-any.whl (12 kB)\n",
            "Requirement already satisfied, skipping upgrade: numpy>=1.13.3 in /usr/local/lib/python3.6/dist-packages (from scikit-learn) (1.18.5)\n",
            "Installing collected packages: threadpoolctl, scikit-learn\n",
            "  Attempting uninstall: scikit-learn\n",
            "    Found existing installation: scikit-learn 0.22.2.post1\n",
            "    Uninstalling scikit-learn-0.22.2.post1:\n",
            "      Successfully uninstalled scikit-learn-0.22.2.post1\n",
            "Successfully installed scikit-learn-0.23.2 threadpoolctl-2.1.0\n",
            "Collecting numpy\n",
            "  Downloading numpy-1.19.4-cp36-cp36m-manylinux2010_x86_64.whl (14.5 MB)\n",
            "\u001b[K     |████████████████████████████████| 14.5 MB 78 kB/s \n",
            "\u001b[?25hInstalling collected packages: numpy\n",
            "  Attempting uninstall: numpy\n",
            "    Found existing installation: numpy 1.18.5\n",
            "    Uninstalling numpy-1.18.5:\n",
            "      Successfully uninstalled numpy-1.18.5\n",
            "\u001b[31mERROR: After October 2020 you may experience errors when installing or updating packages. This is because pip will change the way that it resolves dependency conflicts.\n",
            "\n",
            "We recommend you use --use-feature=2020-resolver to test your packages with the new resolver before it becomes the default.\n",
            "\n",
            "tensorflow 2.3.0 requires numpy<1.19.0,>=1.16.0, but you'll have numpy 1.19.4 which is incompatible.\n",
            "datascience 0.10.6 requires folium==0.2.1, but you'll have folium 0.8.3 which is incompatible.\n",
            "albumentations 0.1.12 requires imgaug<0.2.7,>=0.2.5, but you'll have imgaug 0.2.9 which is incompatible.\u001b[0m\n",
            "Successfully installed numpy-1.19.4\n"
          ],
          "name": "stdout"
        },
        {
          "output_type": "display_data",
          "data": {
            "application/vnd.colab-display-data+json": {
              "pip_warning": {
                "packages": [
                  "numpy"
                ]
              }
            }
          },
          "metadata": {
            "tags": []
          }
        },
        {
          "output_type": "stream",
          "text": [
            "Requirement already up-to-date: pandas in /usr/local/lib/python3.6/dist-packages (1.1.4)\n",
            "Requirement already satisfied, skipping upgrade: numpy>=1.15.4 in /usr/local/lib/python3.6/dist-packages (from pandas) (1.19.4)\n",
            "Requirement already satisfied, skipping upgrade: pytz>=2017.2 in /usr/local/lib/python3.6/dist-packages (from pandas) (2018.9)\n",
            "Requirement already satisfied, skipping upgrade: python-dateutil>=2.7.3 in /usr/local/lib/python3.6/dist-packages (from pandas) (2.8.1)\n",
            "Requirement already satisfied, skipping upgrade: six>=1.5 in /usr/local/lib/python3.6/dist-packages (from python-dateutil>=2.7.3->pandas) (1.15.0)\n"
          ],
          "name": "stdout"
        }
      ]
    },
    {
      "cell_type": "code",
      "metadata": {
        "id": "vcfXWDhAiGvJ",
        "colab": {
          "base_uri": "https://localhost:8080/"
        },
        "outputId": "7bf6c189-a9b3-41f2-d535-75bae4aaed37"
      },
      "source": [
        "import pandas as pd\n",
        "import numpy as np\n",
        "from matplotlib import pyplot as plt\n",
        "from sklearn import preprocessing\n",
        "from sklearn.metrics import accuracy_score, classification_report, confusion_matrix,precision_recall_fscore_support\n",
        "from sklearn.dummy import DummyClassifier\n",
        "from sklearn.naive_bayes import GaussianNB\n",
        "from sklearn.neighbors import KNeighborsClassifier\n",
        "from sklearn.model_selection import cross_val_score, GridSearchCV\n",
        "from sklearn.feature_selection import VarianceThreshold\n",
        "from sklearn.decomposition import PCA\n",
        "from sklearn.pipeline import Pipeline\n",
        "\n",
        "\n",
        "from google.colab import drive\n",
        "drive.mount('/content/drive')"
      ],
      "execution_count": null,
      "outputs": [
        {
          "output_type": "stream",
          "text": [
            "Mounted at /content/drive\n"
          ],
          "name": "stdout"
        }
      ]
    },
    {
      "cell_type": "markdown",
      "metadata": {
        "id": "7DeaaUOsgG7e"
      },
      "source": [
        "#**Μικρό Dataset: S10 - [Statlog (Veichle Silhouettes)](http://archive.ics.uci.edu/ml/datasets/Statlog+%28Vehicle+Silhouettes%29)**\n"
      ]
    },
    {
      "cell_type": "markdown",
      "metadata": {
        "id": "WUccryTw8Cw6"
      },
      "source": [
        "##Βασικές Πληροφορίες"
      ]
    },
    {
      "cell_type": "markdown",
      "metadata": {
        "id": "sGQwBnqu8GsE"
      },
      "source": [
        "1. Με μία σύντομη επισκόπηση βλέπουμε πως το dataset μας αποτελείται από δεδομένα που αφορούν οχήματα διαφορετικών ειδών. Συγκεκριμένα, υπάρχουν 4 κατηγορίες στις οποίες ανήκουν τα αντικείμενα: bus, opel, saab, van. Τα χαρακτηριστικά του κάθε αντικειμένου είναι διάφορα χαρακτηριστικά τα οποία έχουν εξαχθεί από εικόνες που αντιστοιχούν σε οχήματα των παραπάνω κατηγοριών. Τα δεδομένα του dataset βρίσκονται στο αρχείο \"all_data.data\"."
      ]
    },
    {
      "cell_type": "code",
      "metadata": {
        "id": "hbUYA3sSx5rO",
        "colab": {
          "base_uri": "https://localhost:8080/",
          "height": 424
        },
        "outputId": "83c86b99-037f-4fab-9079-70ac5c8b3e7a"
      },
      "source": [
        "path = '/content/drive/My Drive/Colab Notebooks/Neural Networks/Ασκησεις/1η Εργασία/'\n",
        "small_data_path = path+'small_all_data.data'\n",
        "df = pd.read_csv(small_data_path, sep=' ', header=None)\n",
        "df"
      ],
      "execution_count": null,
      "outputs": [
        {
          "output_type": "execute_result",
          "data": {
            "text/html": [
              "<div>\n",
              "<style scoped>\n",
              "    .dataframe tbody tr th:only-of-type {\n",
              "        vertical-align: middle;\n",
              "    }\n",
              "\n",
              "    .dataframe tbody tr th {\n",
              "        vertical-align: top;\n",
              "    }\n",
              "\n",
              "    .dataframe thead th {\n",
              "        text-align: right;\n",
              "    }\n",
              "</style>\n",
              "<table border=\"1\" class=\"dataframe\">\n",
              "  <thead>\n",
              "    <tr style=\"text-align: right;\">\n",
              "      <th></th>\n",
              "      <th>0</th>\n",
              "      <th>1</th>\n",
              "      <th>2</th>\n",
              "      <th>3</th>\n",
              "      <th>4</th>\n",
              "      <th>5</th>\n",
              "      <th>6</th>\n",
              "      <th>7</th>\n",
              "      <th>8</th>\n",
              "      <th>9</th>\n",
              "      <th>10</th>\n",
              "      <th>11</th>\n",
              "      <th>12</th>\n",
              "      <th>13</th>\n",
              "      <th>14</th>\n",
              "      <th>15</th>\n",
              "      <th>16</th>\n",
              "      <th>17</th>\n",
              "      <th>18</th>\n",
              "    </tr>\n",
              "  </thead>\n",
              "  <tbody>\n",
              "    <tr>\n",
              "      <th>0</th>\n",
              "      <td>95</td>\n",
              "      <td>48</td>\n",
              "      <td>83</td>\n",
              "      <td>178</td>\n",
              "      <td>72</td>\n",
              "      <td>10</td>\n",
              "      <td>162</td>\n",
              "      <td>42</td>\n",
              "      <td>20</td>\n",
              "      <td>159</td>\n",
              "      <td>176</td>\n",
              "      <td>379</td>\n",
              "      <td>184</td>\n",
              "      <td>70</td>\n",
              "      <td>6</td>\n",
              "      <td>16</td>\n",
              "      <td>187</td>\n",
              "      <td>197</td>\n",
              "      <td>van</td>\n",
              "    </tr>\n",
              "    <tr>\n",
              "      <th>1</th>\n",
              "      <td>91</td>\n",
              "      <td>41</td>\n",
              "      <td>84</td>\n",
              "      <td>141</td>\n",
              "      <td>57</td>\n",
              "      <td>9</td>\n",
              "      <td>149</td>\n",
              "      <td>45</td>\n",
              "      <td>19</td>\n",
              "      <td>143</td>\n",
              "      <td>170</td>\n",
              "      <td>330</td>\n",
              "      <td>158</td>\n",
              "      <td>72</td>\n",
              "      <td>9</td>\n",
              "      <td>14</td>\n",
              "      <td>189</td>\n",
              "      <td>199</td>\n",
              "      <td>van</td>\n",
              "    </tr>\n",
              "    <tr>\n",
              "      <th>2</th>\n",
              "      <td>104</td>\n",
              "      <td>50</td>\n",
              "      <td>106</td>\n",
              "      <td>209</td>\n",
              "      <td>66</td>\n",
              "      <td>10</td>\n",
              "      <td>207</td>\n",
              "      <td>32</td>\n",
              "      <td>23</td>\n",
              "      <td>158</td>\n",
              "      <td>223</td>\n",
              "      <td>635</td>\n",
              "      <td>220</td>\n",
              "      <td>73</td>\n",
              "      <td>14</td>\n",
              "      <td>9</td>\n",
              "      <td>188</td>\n",
              "      <td>196</td>\n",
              "      <td>saab</td>\n",
              "    </tr>\n",
              "    <tr>\n",
              "      <th>3</th>\n",
              "      <td>93</td>\n",
              "      <td>41</td>\n",
              "      <td>82</td>\n",
              "      <td>159</td>\n",
              "      <td>63</td>\n",
              "      <td>9</td>\n",
              "      <td>144</td>\n",
              "      <td>46</td>\n",
              "      <td>19</td>\n",
              "      <td>143</td>\n",
              "      <td>160</td>\n",
              "      <td>309</td>\n",
              "      <td>127</td>\n",
              "      <td>63</td>\n",
              "      <td>6</td>\n",
              "      <td>10</td>\n",
              "      <td>199</td>\n",
              "      <td>207</td>\n",
              "      <td>van</td>\n",
              "    </tr>\n",
              "    <tr>\n",
              "      <th>4</th>\n",
              "      <td>85</td>\n",
              "      <td>44</td>\n",
              "      <td>70</td>\n",
              "      <td>205</td>\n",
              "      <td>103</td>\n",
              "      <td>52</td>\n",
              "      <td>149</td>\n",
              "      <td>45</td>\n",
              "      <td>19</td>\n",
              "      <td>144</td>\n",
              "      <td>241</td>\n",
              "      <td>325</td>\n",
              "      <td>188</td>\n",
              "      <td>127</td>\n",
              "      <td>9</td>\n",
              "      <td>11</td>\n",
              "      <td>180</td>\n",
              "      <td>183</td>\n",
              "      <td>bus</td>\n",
              "    </tr>\n",
              "    <tr>\n",
              "      <th>...</th>\n",
              "      <td>...</td>\n",
              "      <td>...</td>\n",
              "      <td>...</td>\n",
              "      <td>...</td>\n",
              "      <td>...</td>\n",
              "      <td>...</td>\n",
              "      <td>...</td>\n",
              "      <td>...</td>\n",
              "      <td>...</td>\n",
              "      <td>...</td>\n",
              "      <td>...</td>\n",
              "      <td>...</td>\n",
              "      <td>...</td>\n",
              "      <td>...</td>\n",
              "      <td>...</td>\n",
              "      <td>...</td>\n",
              "      <td>...</td>\n",
              "      <td>...</td>\n",
              "      <td>...</td>\n",
              "    </tr>\n",
              "    <tr>\n",
              "      <th>841</th>\n",
              "      <td>93</td>\n",
              "      <td>39</td>\n",
              "      <td>87</td>\n",
              "      <td>183</td>\n",
              "      <td>64</td>\n",
              "      <td>8</td>\n",
              "      <td>169</td>\n",
              "      <td>40</td>\n",
              "      <td>20</td>\n",
              "      <td>134</td>\n",
              "      <td>200</td>\n",
              "      <td>422</td>\n",
              "      <td>149</td>\n",
              "      <td>72</td>\n",
              "      <td>7</td>\n",
              "      <td>25</td>\n",
              "      <td>188</td>\n",
              "      <td>195</td>\n",
              "      <td>saab</td>\n",
              "    </tr>\n",
              "    <tr>\n",
              "      <th>842</th>\n",
              "      <td>89</td>\n",
              "      <td>46</td>\n",
              "      <td>84</td>\n",
              "      <td>163</td>\n",
              "      <td>66</td>\n",
              "      <td>11</td>\n",
              "      <td>159</td>\n",
              "      <td>43</td>\n",
              "      <td>20</td>\n",
              "      <td>159</td>\n",
              "      <td>173</td>\n",
              "      <td>368</td>\n",
              "      <td>176</td>\n",
              "      <td>72</td>\n",
              "      <td>1</td>\n",
              "      <td>20</td>\n",
              "      <td>186</td>\n",
              "      <td>197</td>\n",
              "      <td>van</td>\n",
              "    </tr>\n",
              "    <tr>\n",
              "      <th>843</th>\n",
              "      <td>106</td>\n",
              "      <td>54</td>\n",
              "      <td>101</td>\n",
              "      <td>222</td>\n",
              "      <td>67</td>\n",
              "      <td>12</td>\n",
              "      <td>222</td>\n",
              "      <td>30</td>\n",
              "      <td>25</td>\n",
              "      <td>173</td>\n",
              "      <td>228</td>\n",
              "      <td>721</td>\n",
              "      <td>200</td>\n",
              "      <td>70</td>\n",
              "      <td>3</td>\n",
              "      <td>4</td>\n",
              "      <td>187</td>\n",
              "      <td>201</td>\n",
              "      <td>saab</td>\n",
              "    </tr>\n",
              "    <tr>\n",
              "      <th>844</th>\n",
              "      <td>86</td>\n",
              "      <td>36</td>\n",
              "      <td>78</td>\n",
              "      <td>146</td>\n",
              "      <td>58</td>\n",
              "      <td>7</td>\n",
              "      <td>135</td>\n",
              "      <td>50</td>\n",
              "      <td>18</td>\n",
              "      <td>124</td>\n",
              "      <td>155</td>\n",
              "      <td>270</td>\n",
              "      <td>148</td>\n",
              "      <td>66</td>\n",
              "      <td>0</td>\n",
              "      <td>25</td>\n",
              "      <td>190</td>\n",
              "      <td>195</td>\n",
              "      <td>saab</td>\n",
              "    </tr>\n",
              "    <tr>\n",
              "      <th>845</th>\n",
              "      <td>85</td>\n",
              "      <td>36</td>\n",
              "      <td>66</td>\n",
              "      <td>123</td>\n",
              "      <td>55</td>\n",
              "      <td>5</td>\n",
              "      <td>120</td>\n",
              "      <td>56</td>\n",
              "      <td>17</td>\n",
              "      <td>128</td>\n",
              "      <td>140</td>\n",
              "      <td>212</td>\n",
              "      <td>131</td>\n",
              "      <td>73</td>\n",
              "      <td>1</td>\n",
              "      <td>18</td>\n",
              "      <td>186</td>\n",
              "      <td>190</td>\n",
              "      <td>van</td>\n",
              "    </tr>\n",
              "  </tbody>\n",
              "</table>\n",
              "<p>846 rows × 19 columns</p>\n",
              "</div>"
            ],
            "text/plain": [
              "      0   1    2    3    4   5    6   7   ...   11   12   13  14  15   16   17    18\n",
              "0     95  48   83  178   72  10  162  42  ...  379  184   70   6  16  187  197   van\n",
              "1     91  41   84  141   57   9  149  45  ...  330  158   72   9  14  189  199   van\n",
              "2    104  50  106  209   66  10  207  32  ...  635  220   73  14   9  188  196  saab\n",
              "3     93  41   82  159   63   9  144  46  ...  309  127   63   6  10  199  207   van\n",
              "4     85  44   70  205  103  52  149  45  ...  325  188  127   9  11  180  183   bus\n",
              "..   ...  ..  ...  ...  ...  ..  ...  ..  ...  ...  ...  ...  ..  ..  ...  ...   ...\n",
              "841   93  39   87  183   64   8  169  40  ...  422  149   72   7  25  188  195  saab\n",
              "842   89  46   84  163   66  11  159  43  ...  368  176   72   1  20  186  197   van\n",
              "843  106  54  101  222   67  12  222  30  ...  721  200   70   3   4  187  201  saab\n",
              "844   86  36   78  146   58   7  135  50  ...  270  148   66   0  25  190  195  saab\n",
              "845   85  36   66  123   55   5  120  56  ...  212  131   73   1  18  186  190   van\n",
              "\n",
              "[846 rows x 19 columns]"
            ]
          },
          "metadata": {
            "tags": []
          },
          "execution_count": 4
        }
      ]
    },
    {
      "cell_type": "markdown",
      "metadata": {
        "id": "bMS-Pn6m8Y3r"
      },
      "source": [
        "2. Έχουμε 846 δείγματα. Κάθε δείγμα έχει 18 χαρακτηριστικά, τα οποία όπως αναφέραμε είναι διάφορα χαρακτηριστικά που εξήχθησαν από τις εικόνες οχημάτων που ανήκουν σε αυτές τις κατηγορίες. Όλα τα χαρακτηριστικά είναι αριθμητικά. Πρόκειται για διάφορες μετρικές (πχ. κυκλικότητα, ορθογωνιότητα, διάφοροι λόγοι, διασπορές κτλ.) συνεπώς θεωρούμε πως είναι όλα διατεταγμένα. \n",
        "\n",
        "3. Στα αρχεία του dataset δεν υπήρχε κάποια αρίθμηση ή κεφαλίδα, μόνο τα δεδομένα.\n",
        "\n",
        "4. Οι ετικέτες των κλάσεων είναι οι 4 που αναφέρθηκαν παραπάνω (bus, opel, saab, van) και βρίσκονται στην τελευταία κολόνα. \n",
        "\n",
        "5. Δε χρειάστηκε κάποια μετατροπή στα text αρχεία, μόνο η συνένωσή τους σε ένα, η οποία έγινε χειροκίνητα.\n",
        "\n",
        "6. Όσον αφορά τις τιμές των χαρακτηριστικών δεν υπήρχαν απουσιάζουσες τιμές (lucky us) "
      ]
    },
    {
      "cell_type": "code",
      "metadata": {
        "id": "lN2pNX3KyNmq",
        "colab": {
          "base_uri": "https://localhost:8080/"
        },
        "outputId": "506f265c-e587-4e1a-b4e6-1ac53fc99971"
      },
      "source": [
        "labels_df = df.iloc[:,[-1]] #Τα labels βρισκονται στην τελευταία στήλη\n",
        "features_df = df.iloc[:,:18] #18 attributes, στις στήλες 0-17.\n",
        "\n",
        "np_features=features_df.values #Μετατρέπουμε το dataframe σε np array\n",
        "print(np_features.shape)"
      ],
      "execution_count": null,
      "outputs": [
        {
          "output_type": "stream",
          "text": [
            "(846, 18)\n"
          ],
          "name": "stdout"
        }
      ]
    },
    {
      "cell_type": "markdown",
      "metadata": {
        "id": "llUjsPHY2P60"
      },
      "source": [
        "Όπως βλέπουμε στο output του παρακάτω κελιού κώδικα, τα αντικείμενα μας ανήκουν στις κατηγορίες bus, opel, saab, van.\n",
        "Θα χρησιμοποιήσουμε το εξής mapping:\n",
        "\n",
        "0:bus \n",
        "\n",
        "1:opel\n",
        "\n",
        "2:saab\n",
        "\n",
        "3:van\n"
      ]
    },
    {
      "cell_type": "code",
      "metadata": {
        "id": "_6auamSV2vUr",
        "colab": {
          "base_uri": "https://localhost:8080/"
        },
        "outputId": "405e8801-480e-490d-d207-1bdae097bb5b"
      },
      "source": [
        "unique_labels = np.unique(labels_df.values) #Παίρνουμε τη λίστα με τα ονόματα των κλάσεων των αντικειμένων μας.\n",
        "print(unique_labels)\n",
        "mapping = {'bus' : 0, 'opel' : 1, 'saab' : 2, 'van' : 3}\n",
        "np_labels =  labels_df.replace(mapping).values.flatten()\n",
        "print(np_labels)\n",
        "print(np_labels.shape)"
      ],
      "execution_count": null,
      "outputs": [
        {
          "output_type": "stream",
          "text": [
            "['bus' 'opel' 'saab' 'van']\n",
            "[3 3 2 3 0 0 0 3 3 2 3 2 0 3 0 1 3 0 2 1 0 3 0 0 2 3 2 2 0 2 3 2 1 1 1 3 0\n",
            " 3 2 0 1 3 3 2 2 3 3 0 3 2 2 2 1 0 0 3 2 3 1 3 1 1 3 0 0 1 0 1 3 0 1 1 1 1\n",
            " 3 1 2 2 0 0 0 0 3 1 0 0 3 3 0 1 2 1 2 3 0 1 2 0 1 0 0 3 3 3 0 2 1 1 0 0 3\n",
            " 3 1 1 3 3 1 2 0 0 2 3 3 2 3 3 0 0 3 0 2 2 2 3 1 3 3 3 2 3 2 0 1 0 1 1 3 0\n",
            " 2 3 2 0 1 2 3 0 1 3 2 1 1 1 2 2 1 1 2 2 0 3 1 0 3 0 3 0 1 0 0 3 2 1 0 2 2\n",
            " 0 0 1 1 1 1 3 2 0 2 0 2 0 0 0 3 2 1 1 3 3 1 0 0 1 1 3 0 0 1 1 2 1 0 3 1 3\n",
            " 0 0 2 3 2 3 2 2 3 2 0 2 3 3 0 0 1 0 1 1 0 2 3 3 0 2 1 2 3 1 3 0 3 2 2 1 2\n",
            " 1 2 2 3 3 2 0 0 2 3 3 0 2 3 3 0 0 0 1 2 0 1 0 0 2 3 2 0 3 1 2 3 3 0 3 0 0\n",
            " 0 2 2 0 2 1 0 3 0 0 2 1 1 1 2 3 0 1 0 3 3 2 3 0 2 0 0 2 2 0 1 1 3 2 3 1 1\n",
            " 0 0 2 3 0 3 0 0 1 2 1 1 0 2 1 3 1 1 2 3 0 2 1 0 2 1 1 2 2 2 3 1 2 3 2 0 1\n",
            " 0 0 3 0 3 0 2 2 2 1 1 0 0 1 1 3 2 3 3 1 0 3 3 0 2 1 0 0 0 3 2 1 1 3 1 0 1\n",
            " 2 0 2 2 1 0 1 3 1 0 0 0 2 3 1 2 0 1 1 1 1 2 3 2 0 2 0 2 3 3 1 1 2 2 3 3 1\n",
            " 0 3 2 1 0 3 0 1 1 0 2 0 3 3 1 2 3 1 1 1 0 0 0 1 2 3 3 1 0 1 1 2 1 3 0 0 2\n",
            " 1 1 3 3 0 1 2 1 1 2 2 0 1 0 0 1 3 3 1 1 1 1 2 1 2 2 1 3 1 0 1 1 2 3 1 1 2\n",
            " 2 3 2 3 2 3 1 2 2 1 0 0 2 0 2 3 3 3 2 3 1 0 0 3 2 2 0 3 3 0 0 2 3 1 2 0 2\n",
            " 1 0 2 0 2 1 1 2 1 0 2 2 2 0 3 2 2 3 3 1 2 2 1 1 1 0 3 2 2 0 3 1 1 1 1 0 1\n",
            " 0 2 3 1 1 3 0 2 0 3 1 2 1 2 3 3 1 0 1 3 1 0 2 1 1 3 3 1 2 3 2 2 2 2 0 0 0\n",
            " 3 2 1 0 1 1 3 2 0 0 1 1 0 2 0 3 1 0 2 2 2 2 2 1 1 2 3 0 3 3 2 3 2 2 2 3 3\n",
            " 1 2 3 0 1 1 0 1 2 1 0 0 0 0 3 0 3 0 0 0 1 0 2 2 2 0 2 3 2 3 2 0 0 1 1 2 1\n",
            " 3 1 2 3 3 3 1 0 2 2 2 0 1 2 0 1 2 1 2 3 1 3 3 2 0 1 1 1 0 3 0 3 1 2 0 0 3\n",
            " 2 0 1 2 3 0 3 0 3 2 2 3 0 2 3 3 2 2 0 3 1 2 3 1 2 0 2 0 1 2 0 1 1 0 3 0 2\n",
            " 0 2 3 2 3 1 2 3 0 2 3 2 2 0 3 1 0 0 3 1 2 1 0 3 1 1 0 1 0 2 2 0 2 1 1 0 3\n",
            " 0 0 3 2 1 2 2 1 3 1 1 1 1 1 3 3 0 0 2 2 2 0 3 2 3 3 1 2 3 2 2 3]\n",
            "(846,)\n"
          ],
          "name": "stdout"
        }
      ]
    },
    {
      "cell_type": "markdown",
      "metadata": {
        "id": "8zAO0AQLBOKO"
      },
      "source": [
        "7. Βλεπουμε πως κάθε κλάση έχει τα παρακάτω στιγμιότυπα επί του συνόλου:\n",
        "\n",
        "  bus: 218\n",
        "\n",
        "  opel: 212\n",
        "\n",
        "  saab: 217\n",
        "\n",
        "  van: 199\n",
        "\n",
        "  Το dataset μας είναι ισορροπημένο, αφού instances_max/instances_min = 218/199=1.095 < 1.5"
      ]
    },
    {
      "cell_type": "code",
      "metadata": {
        "id": "U0xCYaSQBZec",
        "colab": {
          "base_uri": "https://localhost:8080/"
        },
        "outputId": "2d3f5e8c-2d0b-42c1-f274-79531a3202ca"
      },
      "source": [
        "from collections import Counter\n",
        "instances_per_class = Counter(np_labels)\n",
        "print(instances_per_class)"
      ],
      "execution_count": null,
      "outputs": [
        {
          "output_type": "stream",
          "text": [
            "Counter({0: 218, 2: 217, 1: 212, 3: 199})\n"
          ],
          "name": "stdout"
        }
      ]
    },
    {
      "cell_type": "markdown",
      "metadata": {
        "id": "kXPYWa9oNK8c"
      },
      "source": [
        "8. Χωρίζουμε το dataset σε train και test set. Δεν υπάρχουν απουσιάζουσες τιμές ή μη διατεταγμένεα χαρακτηριστικά, συνεπώς προχωράμε κατευθείαν στο διαχωρισμό (20% για test set)."
      ]
    },
    {
      "cell_type": "code",
      "metadata": {
        "id": "eX80wgC5Nsic",
        "colab": {
          "base_uri": "https://localhost:8080/"
        },
        "outputId": "dcd12f48-c9e3-4083-a2eb-bf001fddd4c7"
      },
      "source": [
        "from sklearn.model_selection import train_test_split\n",
        "\n",
        "# Split our data\n",
        "train_data, test_data, train_labels, test_labels = train_test_split(np_features, np_labels, test_size=0.2)\n",
        "instances_per_class = Counter(train_labels)\n",
        "print(instances_per_class)"
      ],
      "execution_count": null,
      "outputs": [
        {
          "output_type": "stream",
          "text": [
            "Counter({2: 176, 0: 172, 1: 168, 3: 160})\n"
          ],
          "name": "stdout"
        }
      ]
    },
    {
      "cell_type": "markdown",
      "metadata": {
        "id": "1_L4u9l4ONEr"
      },
      "source": [
        "##Ταξινόμηση\n",
        "Οι ταξινομητές που εξετάζουμε σε αυτό το dataset είναι οι: dummy, Gaussian Naive Bayes, kNN."
      ]
    },
    {
      "cell_type": "markdown",
      "metadata": {
        "id": "DKnx8iOnBJlC"
      },
      "source": [
        "###Baseline Classification"
      ]
    },
    {
      "cell_type": "code",
      "metadata": {
        "id": "6Vkm6rE9eaXf"
      },
      "source": [
        "#Xρησιμοποιούμε την παρακάτω συνάρτηση για να απεικονίσουμε χρωματικά το confusion matrix \n",
        "def view_conf_matrix(cnf_matrix, labels, cmap='gray'):\n",
        "  fix, ax = plt.subplots(figsize=(6,6))\n",
        "  ax.set_xticks(range(0,len(cnf_matrix)))\n",
        "  ax.set_yticks(range(0,len(cnf_matrix)))\n",
        "  ax.set_xticklabels(labels, size=11)\n",
        "  ax.set_yticklabels(labels, size=11)\n",
        "  ax.xaxis.tick_top()\n",
        "  for i in range(len(labels)):\n",
        "    for j in range(len(labels)):\n",
        "      text = ax.text(j,i,cnf_matrix[i,j],ha='center',va='center',color='black')\n",
        "  ax.imshow(cnf_matrix,cmap=cmap)"
      ],
      "execution_count": null,
      "outputs": []
    },
    {
      "cell_type": "markdown",
      "metadata": {
        "id": "mQ_hKHnrWkj6"
      },
      "source": [
        "####Dummy Classifiers\n",
        "Θα χρησιμοποιήσυμε όλες τις γνωστές στρατηγικές επιλογής για τους dummy classifiers εκτός από την constant"
      ]
    },
    {
      "cell_type": "markdown",
      "metadata": {
        "id": "MXmQyL9dk9j2"
      },
      "source": [
        "Dummy Uniform Classifier"
      ]
    },
    {
      "cell_type": "code",
      "metadata": {
        "id": "6FXRDrZ0OiP9",
        "colab": {
          "base_uri": "https://localhost:8080/",
          "height": 467
        },
        "outputId": "0652a7a5-de70-41d9-d9fd-5f0a181794dc"
      },
      "source": [
        "dummy_uniform = DummyClassifier(strategy='uniform')\n",
        "\n",
        "dummy_uniform_model = dummy_uniform.fit(train_data, train_labels)\n",
        "dummy_uniform_preds = dummy_uniform.predict(test_data)\n",
        "\n",
        "cnf_matrix = confusion_matrix(test_labels, dummy_uniform_preds)\n",
        "print(\"Confusion Matrix for Dummy Uniform Classifier:\\n\",cnf_matrix)\n",
        "\n",
        "view_conf_matrix(cnf_matrix, unique_labels, cmap='Blues')"
      ],
      "execution_count": null,
      "outputs": [
        {
          "output_type": "stream",
          "text": [
            "Confusion Matrix for Dummy Uniform Classifier:\n",
            " [[11 15  7 13]\n",
            " [12 14  8 10]\n",
            " [10 11 13  7]\n",
            " [ 5 14  7 13]]\n"
          ],
          "name": "stdout"
        },
        {
          "output_type": "display_data",
          "data": {
            "image/png": "[encoded data removed]",
            "text/plain": [
              "<Figure size 432x432 with 1 Axes>"
            ]
          },
          "metadata": {
            "tags": [],
            "needs_background": "light"
          }
        }
      ]
    },
    {
      "cell_type": "code",
      "metadata": {
        "id": "bzWVGN2y0BRc",
        "colab": {
          "base_uri": "https://localhost:8080/"
        },
        "outputId": "32d60077-ca9e-45cf-8c6d-c5390dd7eb91"
      },
      "source": [
        "f1_micro_du = precision_recall_fscore_support(test_labels, dummy_uniform_preds, average='micro')[2]\n",
        "f1_macro_du = precision_recall_fscore_support(test_labels, dummy_uniform_preds, average='macro')[2]\n",
        "\n",
        "print(\"Dummy Uniform Classifier:\\t f1_micro:\"+str(f1_micro_du)[:5]+\"\\t f1_macro:\"+str(f1_macro_du)[:5]+'\\n')\n",
        "\n",
        "print(classification_report(test_labels, dummy_uniform_preds , target_names=unique_labels))"
      ],
      "execution_count": null,
      "outputs": [
        {
          "output_type": "stream",
          "text": [
            "Dummy Uniform Classifier:\t f1_micro:0.3\t f1_macro:0.301\n",
            "\n",
            "              precision    recall  f1-score   support\n",
            "\n",
            "         bus       0.29      0.24      0.26        46\n",
            "        opel       0.26      0.32      0.29        44\n",
            "        saab       0.37      0.32      0.34        41\n",
            "         van       0.30      0.33      0.32        39\n",
            "\n",
            "    accuracy                           0.30       170\n",
            "   macro avg       0.31      0.30      0.30       170\n",
            "weighted avg       0.30      0.30      0.30       170\n",
            "\n"
          ],
          "name": "stdout"
        }
      ]
    },
    {
      "cell_type": "markdown",
      "metadata": {
        "id": "VRxp7U-qlFtm"
      },
      "source": [
        "Dummy Most Frequent Classifier"
      ]
    },
    {
      "cell_type": "code",
      "metadata": {
        "id": "z1fRc_96ktcN",
        "colab": {
          "base_uri": "https://localhost:8080/",
          "height": 467
        },
        "outputId": "cfcdf1f1-20b2-44f1-d352-441f482b0b2c"
      },
      "source": [
        "dummy_mostFrequent = DummyClassifier(strategy='most_frequent')\n",
        "\n",
        "dummy_mostFrequent_model = dummy_mostFrequent.fit(train_data, train_labels)\n",
        "dummy_mostFrequent_preds = dummy_mostFrequent.predict(test_data)\n",
        "\n",
        "cnf_matrix = confusion_matrix(test_labels, dummy_mostFrequent_preds)\n",
        "print(\"Confusion Matrix for Dummy Most Frequent Classifier:\\n\",cnf_matrix)\n",
        "\n",
        "view_conf_matrix(cnf_matrix, unique_labels, cmap='Blues')"
      ],
      "execution_count": null,
      "outputs": [
        {
          "output_type": "stream",
          "text": [
            "Confusion Matrix for Dummy Most Frequent Classifier:\n",
            " [[ 0  0 46  0]\n",
            " [ 0  0 44  0]\n",
            " [ 0  0 41  0]\n",
            " [ 0  0 39  0]]\n"
          ],
          "name": "stdout"
        },
        {
          "output_type": "display_data",
          "data": {
            "image/png": "[encoded data removed]",
            "text/plain": [
              "<Figure size 432x432 with 1 Axes>"
            ]
          },
          "metadata": {
            "tags": [],
            "needs_background": "light"
          }
        }
      ]
    },
    {
      "cell_type": "code",
      "metadata": {
        "id": "Gr3zqTOx1ILC",
        "colab": {
          "base_uri": "https://localhost:8080/"
        },
        "outputId": "08309a61-5fbb-4603-9557-3270a9dac09f"
      },
      "source": [
        "f1_micro_dmf = precision_recall_fscore_support(test_labels, dummy_mostFrequent_preds, average='micro')[2]\n",
        "f1_macro_dmf = precision_recall_fscore_support(test_labels, dummy_mostFrequent_preds, average='macro')[2]\n",
        "\n",
        "print(\"Dummy Most Frequent Classifier:\\t f1_micro:\"+str(f1_micro_dmf)[:5]+\"\\t f1_macro:\"+str(f1_macro_dmf)[:5]+'\\n')\n",
        "\n",
        "print(classification_report(test_labels, dummy_mostFrequent_preds , target_names=unique_labels))"
      ],
      "execution_count": null,
      "outputs": [
        {
          "output_type": "stream",
          "text": [
            "Dummy Most Frequent Classifier:\t f1_micro:0.241\t f1_macro:0.097\n",
            "\n",
            "              precision    recall  f1-score   support\n",
            "\n",
            "         bus       0.00      0.00      0.00        46\n",
            "        opel       0.00      0.00      0.00        44\n",
            "        saab       0.24      1.00      0.39        41\n",
            "         van       0.00      0.00      0.00        39\n",
            "\n",
            "    accuracy                           0.24       170\n",
            "   macro avg       0.06      0.25      0.10       170\n",
            "weighted avg       0.06      0.24      0.09       170\n",
            "\n"
          ],
          "name": "stdout"
        },
        {
          "output_type": "stream",
          "text": [
            "/usr/local/lib/python3.6/dist-packages/sklearn/metrics/_classification.py:1272: UndefinedMetricWarning: Precision and F-score are ill-defined and being set to 0.0 in labels with no predicted samples. Use `zero_division` parameter to control this behavior.\n",
            "  _warn_prf(average, modifier, msg_start, len(result))\n"
          ],
          "name": "stderr"
        }
      ]
    },
    {
      "cell_type": "markdown",
      "metadata": {
        "id": "aGROpIeurzbs"
      },
      "source": [
        "Dummy Stratified"
      ]
    },
    {
      "cell_type": "code",
      "metadata": {
        "id": "k9Ou5IY_r7BV",
        "colab": {
          "base_uri": "https://localhost:8080/",
          "height": 467
        },
        "outputId": "80535073-c593-482e-fff9-f89987b150c1"
      },
      "source": [
        "dummy_stratified = DummyClassifier(strategy='stratified')\n",
        "\n",
        "dummy_stratified_model = dummy_stratified.fit(train_data, train_labels)\n",
        "dummy_stratified_preds = dummy_stratified.predict(test_data)\n",
        "\n",
        "cnf_matrix = confusion_matrix(test_labels, dummy_stratified_preds)\n",
        "print(\"Confusion Matrix for Dummy Stratified Classifier:\\n\",cnf_matrix)\n",
        "\n",
        "view_conf_matrix(cnf_matrix, unique_labels, cmap='Blues')"
      ],
      "execution_count": null,
      "outputs": [
        {
          "output_type": "stream",
          "text": [
            "Confusion Matrix for Dummy Stratified Classifier:\n",
            " [[ 8 14  9 15]\n",
            " [ 9 17  9  9]\n",
            " [13 12 10  6]\n",
            " [12 14  7  6]]\n"
          ],
          "name": "stdout"
        },
        {
          "output_type": "display_data",
          "data": {
            "image/png": "[encoded data removed]",
            "text/plain": [
              "<Figure size 432x432 with 1 Axes>"
            ]
          },
          "metadata": {
            "tags": [],
            "needs_background": "light"
          }
        }
      ]
    },
    {
      "cell_type": "code",
      "metadata": {
        "id": "r7xpGhmZ1jUm",
        "colab": {
          "base_uri": "https://localhost:8080/"
        },
        "outputId": "378a583c-f5b0-4c84-9a1e-d882305263cc"
      },
      "source": [
        "f1_micro_ds = precision_recall_fscore_support(test_labels, dummy_stratified_preds, average='micro')[2]\n",
        "f1_macro_ds = precision_recall_fscore_support(test_labels, dummy_stratified_preds, average='macro')[2]\n",
        "\n",
        "print(\"Dummy Most Frequent Classifier:\\t f1_micro:\"+str(f1_micro_ds)[:5]+\"\\t f1_macro:\"+str(f1_macro_ds)[:5]+'\\n')\n",
        "\n",
        "print(classification_report(test_labels, dummy_stratified_preds , target_names=unique_labels))"
      ],
      "execution_count": null,
      "outputs": [
        {
          "output_type": "stream",
          "text": [
            "Dummy Most Frequent Classifier:\t f1_micro:0.241\t f1_macro:0.235\n",
            "\n",
            "              precision    recall  f1-score   support\n",
            "\n",
            "         bus       0.19      0.17      0.18        46\n",
            "        opel       0.30      0.39      0.34        44\n",
            "        saab       0.29      0.24      0.26        41\n",
            "         van       0.17      0.15      0.16        39\n",
            "\n",
            "    accuracy                           0.24       170\n",
            "   macro avg       0.24      0.24      0.24       170\n",
            "weighted avg       0.24      0.24      0.24       170\n",
            "\n"
          ],
          "name": "stdout"
        }
      ]
    },
    {
      "cell_type": "markdown",
      "metadata": {
        "id": "3q0H3dKPjmN0"
      },
      "source": [
        "Γενικα βλεπουμε πως οι dummy classifiers έχουν πολύ χαμηλά ποσοστά επιτυχίας και γενικα δεν εχουν και πολυ νοημα, παρα μονο στο να καταλαβουμε ποσο γτπ ειναι\n"
      ]
    },
    {
      "cell_type": "markdown",
      "metadata": {
        "id": "Cb5L-EsuWqtA"
      },
      "source": [
        "#### Gaussian Naive Bayes Classifier"
      ]
    },
    {
      "cell_type": "code",
      "metadata": {
        "id": "2q25WupYWvTn",
        "colab": {
          "base_uri": "https://localhost:8080/",
          "height": 467
        },
        "outputId": "d1edfc1a-f476-4e38-daa0-b957883b729f"
      },
      "source": [
        "gnb = GaussianNB()\n",
        "\n",
        "gnb_model = gnb.fit(train_data, train_labels)\n",
        "gnb_preds = gnb.predict(test_data)\n",
        "\n",
        "cnf_matrix_gnb = confusion_matrix(test_labels, gnb_preds)\n",
        "print(\"Gaussian Naive Bayes Classifier:\\n\",cnf_matrix_gnb)\n",
        "\n",
        "view_conf_matrix(cnf_matrix_gnb, unique_labels, cmap='Blues')"
      ],
      "execution_count": null,
      "outputs": [
        {
          "output_type": "stream",
          "text": [
            "Gaussian Naive Bayes Classifier:\n",
            " [[ 7  7  1 31]\n",
            " [ 1 20  9 14]\n",
            " [ 0 14 13 14]\n",
            " [ 0  0  2 37]]\n"
          ],
          "name": "stdout"
        },
        {
          "output_type": "display_data",
          "data": {
            "image/png": "[encoded data removed]",
            "text/plain": [
              "<Figure size 432x432 with 1 Axes>"
            ]
          },
          "metadata": {
            "tags": [],
            "needs_background": "light"
          }
        }
      ]
    },
    {
      "cell_type": "code",
      "metadata": {
        "id": "MzHuiJSx5fVK",
        "colab": {
          "base_uri": "https://localhost:8080/"
        },
        "outputId": "72f6fe8b-70ea-4d72-8532-42fc242d3c2e"
      },
      "source": [
        "f1_micro_gnb = precision_recall_fscore_support(test_labels, gnb_preds, average='micro')[2]\n",
        "f1_macro_gnb = precision_recall_fscore_support(test_labels, gnb_preds, average='macro')[2]\n",
        "\n",
        "print(\"Gaussian Naive Bayes Classifier:\\t f1_micro:\"+str(f1_micro_gnb)[:5]+\"\\t f1_macro:\"+str(f1_macro_gnb)[:5]+'\\n')\n",
        "\n",
        "print(classification_report(test_labels, gnb_preds , target_names=unique_labels))"
      ],
      "execution_count": null,
      "outputs": [
        {
          "output_type": "stream",
          "text": [
            "Gaussian Naive Bayes Classifier:\t f1_micro:0.452\t f1_macro:0.417\n",
            "\n",
            "              precision    recall  f1-score   support\n",
            "\n",
            "         bus       0.88      0.15      0.26        46\n",
            "        opel       0.49      0.45      0.47        44\n",
            "        saab       0.52      0.32      0.39        41\n",
            "         van       0.39      0.95      0.55        39\n",
            "\n",
            "    accuracy                           0.45       170\n",
            "   macro avg       0.57      0.47      0.42       170\n",
            "weighted avg       0.58      0.45      0.41       170\n",
            "\n"
          ],
          "name": "stdout"
        }
      ]
    },
    {
      "cell_type": "markdown",
      "metadata": {
        "id": "HWU19JTbWvv3"
      },
      "source": [
        "#### kNN Classifier"
      ]
    },
    {
      "cell_type": "code",
      "metadata": {
        "id": "WB6r4J25W14w",
        "colab": {
          "base_uri": "https://localhost:8080/",
          "height": 467
        },
        "outputId": "14c9ffc4-93fe-4eca-e139-8317de64364c"
      },
      "source": [
        "knn = KNeighborsClassifier()  #Η default τιμη του k είναι 5. Θα βελτιστοποιηθεί σε επόμενο βήμα\n",
        "knn_model = knn.fit(train_data, train_labels)\n",
        "knn_preds = knn.predict(test_data)\n",
        "\n",
        "cnf_matrix_knn = confusion_matrix(test_labels, knn_preds)\n",
        "print(\"kNN Classifier (k=5):\\n\",cnf_matrix_knn)\n",
        "\n",
        "view_conf_matrix(cnf_matrix, unique_labels, cmap='Blues')"
      ],
      "execution_count": null,
      "outputs": [
        {
          "output_type": "stream",
          "text": [
            "kNN Classifier (k=5):\n",
            " [[38  4  3  1]\n",
            " [ 3 22 13  6]\n",
            " [ 5 18 15  3]\n",
            " [ 3  0  1 35]]\n"
          ],
          "name": "stdout"
        },
        {
          "output_type": "display_data",
          "data": {
            "image/png": "[encoded data removed]",
            "text/plain": [
              "<Figure size 432x432 with 1 Axes>"
            ]
          },
          "metadata": {
            "tags": [],
            "needs_background": "light"
          }
        }
      ]
    },
    {
      "cell_type": "code",
      "metadata": {
        "id": "juL88R3rtZbZ",
        "colab": {
          "base_uri": "https://localhost:8080/"
        },
        "outputId": "6925cbbc-c40f-4b41-8958-261375012dd3"
      },
      "source": [
        "f1_micro_knn = precision_recall_fscore_support(test_labels, knn_preds, average='micro')[2]\n",
        "f1_macro_knn = precision_recall_fscore_support(test_labels, knn_preds, average='macro')[2]\n",
        "\n",
        "print(\"kΝΝ Classifier:\\t f1_micro:\"+str(f1_micro_knn)[:5]+\"\\t f1_macro:\"+str(f1_macro_knn)[:5]+'\\n')\n",
        "\n",
        "print(classification_report(test_labels, knn_preds , target_names=unique_labels))"
      ],
      "execution_count": null,
      "outputs": [
        {
          "output_type": "stream",
          "text": [
            "kΝΝ Classifier:\t f1_micro:0.647\t f1_macro:0.636\n",
            "\n",
            "              precision    recall  f1-score   support\n",
            "\n",
            "         bus       0.78      0.83      0.80        46\n",
            "        opel       0.50      0.50      0.50        44\n",
            "        saab       0.47      0.37      0.41        41\n",
            "         van       0.78      0.90      0.83        39\n",
            "\n",
            "    accuracy                           0.65       170\n",
            "   macro avg       0.63      0.65      0.64       170\n",
            "weighted avg       0.63      0.65      0.64       170\n",
            "\n"
          ],
          "name": "stdout"
        }
      ]
    },
    {
      "cell_type": "markdown",
      "metadata": {
        "id": "CD3PNO7VECxx"
      },
      "source": [
        "#### Σύγκριση και σχολιασμός Αποτελεσμάτων"
      ]
    },
    {
      "cell_type": "code",
      "metadata": {
        "id": "T-XhncSaCOJi",
        "colab": {
          "base_uri": "https://localhost:8080/",
          "height": 562
        },
        "outputId": "547b1049-673d-404c-e7f0-1b8d3aba8f56"
      },
      "source": [
        "classifiers=[\"Dummy\\nUniform\",\"Dummy\\nMost\\nFrequent\",\"Dummy\\nStratified\",\"Gauss\\nNaive\\nBayes\",\"kNN\"]\n",
        "\n",
        "f1_micros_def=[f1_micro_du, f1_micro_dmf, f1_micro_ds, f1_micro_gnb, f1_micro_knn]\n",
        "f1_macros_def=[f1_macro_du, f1_macro_dmf, f1_macro_ds, f1_macro_gnb, f1_macro_knn]\n",
        "\n",
        "fig, ax = plt.subplots(figsize = (10,8))\n",
        "ax.grid(True)\n",
        "xax=np.arange(len(classifiers))\n",
        "ax.set_xticks(xax)\n",
        "ax.set_xticklabels(classifiers, size=13)\n",
        "ax.set_xlabel('Classifiers', size=20)\n",
        "ax.set_ylim(0,1)\n",
        "ax.set_ylabel(\"Accuracy\", size=20)\n",
        "\n",
        "ax.bar(xax-0.3,f1_micros_def, label='F1 MICRO',align='edge',width=0.3, color='blue' )\n",
        "ax.bar(xax, f1_macros_def, label='F1 MACRO',align='edge',width=0.3, color='green' )\n",
        "plt.legend()\n"
      ],
      "execution_count": null,
      "outputs": [
        {
          "output_type": "execute_result",
          "data": {
            "text/plain": [
              "<matplotlib.legend.Legend at 0x7fe0a30ea7b8>"
            ]
          },
          "metadata": {
            "tags": []
          },
          "execution_count": 20
        },
        {
          "output_type": "display_data",
          "data": {
            "image/png": "[encoded data removed]",
            "text/plain": [
              "<Figure size 720x576 with 1 Axes>"
            ]
          },
          "metadata": {
            "tags": [],
            "needs_background": "light"
          }
        }
      ]
    },
    {
      "cell_type": "markdown",
      "metadata": {
        "id": "46wqbD-2BAF_"
      },
      "source": [
        "Όπως εύκολα παρατηρούμε, ο kNN έχει πολύ καλύτερες επιδόσεις από όλους τους ταξινομητές."
      ]
    },
    {
      "cell_type": "markdown",
      "metadata": {
        "id": "W7axJcC2BgX-"
      },
      "source": [
        "### Βελτιστοποίηση Ταξινομητών"
      ]
    },
    {
      "cell_type": "markdown",
      "metadata": {
        "id": "I_w45tL6F6qW"
      },
      "source": [
        "#### Βελτιστοποίηση Dummy Classifiers"
      ]
    },
    {
      "cell_type": "markdown",
      "metadata": {
        "id": "7gctuuEyF_yD"
      },
      "source": [
        "Just kidding, δε μπορεί να γίνει κάποια βελτιστοποίηση και δε θα αναλωθουμε προσπαθωντας να βελτιώσουμε τους dummies. Το όνομά τους δεν το πήραν τυχαια :)"
      ]
    },
    {
      "cell_type": "code",
      "metadata": {
        "id": "L3Crlucorfkx"
      },
      "source": [
        "f1_micros_opt=[f1_micro_du, f1_micro_dmf, f1_micro_ds]\n",
        "f1_macros_opt=[f1_macro_du, f1_macro_dmf, f1_macro_ds]"
      ],
      "execution_count": null,
      "outputs": []
    },
    {
      "cell_type": "markdown",
      "metadata": {
        "id": "bYi8aN9eGH-a"
      },
      "source": [
        "#### Βελτιστοποίηση Gaussian Naive Bayes Classifier  \n",
        "Ο GNB Classifier δεν έχει κάποια υπερπαράμετρο προς βελτιστοποίηση, οπότε προσπαθούμε να πάρουμε καλύτερα αποτελέσματα αποκλειστικά μέσω του preprocessing"
      ]
    },
    {
      "cell_type": "markdown",
      "metadata": {
        "id": "DMhfSgC4osbv"
      },
      "source": [
        "#####**ΔΟΚΙΜΗ 1: Μείωση της διαστατικότητας των δεδομένων με επιλογή χαρακτηριστικών έπειτα απο min-max κανονικοποίηση:**  \n",
        "Η πρώτη δοκιμή που κάναμε ήταν να εφαρμόσουμε κανονικοποίηση min-max στα δεδομένα και στη συνέχεια να κάνουμε επιλογή χαρακτηριστικών χρησιμοποιώντασ Variance Threshold. Η υψηλότερη απόδοση που καταφέραμε να πάρουμε ήταν της τάξης του 52%, συνεπώς δεν υπήρξε κάποια βελτίωση.\n",
        "\n",
        "\n",
        "\n",
        "\n"
      ]
    },
    {
      "cell_type": "code",
      "metadata": {
        "id": "JIdRdPl9GPsm",
        "colab": {
          "base_uri": "https://localhost:8080/",
          "height": 395
        },
        "outputId": "74b95c06-23b6-44f9-f718-2128178ea82c"
      },
      "source": [
        "#ΔΟΚΙΜΗ ΜΕΙΩΣΗΣ ΔΙΑΣΤΑΣΕΩΝ ΜΕ ΕΠΙΛΟΓΗ ΜΕΤΑΒΛΗΤΩΝ EΠΕΙΤΑ ΑΠΟ ΚΑΝΟΝΙΚΟΠΟΙΗΣΗ (Δεν πηγε και πολυ καλα αυτο)\n",
        "\n",
        "min_max_scaler = preprocessing.MinMaxScaler()\n",
        "train_data_norm = min_max_scaler.fit_transform(train_data)\n",
        "test_data_norm = min_max_scaler.transform(test_data)\n",
        "\n",
        "f1_micros=[]\n",
        "f1_macros=[]\n",
        "thds = [0,0.01,0.02,0.03,0.05,0.06]\n",
        "for threshold in thds:\n",
        "  selector = VarianceThreshold(threshold=threshold)\n",
        "  train_data_reduced = selector.fit_transform(train_data_norm)\n",
        "  mask = selector.get_support()\n",
        "  print(\"Threshold=\"+str(threshold)+\". Keeping \"+str(list(mask).count(True))+\" attributes.\")\n",
        "  train_data_reduced = train_data_norm[:,mask]\n",
        "  test_data_reduced = test_data_norm[:,mask]\n",
        "  gnb_model_opt = gnb.fit(train_data_reduced, train_labels)\n",
        "  gnb_preds_opt = gnb.predict(test_data_reduced)\n",
        "  f1_micros.append(precision_recall_fscore_support(test_labels, gnb_preds_opt, average='micro')[2])\n",
        "  f1_macros.append(precision_recall_fscore_support(test_labels, gnb_preds_opt, average='macro')[2])\n",
        "\n",
        "\n",
        "fig, ax = plt.subplots()\n",
        "xax=range(len(thds))\n",
        "ax.set_xticks(xax)\n",
        "ax.set_xticklabels([\"thd=\"+str(i) for i in thds])\n",
        "ax.plot(xax, f1_micros, label='f1_micro ', color='red')\n",
        "ax.plot(xax, f1_macros, label='f1_macrο', color='m')\n",
        "plt.legend()"
      ],
      "execution_count": null,
      "outputs": [
        {
          "output_type": "stream",
          "text": [
            "Threshold=0. Keeping 18 attributes.\n",
            "Threshold=0.01. Keeping 15 attributes.\n",
            "Threshold=0.02. Keeping 15 attributes.\n",
            "Threshold=0.03. Keeping 13 attributes.\n",
            "Threshold=0.05. Keeping 4 attributes.\n",
            "Threshold=0.06. Keeping 1 attributes.\n"
          ],
          "name": "stdout"
        },
        {
          "output_type": "execute_result",
          "data": {
            "text/plain": [
              "<matplotlib.legend.Legend at 0x7fe0a3117ac8>"
            ]
          },
          "metadata": {
            "tags": []
          },
          "execution_count": 22
        },
        {
          "output_type": "display_data",
          "data": {
            "image/png": "[encoded data removed]",
            "text/plain": [
              "<Figure size 432x288 with 1 Axes>"
            ]
          },
          "metadata": {
            "tags": [],
            "needs_background": "light"
          }
        }
      ]
    },
    {
      "cell_type": "markdown",
      "metadata": {
        "id": "B4fnA1M8V7wy"
      },
      "source": [
        "#####**ΔΟΚΙΜΗ 2: Μείωση της διαστατικότητας των δεδομένων με την τεχνική PCA**  \n",
        "Eδώ αυτό που καταφέραμε είναι αρκετά παράξενο. Ενώ η τεχνική PCA αποσκοπεί στη μείωση της διαστατικότητας, εν τέλει, τα καλύτερα αποτελέσματα τα πήραμε όταν εφαρμόσαμε μετασχηματισμό που οδηγούσε σε ίδιο αριθμό διαστάσεων με τον αρχικό. Αυτό που ενδεχομένως έγινε, είναι ότι η μέθοδος παρήγαγε διαφορετικά 18 χαρακτηριστικά από τα αρχικά 18 που είχαν τα δείγματα. Η βελτίωση είναι σημαντική, καθώς από accuracy της ταξης του 50%, πήγαμε σε τάξη του 70%."
      ]
    },
    {
      "cell_type": "code",
      "metadata": {
        "id": "f4n8XyR4wvZV",
        "colab": {
          "base_uri": "https://localhost:8080/",
          "height": 502
        },
        "outputId": "d1c1459f-a83e-4423-8012-3b510e32fe0d"
      },
      "source": [
        "#ΔΟΚΙΜΗ ΜΕΙΩΣΗΣ ΔΙΑΣΤΑΣΕΩΝ ΜΕ ΕΞΑΓΩΓΗ ΧΑΡΑΚΤΗΡΙΣΤΙΚΩΝ\n",
        "f1_micros=[]\n",
        "f1_macros=[]\n",
        "nus = list(range(5,19))\n",
        "\n",
        "for n in nus:\n",
        "  pca = PCA(n_components=n)\n",
        "  train_data_reduced = pca.fit_transform(train_data)\n",
        "  test_data_reduced = pca.transform(test_data)\n",
        "  gnb_model_opt = gnb.fit(train_data_reduced, train_labels)\n",
        "  gnb_preds_opt = gnb.predict(test_data_reduced)\n",
        "  f1_micros.append(precision_recall_fscore_support(test_labels, gnb_preds_opt, average='micro')[2])\n",
        "  f1_macros.append(precision_recall_fscore_support(test_labels, gnb_preds_opt, average='macro')[2])\n",
        "\n",
        "fig, ax = plt.subplots(figsize=(8,8))\n",
        "xax=range(len(nus))\n",
        "ax.set_xticks(xax)\n",
        "ax.set_xticklabels(nus)\n",
        "ax.plot(xax, f1_micros, label='f1_micro ', color='b')\n",
        "ax.plot(xax, f1_macros, label='f1_macro', color='g')\n",
        "plt.legend()"
      ],
      "execution_count": null,
      "outputs": [
        {
          "output_type": "execute_result",
          "data": {
            "text/plain": [
              "<matplotlib.legend.Legend at 0x7fe0a5f712b0>"
            ]
          },
          "metadata": {
            "tags": []
          },
          "execution_count": 24
        },
        {
          "output_type": "display_data",
          "data": {
            "image/png": "[encoded data removed]",
            "text/plain": [
              "<Figure size 576x576 with 1 Axes>"
            ]
          },
          "metadata": {
            "tags": [],
            "needs_background": "light"
          }
        }
      ]
    },
    {
      "cell_type": "code",
      "metadata": {
        "id": "SP6yD63KkGmx"
      },
      "source": [
        "f1_micros_opt.append(f1_micros[-4])\n",
        "f1_macros_opt.append(f1_macros[-4])"
      ],
      "execution_count": null,
      "outputs": []
    },
    {
      "cell_type": "markdown",
      "metadata": {
        "id": "EXmeGmeK01tR"
      },
      "source": [
        "#### kNN Classifier\n",
        "Εδώ, εκτός από τους διάφορους μετασχηματισμούς κατά την προεπεξεργασία των δεδομένων, θα βελτιστοποιήσουμε και την παράμετρο k του kNN χρησιμοποιώντας 10-fold cross validation. **NA TΡΕΧΤΕΙ 1 ΦΟΡΑ ΠΡΙΝ ΤΗΝ ΥΠΟΒΟΛΗ ΚΑΙ ΝΑ ΓΙΝΟΥΝ EDIT ΤΑ ΣΧΟΛΙΑ**"
      ]
    },
    {
      "cell_type": "markdown",
      "metadata": {
        "id": "jCNpXi3gJJVl"
      },
      "source": [
        "#####**ΔΟΚΙΜΗ 1: Εφαρμογή κανονικοποίησης min-max και στη συνεχεια επιλογή χαρακτηριστικών με VarianceThreshold:**  \n",
        "Κανονικοποιούμε το dataset με τη μέθοδο min-max και στη συνέχεια δοκιμάζουμε τους εξής συνδυασμούς:  \n",
        "- $k \\in(1,20)$ \n",
        "- $thd \\in (0,0.06)$ με βήμα $0.01$\n",
        "\n",
        "Πρώτα κάναμε τη διαδικασία χειροκίνητα και παρουσιάζουμε γραφικά τα αποτελέσματα και στη συνέχεια επαναλαμβάνουμε τη διαδικασία κάνοντας pipeline και CVGridSearch."
      ]
    },
    {
      "cell_type": "code",
      "metadata": {
        "id": "D_ZRqYvH1H4V",
        "colab": {
          "base_uri": "https://localhost:8080/"
        },
        "outputId": "49d93240-443c-4dcc-baff-83fd68c2a67b"
      },
      "source": [
        "#ΔΟΚΙΜΗ ΜΕΙΩΣΗΣ ΔΙΑΣΤΑΣΕΩΝ ΜΕ ΕΠΙΛΟΓΗ ΜΕΤΑΒΛΗΤΩΝ EΠΕΙΤΑ ΑΠΟ ΚΑΝΟΝΙΚΟΠΟΙΗΣΗ\n",
        "\n",
        "#Aρχικά κάνουμε τη διαδικασία χειροκίνητα\n",
        "min_max_scaler = preprocessing.MinMaxScaler()\n",
        "train_data_norm = min_max_scaler.fit_transform(train_data)\n",
        "test_data_norm = min_max_scaler.transform(test_data)\n",
        "\n",
        "f1_micros=[]\n",
        "f1_macros=[]\n",
        "\n",
        "thds = [0,0.01,0.02,0.03,0.05,0.06]\n",
        "ks = list(range(1,21)) #Θα μπορούσαμε να πάρουμε μόνο τα περιττά k, αλλά έχουμε 4 κλάσεις, όχι 2 οπότε οι ισοπαλίες δε θα είναι συχνές.\n",
        "\n",
        "for threshold in thds:\n",
        "  selector = VarianceThreshold(threshold=threshold)\n",
        "  train_data_reduced = selector.fit_transform(train_data_norm)\n",
        "  mask = selector.get_support()\n",
        "  print(\"Threshold=\"+str(threshold)+\". Keeping \"+str(list(mask).count(True))+\" attributes.\")\n",
        "  train_data_reduced = train_data_norm[:,mask]\n",
        "  test_data_reduced = test_data_norm[:,mask]\n",
        "\n",
        "  thd_f1_micros=[]\n",
        "  thd_f1_macros=[]\n",
        "\n",
        "  for k in ks:\n",
        "    knn_opt = KNeighborsClassifier(n_neighbors=k)\n",
        "    f1_micro = cross_val_score(knn_opt, train_data_reduced, train_labels, cv=10, scoring='f1_micro')[2]\n",
        "    f1_macro = cross_val_score(knn_opt, train_data_reduced, train_labels, cv=10, scoring='f1_macro')[2]\n",
        "    print(\"\\t k=\"+str(k)+\". f1_micro=\"+str(f1_micro)[:6]+\" f1_macro=\"+str(f1_macro)[:6])\n",
        "    thd_f1_micros.append(f1_micro)\n",
        "    thd_f1_macros.append(f1_macro)\n",
        "  \n",
        "  f1_micros.append(thd_f1_micros)\n",
        "  f1_macros.append(thd_f1_macros)"
      ],
      "execution_count": null,
      "outputs": [
        {
          "output_type": "stream",
          "text": [
            "Threshold=0. Keeping 18 attributes.\n",
            "\t k=1. f1_micro=0.7794 f1_macro=0.7708\n",
            "\t k=2. f1_micro=0.6764 f1_macro=0.6742\n",
            "\t k=3. f1_micro=0.7205 f1_macro=0.7125\n",
            "\t k=4. f1_micro=0.7058 f1_macro=0.7038\n",
            "\t k=5. f1_micro=0.6911 f1_macro=0.6834\n",
            "\t k=6. f1_micro=0.6470 f1_macro=0.6314\n",
            "\t k=7. f1_micro=0.6470 f1_macro=0.6388\n",
            "\t k=8. f1_micro=0.6764 f1_macro=0.6687\n",
            "\t k=9. f1_micro=0.6470 f1_macro=0.6360\n",
            "\t k=10. f1_micro=0.6911 f1_macro=0.6761\n",
            "\t k=11. f1_micro=0.7352 f1_macro=0.7179\n",
            "\t k=12. f1_micro=0.6911 f1_macro=0.6785\n",
            "\t k=13. f1_micro=0.6764 f1_macro=0.6528\n",
            "\t k=14. f1_micro=0.6764 f1_macro=0.6567\n",
            "\t k=15. f1_micro=0.7205 f1_macro=0.7027\n",
            "\t k=16. f1_micro=0.7205 f1_macro=0.7017\n",
            "\t k=17. f1_micro=0.7058 f1_macro=0.6835\n",
            "\t k=18. f1_micro=0.7205 f1_macro=0.7017\n",
            "\t k=19. f1_micro=0.7205 f1_macro=0.6999\n",
            "\t k=20. f1_micro=0.7058 f1_macro=0.6814\n",
            "Threshold=0.01. Keeping 15 attributes.\n",
            "\t k=1. f1_micro=0.75 f1_macro=0.7423\n",
            "\t k=2. f1_micro=0.6617 f1_macro=0.6577\n",
            "\t k=3. f1_micro=0.75 f1_macro=0.7441\n",
            "\t k=4. f1_micro=0.7205 f1_macro=0.7162\n",
            "\t k=5. f1_micro=0.7058 f1_macro=0.6976\n",
            "\t k=6. f1_micro=0.6764 f1_macro=0.6612\n",
            "\t k=7. f1_micro=0.7058 f1_macro=0.6969\n",
            "\t k=8. f1_micro=0.6911 f1_macro=0.6764\n",
            "\t k=9. f1_micro=0.6764 f1_macro=0.6600\n",
            "\t k=10. f1_micro=0.6617 f1_macro=0.6412\n",
            "\t k=11. f1_micro=0.7058 f1_macro=0.6866\n",
            "\t k=12. f1_micro=0.6764 f1_macro=0.6585\n",
            "\t k=13. f1_micro=0.6911 f1_macro=0.6648\n",
            "\t k=14. f1_micro=0.6617 f1_macro=0.6373\n",
            "\t k=15. f1_micro=0.7205 f1_macro=0.7077\n",
            "\t k=16. f1_micro=0.7058 f1_macro=0.6861\n",
            "\t k=17. f1_micro=0.7058 f1_macro=0.6814\n",
            "\t k=18. f1_micro=0.7352 f1_macro=0.7192\n",
            "\t k=19. f1_micro=0.75 f1_macro=0.7339\n",
            "\t k=20. f1_micro=0.7352 f1_macro=0.7183\n",
            "Threshold=0.02. Keeping 15 attributes.\n",
            "\t k=1. f1_micro=0.75 f1_macro=0.7423\n",
            "\t k=2. f1_micro=0.6617 f1_macro=0.6577\n",
            "\t k=3. f1_micro=0.75 f1_macro=0.7441\n",
            "\t k=4. f1_micro=0.7205 f1_macro=0.7162\n",
            "\t k=5. f1_micro=0.7058 f1_macro=0.6976\n",
            "\t k=6. f1_micro=0.6764 f1_macro=0.6612\n",
            "\t k=7. f1_micro=0.7058 f1_macro=0.6969\n",
            "\t k=8. f1_micro=0.6911 f1_macro=0.6764\n",
            "\t k=9. f1_micro=0.6764 f1_macro=0.6600\n",
            "\t k=10. f1_micro=0.6617 f1_macro=0.6412\n",
            "\t k=11. f1_micro=0.7058 f1_macro=0.6866\n",
            "\t k=12. f1_micro=0.6764 f1_macro=0.6585\n",
            "\t k=13. f1_micro=0.6911 f1_macro=0.6648\n",
            "\t k=14. f1_micro=0.6617 f1_macro=0.6373\n",
            "\t k=15. f1_micro=0.7205 f1_macro=0.7077\n",
            "\t k=16. f1_micro=0.7058 f1_macro=0.6861\n",
            "\t k=17. f1_micro=0.7058 f1_macro=0.6814\n",
            "\t k=18. f1_micro=0.7352 f1_macro=0.7192\n",
            "\t k=19. f1_micro=0.75 f1_macro=0.7339\n",
            "\t k=20. f1_micro=0.7352 f1_macro=0.7183\n",
            "Threshold=0.03. Keeping 13 attributes.\n",
            "\t k=1. f1_micro=0.7058 f1_macro=0.7049\n",
            "\t k=2. f1_micro=0.6764 f1_macro=0.6742\n",
            "\t k=3. f1_micro=0.7352 f1_macro=0.7306\n",
            "\t k=4. f1_micro=0.7205 f1_macro=0.7162\n",
            "\t k=5. f1_micro=0.7058 f1_macro=0.6990\n",
            "\t k=6. f1_micro=0.6764 f1_macro=0.6579\n",
            "\t k=7. f1_micro=0.6911 f1_macro=0.6762\n",
            "\t k=8. f1_micro=0.7058 f1_macro=0.6903\n",
            "\t k=9. f1_micro=0.6764 f1_macro=0.6617\n",
            "\t k=10. f1_micro=0.6911 f1_macro=0.6742\n",
            "\t k=11. f1_micro=0.6911 f1_macro=0.6762\n",
            "\t k=12. f1_micro=0.7058 f1_macro=0.6877\n",
            "\t k=13. f1_micro=0.7205 f1_macro=0.7042\n",
            "\t k=14. f1_micro=0.6470 f1_macro=0.6231\n",
            "\t k=15. f1_micro=0.7058 f1_macro=0.6914\n",
            "\t k=16. f1_micro=0.7205 f1_macro=0.6998\n",
            "\t k=17. f1_micro=0.7205 f1_macro=0.7056\n",
            "\t k=18. f1_micro=0.7058 f1_macro=0.6908\n",
            "\t k=19. f1_micro=0.6764 f1_macro=0.6546\n",
            "\t k=20. f1_micro=0.6764 f1_macro=0.6513\n",
            "Threshold=0.05. Keeping 4 attributes.\n",
            "\t k=1. f1_micro=0.6911 f1_macro=0.6826\n",
            "\t k=2. f1_micro=0.6470 f1_macro=0.6474\n",
            "\t k=3. f1_micro=0.6764 f1_macro=0.6539\n",
            "\t k=4. f1_micro=0.6617 f1_macro=0.6509\n",
            "\t k=5. f1_micro=0.6911 f1_macro=0.6748\n",
            "\t k=6. f1_micro=0.6323 f1_macro=0.6159\n",
            "\t k=7. f1_micro=0.6764 f1_macro=0.6590\n",
            "\t k=8. f1_micro=0.6617 f1_macro=0.6416\n",
            "\t k=9. f1_micro=0.6911 f1_macro=0.6735\n",
            "\t k=10. f1_micro=0.7058 f1_macro=0.6927\n",
            "\t k=11. f1_micro=0.6617 f1_macro=0.6386\n",
            "\t k=12. f1_micro=0.6617 f1_macro=0.6419\n",
            "\t k=13. f1_micro=0.6617 f1_macro=0.6435\n",
            "\t k=14. f1_micro=0.6323 f1_macro=0.6123\n",
            "\t k=15. f1_micro=0.6617 f1_macro=0.6466\n",
            "\t k=16. f1_micro=0.6470 f1_macro=0.6335\n",
            "\t k=17. f1_micro=0.6617 f1_macro=0.6432\n",
            "\t k=18. f1_micro=0.6764 f1_macro=0.6620\n",
            "\t k=19. f1_micro=0.6470 f1_macro=0.6292\n",
            "\t k=20. f1_micro=0.6176 f1_macro=0.6001\n",
            "Threshold=0.06. Keeping 1 attributes.\n",
            "\t k=1. f1_micro=0.4117 f1_macro=0.4000\n",
            "\t k=2. f1_micro=0.4411 f1_macro=0.3911\n",
            "\t k=3. f1_micro=0.3970 f1_macro=0.3875\n",
            "\t k=4. f1_micro=0.3970 f1_macro=0.3994\n",
            "\t k=5. f1_micro=0.3823 f1_macro=0.3815\n",
            "\t k=6. f1_micro=0.3970 f1_macro=0.3975\n",
            "\t k=7. f1_micro=0.3823 f1_macro=0.3596\n",
            "\t k=8. f1_micro=0.3970 f1_macro=0.3836\n",
            "\t k=9. f1_micro=0.4705 f1_macro=0.4725\n",
            "\t k=10. f1_micro=0.4264 f1_macro=0.4258\n",
            "\t k=11. f1_micro=0.4558 f1_macro=0.4584\n",
            "\t k=12. f1_micro=0.4264 f1_macro=0.4290\n",
            "\t k=13. f1_micro=0.4117 f1_macro=0.4074\n",
            "\t k=14. f1_micro=0.3823 f1_macro=0.3763\n",
            "\t k=15. f1_micro=0.3970 f1_macro=0.3925\n",
            "\t k=16. f1_micro=0.3970 f1_macro=0.3925\n",
            "\t k=17. f1_micro=0.3970 f1_macro=0.3925\n",
            "\t k=18. f1_micro=0.3529 f1_macro=0.3380\n",
            "\t k=19. f1_micro=0.3676 f1_macro=0.3528\n",
            "\t k=20. f1_micro=0.3676 f1_macro=0.3528\n"
          ],
          "name": "stdout"
        }
      ]
    },
    {
      "cell_type": "code",
      "metadata": {
        "id": "TJLS1T-PPdrY",
        "colab": {
          "base_uri": "https://localhost:8080/",
          "height": 613
        },
        "outputId": "0d76e1f5-0106-4919-b697-68154b7a5978"
      },
      "source": [
        "colors=['r','g','b','c','m','y']\n",
        "fig, ax = plt.subplots(figsize=(10,10))\n",
        "xax=ks\n",
        "ax.set_xticks(xax)\n",
        "#ax.set_ylim(0,1)\n",
        "ax.set_xticklabels(xax)\n",
        "for i in range(len(f1_micros)):\n",
        "  ax.plot(xax, f1_micros[i],colors[i], label='f1_micro, thd='+str(thds[i]))\n",
        "  ax.plot(xax, f1_macros[i],colors[i]+\"--\", label='f1_macro, thd='+str(thds[i]))\n",
        "plt.legend()"
      ],
      "execution_count": null,
      "outputs": [
        {
          "output_type": "execute_result",
          "data": {
            "text/plain": [
              "<matplotlib.legend.Legend at 0x7fe0a2fb7a20>"
            ]
          },
          "metadata": {
            "tags": []
          },
          "execution_count": 27
        },
        {
          "output_type": "display_data",
          "data": {
            "image/png": "[encoded data removed]",
            "text/plain": [
              "<Figure size 720x720 with 1 Axes>"
            ]
          },
          "metadata": {
            "tags": [],
            "needs_background": "light"
          }
        }
      ]
    },
    {
      "cell_type": "code",
      "metadata": {
        "id": "l466UupzRsBj"
      },
      "source": [
        "#Στη συνέχεια κάνουμε την ίδια διαδικασία μέσω της χρήσης pipeline+GridSearchCV\n",
        "#Xρησιμοποιούμε 2 ίδιους estimators με μοναδική διαφορά τη μετρκή απόδοσης.\n",
        "selector=VarianceThreshold()\n",
        "min_max_scaler = preprocessing.MinMaxScaler()\n",
        "knn = KNeighborsClassifier()\n",
        "pipe = Pipeline(steps=[('scaler', min_max_scaler),('selector', selector), ('kNN', knn)])\n",
        "estimator1 = GridSearchCV(pipe, dict(selector__threshold=thds, kNN__n_neighbors=ks), cv=10, scoring='f1_micro', n_jobs=-1)\n",
        "estimator2 = GridSearchCV(pipe, dict(selector__threshold=thds, kNN__n_neighbors=ks), cv=10, scoring='f1_micro', n_jobs=-1)\n",
        "estimator1.fit(train_data, train_labels)\n",
        "estimator2.fit(train_data, train_labels)\n",
        "preds1 = estimator1.predict(test_data)\n",
        "preds2 = estimator2.predict(test_data)"
      ],
      "execution_count": null,
      "outputs": []
    },
    {
      "cell_type": "code",
      "metadata": {
        "id": "2C2WOMjaTqul",
        "colab": {
          "base_uri": "https://localhost:8080/"
        },
        "outputId": "678fc69a-6994-4d18-998f-c5d20b9d89ac"
      },
      "source": [
        "print(estimator1.best_estimator_)\n",
        "print(estimator1.best_params_)"
      ],
      "execution_count": null,
      "outputs": [
        {
          "output_type": "stream",
          "text": [
            "Pipeline(memory=None,\n",
            "         steps=[('scaler', MinMaxScaler(copy=True, feature_range=(0, 1))),\n",
            "                ('selector', VarianceThreshold(threshold=0)),\n",
            "                ('kNN',\n",
            "                 KNeighborsClassifier(algorithm='auto', leaf_size=30,\n",
            "                                      metric='minkowski', metric_params=None,\n",
            "                                      n_jobs=None, n_neighbors=7, p=2,\n",
            "                                      weights='uniform'))],\n",
            "         verbose=False)\n",
            "{'kNN__n_neighbors': 7, 'selector__threshold': 0}\n"
          ],
          "name": "stdout"
        }
      ]
    },
    {
      "cell_type": "code",
      "metadata": {
        "id": "h-yqAoU0O8xW",
        "colab": {
          "base_uri": "https://localhost:8080/"
        },
        "outputId": "0f3cd460-61b9-4be3-b627-e127c76d2b3f"
      },
      "source": [
        "print(estimator2.best_estimator_)\n",
        "print(estimator2.best_params_)"
      ],
      "execution_count": null,
      "outputs": [
        {
          "output_type": "stream",
          "text": [
            "Pipeline(memory=None,\n",
            "         steps=[('scaler', MinMaxScaler(copy=True, feature_range=(0, 1))),\n",
            "                ('selector', VarianceThreshold(threshold=0)),\n",
            "                ('kNN',\n",
            "                 KNeighborsClassifier(algorithm='auto', leaf_size=30,\n",
            "                                      metric='minkowski', metric_params=None,\n",
            "                                      n_jobs=None, n_neighbors=7, p=2,\n",
            "                                      weights='uniform'))],\n",
            "         verbose=False)\n",
            "{'kNN__n_neighbors': 7, 'selector__threshold': 0}\n"
          ],
          "name": "stdout"
        }
      ]
    },
    {
      "cell_type": "markdown",
      "metadata": {
        "id": "SsPMP8RHUGFo"
      },
      "source": [
        "Βλέπουμε πως το GridSearchCV προτείνει τις τιμές k=3, thd=0. Οι τιμές αυτές όπως μπορούμε να δούμε από το παραπάνω διάγραμμα δεν είναι οι βέλτιστες, αλλά είναι κοντά στις βέλτιστες. Θα ορίσουμε και έναν τρίτο estimator με τις βέλτιστες τιμές που προκύπτουν από το διάγραμμα, δηλαδή k=11, thd=0.01 και θα συγκρίνουμε τις αποδόσεις των 2 σσυνδυασμών στο test set."
      ]
    },
    {
      "cell_type": "code",
      "metadata": {
        "id": "s53tVmellEnp",
        "colab": {
          "base_uri": "https://localhost:8080/"
        },
        "outputId": "b9eb3f27-712d-494b-d4b8-c2f8a9f6548c"
      },
      "source": [
        "knn_opt_preds = estimator1.best_estimator_.predict(test_data)\n",
        "\n",
        "f1_micro_knn_opt1=precision_recall_fscore_support(test_labels, knn_opt_preds, average='micro')[2]\n",
        "f1_macro_knn_opt1=precision_recall_fscore_support(test_labels, knn_opt_preds, average='macro')[2]\n",
        "\n",
        "print(\"Results of the optimal knn classifier as indicated by the CVGS:\")\n",
        "print(\"f1_micro:\",f1_micro_knn_opt1 ,\"f1_macro:\",f1_macro_knn_opt1)"
      ],
      "execution_count": null,
      "outputs": [
        {
          "output_type": "stream",
          "text": [
            "Results of the optimal knn classifier as indicated by the CVGS:\n",
            "f1_micro: 0.6941176470588235 f1_macro: 0.6795216978143808\n"
          ],
          "name": "stdout"
        }
      ]
    },
    {
      "cell_type": "code",
      "metadata": {
        "id": "kCLOQEDPPOKi",
        "colab": {
          "base_uri": "https://localhost:8080/"
        },
        "outputId": "1ff4a2bc-eccb-46b4-e116-b3800a2abbac"
      },
      "source": [
        "estimator3 = GridSearchCV(pipe, dict(selector__threshold=[0.01], kNN__n_neighbors=[11]), cv=10, scoring='f1_micro', n_jobs=-1)\n",
        "estimator3.fit(train_data, train_labels)\n",
        "preds3 = estimator3.predict(test_data)\n",
        "f1_micro_knn_opt3 = precision_recall_fscore_support(test_labels, preds3, average='micro')[2]\n",
        "f1_micro_knn_opt3 = precision_recall_fscore_support(test_labels, preds3, average='macro')[2]\n",
        "\n",
        "print(\"Results of the optimal knn classifier as indicated by the graph results:\")\n",
        "print(\"f1_micro:\",f1_micro_knn_opt3 ,\"f1_macro:\",f1_micro_knn_opt3)"
      ],
      "execution_count": null,
      "outputs": [
        {
          "output_type": "stream",
          "text": [
            "Results of the optimal knn classifier as indicated by the graph results:\n",
            "f1_micro: 0.6283374033374034 f1_macro: 0.6283374033374034\n"
          ],
          "name": "stdout"
        }
      ]
    },
    {
      "cell_type": "markdown",
      "metadata": {
        "id": "obUcVa_wVM7l"
      },
      "source": [
        "Όπως βλέπουμε, το ζεύγος των υπερπαραμέτρων που πρότεινε το GSCV δεν είναι το βέλτιστο, αλλά είναι κοντά στο βέλτιστο. Δεν ισχυριζόμαστε πως το ζεύγος k=11, thd=0.01 είναι αναγκαία το βέλτιστο, αλλά φαίνεται πως είχε καλύτερα αποτελέσματα στο test set. Παρ όλα αυτά, σε κάθε περίπτωση η βελτίωση είναι ασήμαντη μιας και το αρχικό accuracy του kNN ήταν έτσι κι αλλιώς κοντά στο 60%"
      ]
    },
    {
      "cell_type": "markdown",
      "metadata": {
        "id": "YyADXu0qlhwN"
      },
      "source": [
        "#####**ΔΟΚΙΜΗ 2: Μείωση της διαστατικότητας με τη μέθοδο PCA**\n",
        "Εδώ δε θα κάνουμε κάποια κανονικοποίηση στις τιμές των δεδομένων και θα δούμε πώς επιδρά η PCA στην απόδοση του kNN. Δοκιμάζουμε τους εξής συνδυασμούς:    \n",
        "- $k \\in(1,20)$ \n",
        "- $n_{attributes} \\in (4,18)$"
      ]
    },
    {
      "cell_type": "code",
      "metadata": {
        "id": "Tgl1QcZcYwX9",
        "colab": {
          "base_uri": "https://localhost:8080/"
        },
        "outputId": "2738ca92-ccc2-4936-8160-0afda368132e"
      },
      "source": [
        "#Aρχικά κάνουμε τη διαδικασία χειροκίνητα\n",
        "\n",
        "f1_micros=[]\n",
        "f1_macros=[]\n",
        "\n",
        "n = list(range(4,19,2))\n",
        "ks = list(range(1,21)) #Θα μπορούσαμε να πάρουμε μόνο τα περιττά k, αλλά έχουμε 4 κλάσεις, όχι 2 οπότε οι ισοπαλίες δε θα είναι συχνές.\n",
        "\n",
        "for nu in n:\n",
        "  pca = PCA(n_components=nu)\n",
        "  train_data_pca = pca.fit_transform(train_data)\n",
        "  print(\"n=\"+str(nu)+\". \"+str(nu)+\" attributes.\")\n",
        "\n",
        "  nu_f1_micros=[]\n",
        "  nu_f1_macros=[]\n",
        "\n",
        "  for k in ks:\n",
        "    knn_opt = KNeighborsClassifier(n_neighbors=k)\n",
        "    f1_micro = cross_val_score(knn_opt, train_data_pca, train_labels, cv=10, scoring='f1_micro')[2]\n",
        "    f1_macro = cross_val_score(knn_opt, train_data_pca, train_labels, cv=10, scoring='f1_macro')[2]\n",
        "    print(\"\\t k=\"+str(k)+\". f1_micro=\"+str(f1_micro)[:6]+\" f1_macro=\"+str(f1_macro)[:6])\n",
        "    nu_f1_micros.append(f1_micro)\n",
        "    nu_f1_macros.append(f1_macro)\n",
        "  \n",
        "  f1_micros.append(nu_f1_micros)\n",
        "  f1_macros.append(nu_f1_macros)"
      ],
      "execution_count": null,
      "outputs": [
        {
          "output_type": "stream",
          "text": [
            "n=4. 4 attributes.\n",
            "\t k=1. f1_micro=0.6470 f1_macro=0.6417\n",
            "\t k=2. f1_micro=0.5294 f1_macro=0.5233\n",
            "\t k=3. f1_micro=0.6176 f1_macro=0.6166\n",
            "\t k=4. f1_micro=0.6029 f1_macro=0.5968\n",
            "\t k=5. f1_micro=0.5735 f1_macro=0.5659\n",
            "\t k=6. f1_micro=0.5735 f1_macro=0.5566\n",
            "\t k=7. f1_micro=0.6323 f1_macro=0.6103\n",
            "\t k=8. f1_micro=0.5882 f1_macro=0.5693\n",
            "\t k=9. f1_micro=0.5294 f1_macro=0.5088\n",
            "\t k=10. f1_micro=0.5294 f1_macro=0.5105\n",
            "\t k=11. f1_micro=0.5441 f1_macro=0.5223\n",
            "\t k=12. f1_micro=0.5588 f1_macro=0.5354\n",
            "\t k=13. f1_micro=0.5441 f1_macro=0.5168\n",
            "\t k=14. f1_micro=0.5294 f1_macro=0.4895\n",
            "\t k=15. f1_micro=0.5294 f1_macro=0.4999\n",
            "\t k=16. f1_micro=0.5294 f1_macro=0.4925\n",
            "\t k=17. f1_micro=0.5147 f1_macro=0.4851\n",
            "\t k=18. f1_micro=0.5147 f1_macro=0.4798\n",
            "\t k=19. f1_micro=0.5735 f1_macro=0.5440\n",
            "\t k=20. f1_micro=0.5735 f1_macro=0.5440\n",
            "n=6. 6 attributes.\n",
            "\t k=1. f1_micro=0.7058 f1_macro=0.7144\n",
            "\t k=2. f1_micro=0.5735 f1_macro=0.5623\n",
            "\t k=3. f1_micro=0.6617 f1_macro=0.6618\n",
            "\t k=4. f1_micro=0.7058 f1_macro=0.7008\n",
            "\t k=5. f1_micro=0.6470 f1_macro=0.6315\n",
            "\t k=6. f1_micro=0.6470 f1_macro=0.6412\n",
            "\t k=7. f1_micro=0.6029 f1_macro=0.5891\n",
            "\t k=8. f1_micro=0.6617 f1_macro=0.6430\n",
            "\t k=9. f1_micro=0.6029 f1_macro=0.5900\n",
            "\t k=10. f1_micro=0.6470 f1_macro=0.6321\n",
            "\t k=11. f1_micro=0.5882 f1_macro=0.5715\n",
            "\t k=12. f1_micro=0.6176 f1_macro=0.5899\n",
            "\t k=13. f1_micro=0.6323 f1_macro=0.6013\n",
            "\t k=14. f1_micro=0.6323 f1_macro=0.6120\n",
            "\t k=15. f1_micro=0.6176 f1_macro=0.5965\n",
            "\t k=16. f1_micro=0.6323 f1_macro=0.6048\n",
            "\t k=17. f1_micro=0.6323 f1_macro=0.6016\n",
            "\t k=18. f1_micro=0.6323 f1_macro=0.5964\n",
            "\t k=19. f1_micro=0.6470 f1_macro=0.6215\n",
            "\t k=20. f1_micro=0.6323 f1_macro=0.5994\n",
            "n=8. 8 attributes.\n",
            "\t k=1. f1_micro=0.7058 f1_macro=0.7092\n",
            "\t k=2. f1_micro=0.6470 f1_macro=0.6278\n",
            "\t k=3. f1_micro=0.7058 f1_macro=0.7041\n",
            "\t k=4. f1_micro=0.6617 f1_macro=0.6544\n",
            "\t k=5. f1_micro=0.6617 f1_macro=0.6477\n",
            "\t k=6. f1_micro=0.6617 f1_macro=0.6526\n",
            "\t k=7. f1_micro=0.6470 f1_macro=0.6350\n",
            "\t k=8. f1_micro=0.6323 f1_macro=0.6255\n",
            "\t k=9. f1_micro=0.5882 f1_macro=0.5757\n",
            "\t k=10. f1_micro=0.6617 f1_macro=0.6462\n",
            "\t k=11. f1_micro=0.6176 f1_macro=0.5927\n",
            "\t k=12. f1_micro=0.6323 f1_macro=0.5921\n",
            "\t k=13. f1_micro=0.6176 f1_macro=0.5912\n",
            "\t k=14. f1_micro=0.6176 f1_macro=0.5887\n",
            "\t k=15. f1_micro=0.6323 f1_macro=0.5982\n",
            "\t k=16. f1_micro=0.6470 f1_macro=0.6123\n",
            "\t k=17. f1_micro=0.6323 f1_macro=0.5997\n",
            "\t k=18. f1_micro=0.6323 f1_macro=0.5964\n",
            "\t k=19. f1_micro=0.6176 f1_macro=0.5866\n",
            "\t k=20. f1_micro=0.6029 f1_macro=0.5763\n",
            "n=10. 10 attributes.\n",
            "\t k=1. f1_micro=0.7352 f1_macro=0.7350\n",
            "\t k=2. f1_micro=0.6323 f1_macro=0.6245\n",
            "\t k=3. f1_micro=0.6911 f1_macro=0.6875\n",
            "\t k=4. f1_micro=0.6470 f1_macro=0.6368\n",
            "\t k=5. f1_micro=0.6764 f1_macro=0.6650\n",
            "\t k=6. f1_micro=0.6617 f1_macro=0.6505\n",
            "\t k=7. f1_micro=0.6470 f1_macro=0.6350\n",
            "\t k=8. f1_micro=0.6470 f1_macro=0.6408\n",
            "\t k=9. f1_micro=0.6176 f1_macro=0.5951\n",
            "\t k=10. f1_micro=0.6323 f1_macro=0.6148\n",
            "\t k=11. f1_micro=0.6029 f1_macro=0.5842\n",
            "\t k=12. f1_micro=0.6176 f1_macro=0.5927\n",
            "\t k=13. f1_micro=0.6029 f1_macro=0.5781\n",
            "\t k=14. f1_micro=0.6323 f1_macro=0.6016\n",
            "\t k=15. f1_micro=0.6470 f1_macro=0.6309\n",
            "\t k=16. f1_micro=0.6617 f1_macro=0.6368\n",
            "\t k=17. f1_micro=0.6323 f1_macro=0.6015\n",
            "\t k=18. f1_micro=0.6176 f1_macro=0.5917\n",
            "\t k=19. f1_micro=0.6176 f1_macro=0.5949\n",
            "\t k=20. f1_micro=0.6323 f1_macro=0.5997\n",
            "n=12. 12 attributes.\n",
            "\t k=1. f1_micro=0.75 f1_macro=0.7504\n",
            "\t k=2. f1_micro=0.6323 f1_macro=0.6128\n",
            "\t k=3. f1_micro=0.6764 f1_macro=0.6763\n",
            "\t k=4. f1_micro=0.6470 f1_macro=0.6368\n",
            "\t k=5. f1_micro=0.6617 f1_macro=0.6535\n",
            "\t k=6. f1_micro=0.6764 f1_macro=0.6654\n",
            "\t k=7. f1_micro=0.6617 f1_macro=0.6499\n",
            "\t k=8. f1_micro=0.6470 f1_macro=0.6408\n",
            "\t k=9. f1_micro=0.6176 f1_macro=0.5993\n",
            "\t k=10. f1_micro=0.6617 f1_macro=0.6493\n",
            "\t k=11. f1_micro=0.6323 f1_macro=0.6140\n",
            "\t k=12. f1_micro=0.6176 f1_macro=0.5938\n",
            "\t k=13. f1_micro=0.6029 f1_macro=0.5792\n",
            "\t k=14. f1_micro=0.6470 f1_macro=0.6215\n",
            "\t k=15. f1_micro=0.6323 f1_macro=0.6130\n",
            "\t k=16. f1_micro=0.6617 f1_macro=0.6390\n",
            "\t k=17. f1_micro=0.6323 f1_macro=0.6015\n",
            "\t k=18. f1_micro=0.6323 f1_macro=0.5984\n",
            "\t k=19. f1_micro=0.6176 f1_macro=0.5949\n",
            "\t k=20. f1_micro=0.6323 f1_macro=0.5997\n",
            "n=14. 14 attributes.\n",
            "\t k=1. f1_micro=0.75 f1_macro=0.7504\n",
            "\t k=2. f1_micro=0.6470 f1_macro=0.6365\n",
            "\t k=3. f1_micro=0.6764 f1_macro=0.6763\n",
            "\t k=4. f1_micro=0.6323 f1_macro=0.6222\n",
            "\t k=5. f1_micro=0.6617 f1_macro=0.6535\n",
            "\t k=6. f1_micro=0.6764 f1_macro=0.6673\n",
            "\t k=7. f1_micro=0.6617 f1_macro=0.6494\n",
            "\t k=8. f1_micro=0.6617 f1_macro=0.6558\n",
            "\t k=9. f1_micro=0.6176 f1_macro=0.5951\n",
            "\t k=10. f1_micro=0.6617 f1_macro=0.6514\n",
            "\t k=11. f1_micro=0.6323 f1_macro=0.6140\n",
            "\t k=12. f1_micro=0.6176 f1_macro=0.5938\n",
            "\t k=13. f1_micro=0.6029 f1_macro=0.5792\n",
            "\t k=14. f1_micro=0.6470 f1_macro=0.6215\n",
            "\t k=15. f1_micro=0.6323 f1_macro=0.6130\n",
            "\t k=16. f1_micro=0.6323 f1_macro=0.6038\n",
            "\t k=17. f1_micro=0.6323 f1_macro=0.6054\n",
            "\t k=18. f1_micro=0.6323 f1_macro=0.5984\n",
            "\t k=19. f1_micro=0.6176 f1_macro=0.5949\n",
            "\t k=20. f1_micro=0.6323 f1_macro=0.5997\n",
            "n=16. 16 attributes.\n",
            "\t k=1. f1_micro=0.75 f1_macro=0.7504\n",
            "\t k=2. f1_micro=0.6470 f1_macro=0.6365\n",
            "\t k=3. f1_micro=0.6764 f1_macro=0.6763\n",
            "\t k=4. f1_micro=0.6323 f1_macro=0.6222\n",
            "\t k=5. f1_micro=0.6617 f1_macro=0.6535\n",
            "\t k=6. f1_micro=0.6911 f1_macro=0.6816\n",
            "\t k=7. f1_micro=0.6617 f1_macro=0.6526\n",
            "\t k=8. f1_micro=0.6617 f1_macro=0.6558\n",
            "\t k=9. f1_micro=0.6176 f1_macro=0.5951\n",
            "\t k=10. f1_micro=0.6617 f1_macro=0.6571\n",
            "\t k=11. f1_micro=0.6323 f1_macro=0.6140\n",
            "\t k=12. f1_micro=0.6176 f1_macro=0.5938\n",
            "\t k=13. f1_micro=0.6029 f1_macro=0.5792\n",
            "\t k=14. f1_micro=0.6470 f1_macro=0.6215\n",
            "\t k=15. f1_micro=0.6323 f1_macro=0.6130\n",
            "\t k=16. f1_micro=0.6470 f1_macro=0.6161\n",
            "\t k=17. f1_micro=0.6323 f1_macro=0.6054\n",
            "\t k=18. f1_micro=0.6323 f1_macro=0.5984\n",
            "\t k=19. f1_micro=0.6176 f1_macro=0.5949\n",
            "\t k=20. f1_micro=0.6323 f1_macro=0.5997\n",
            "n=18. 18 attributes.\n",
            "\t k=1. f1_micro=0.75 f1_macro=0.7504\n",
            "\t k=2. f1_micro=0.6470 f1_macro=0.6365\n",
            "\t k=3. f1_micro=0.6764 f1_macro=0.6763\n",
            "\t k=4. f1_micro=0.6323 f1_macro=0.6222\n",
            "\t k=5. f1_micro=0.6617 f1_macro=0.6535\n",
            "\t k=6. f1_micro=0.6911 f1_macro=0.6816\n",
            "\t k=7. f1_micro=0.6617 f1_macro=0.6526\n",
            "\t k=8. f1_micro=0.6617 f1_macro=0.6558\n",
            "\t k=9. f1_micro=0.6176 f1_macro=0.5951\n",
            "\t k=10. f1_micro=0.6617 f1_macro=0.6571\n",
            "\t k=11. f1_micro=0.6323 f1_macro=0.6140\n",
            "\t k=12. f1_micro=0.6176 f1_macro=0.5938\n",
            "\t k=13. f1_micro=0.6029 f1_macro=0.5792\n",
            "\t k=14. f1_micro=0.6470 f1_macro=0.6215\n",
            "\t k=15. f1_micro=0.6323 f1_macro=0.6130\n",
            "\t k=16. f1_micro=0.6470 f1_macro=0.6161\n",
            "\t k=17. f1_micro=0.6323 f1_macro=0.6054\n",
            "\t k=18. f1_micro=0.6323 f1_macro=0.5984\n",
            "\t k=19. f1_micro=0.6176 f1_macro=0.5949\n",
            "\t k=20. f1_micro=0.6323 f1_macro=0.5997\n"
          ],
          "name": "stdout"
        }
      ]
    },
    {
      "cell_type": "code",
      "metadata": {
        "id": "-fmw40bmZ7K9",
        "colab": {
          "base_uri": "https://localhost:8080/",
          "height": 911
        },
        "outputId": "d26a3354-1261-45ef-f453-1fad44ab25e1"
      },
      "source": [
        "from matplotlib.font_manager import FontProperties\n",
        "\n",
        "colors=['r','g','b','c','m','y','black','purple']\n",
        "\n",
        "fig, ax = plt.subplots(figsize=(15,15))\n",
        "xax=ks\n",
        "ax.set_xticks(xax)\n",
        "#ax.set_ylim((0,1))\n",
        "\n",
        "ax.set_xticklabels(xax)\n",
        "for i in range(len(f1_micros)):\n",
        "  ax.plot(xax, f1_micros[i],color=colors[i], label='f1_micro, n='+str(n[i]))\n",
        "  ax.plot(xax, f1_macros[i],color=colors[i],linestyle=\"--\", label='f1_macro, n='+str(n[i]))\n",
        "plt.legend(loc='upper center', bbox_to_anchor=(0.5, -0.05),\n",
        "          fancybox=True , ncol=8)"
      ],
      "execution_count": null,
      "outputs": [
        {
          "output_type": "execute_result",
          "data": {
            "text/plain": [
              "<matplotlib.legend.Legend at 0x7fe0a2f4a908>"
            ]
          },
          "metadata": {
            "tags": []
          },
          "execution_count": 34
        },
        {
          "output_type": "display_data",
          "data": {
            "image/png": "[encoded data removed]",
            "text/plain": [
              "<Figure size 1080x1080 with 1 Axes>"
            ]
          },
          "metadata": {
            "tags": [],
            "needs_background": "light"
          }
        }
      ]
    },
    {
      "cell_type": "markdown",
      "metadata": {
        "id": "wOQt9e0Pcj7n"
      },
      "source": [
        "Παρατηρούμε πως: για n=16 και n=18 τα αποτελέσματα είναι τα ίδια. Την καλύτερη απόδοση την έχουμε για k=5 και n=16 ή 18"
      ]
    },
    {
      "cell_type": "code",
      "metadata": {
        "id": "ANIKsnwTX2CG"
      },
      "source": [
        "k=list(range(1,21))\n",
        "n_attrs=list(range(4,19))\n",
        "knn = KNeighborsClassifier()\n",
        "pca = PCA()\n",
        "pipe = Pipeline(steps=[('selector', pca), ('kNN', knn)])\n",
        "\n",
        "estimator1 = GridSearchCV(pipe, dict(selector__n_components=n_attrs, kNN__n_neighbors=k), cv=10, scoring='f1_micro', n_jobs=-1)\n",
        "estimator2 = GridSearchCV(pipe, dict(selector__n_components=n_attrs, kNN__n_neighbors=k), cv=10, scoring='f1_micro', n_jobs=-1)\n",
        "estimator1.fit(train_data, train_labels)\n",
        "estimator2.fit(train_data, train_labels)\n",
        "preds1 = estimator1.predict(test_data)\n",
        "preds2 = estimator2.predict(test_data)"
      ],
      "execution_count": null,
      "outputs": []
    },
    {
      "cell_type": "code",
      "metadata": {
        "id": "snapExnqdCQf",
        "colab": {
          "base_uri": "https://localhost:8080/"
        },
        "outputId": "8e53c821-d875-41a7-aa91-dba2e86eb85f"
      },
      "source": [
        "print(estimator1.best_estimator_)\n",
        "print(estimator1.best_params_)"
      ],
      "execution_count": null,
      "outputs": [
        {
          "output_type": "stream",
          "text": [
            "Pipeline(memory=None,\n",
            "         steps=[('selector',\n",
            "                 PCA(copy=True, iterated_power='auto', n_components=15,\n",
            "                     random_state=None, svd_solver='auto', tol=0.0,\n",
            "                     whiten=False)),\n",
            "                ('kNN',\n",
            "                 KNeighborsClassifier(algorithm='auto', leaf_size=30,\n",
            "                                      metric='minkowski', metric_params=None,\n",
            "                                      n_jobs=None, n_neighbors=3, p=2,\n",
            "                                      weights='uniform'))],\n",
            "         verbose=False)\n",
            "{'kNN__n_neighbors': 3, 'selector__n_components': 15}\n"
          ],
          "name": "stdout"
        }
      ]
    },
    {
      "cell_type": "code",
      "metadata": {
        "id": "vZxzILrKdDpl",
        "colab": {
          "base_uri": "https://localhost:8080/"
        },
        "outputId": "00f025e6-ab80-430a-fe8c-04d7ac275534"
      },
      "source": [
        "print(estimator2.best_estimator_)\n",
        "print(estimator2.best_params_)"
      ],
      "execution_count": null,
      "outputs": [
        {
          "output_type": "stream",
          "text": [
            "Pipeline(memory=None,\n",
            "         steps=[('selector',\n",
            "                 PCA(copy=True, iterated_power='auto', n_components=15,\n",
            "                     random_state=None, svd_solver='auto', tol=0.0,\n",
            "                     whiten=False)),\n",
            "                ('kNN',\n",
            "                 KNeighborsClassifier(algorithm='auto', leaf_size=30,\n",
            "                                      metric='minkowski', metric_params=None,\n",
            "                                      n_jobs=None, n_neighbors=3, p=2,\n",
            "                                      weights='uniform'))],\n",
            "         verbose=False)\n",
            "{'kNN__n_neighbors': 3, 'selector__n_components': 15}\n"
          ],
          "name": "stdout"
        }
      ]
    },
    {
      "cell_type": "code",
      "metadata": {
        "id": "W7s8UXa1dMUN",
        "colab": {
          "base_uri": "https://localhost:8080/"
        },
        "outputId": "c468ef5e-f629-4d30-95b8-d9bc0b79ae21"
      },
      "source": [
        "knn_opt_preds = estimator1.best_estimator_.predict(test_data)\n",
        "\n",
        "f1_micro_knn_opt1=precision_recall_fscore_support(test_labels, knn_opt_preds, average='micro')[2]\n",
        "f1_macro_knn_opt1=precision_recall_fscore_support(test_labels, knn_opt_preds, average='macro')[2]\n",
        "\n",
        "print(\"Results of the optimal knn classifier as indicated by the CVGS:\")\n",
        "print(\"f1_micro:\",f1_micro_knn_opt1 ,\"f1_macro:\",f1_macro_knn_opt1)"
      ],
      "execution_count": null,
      "outputs": [
        {
          "output_type": "stream",
          "text": [
            "Results of the optimal knn classifier as indicated by the CVGS:\n",
            "f1_micro: 0.6176470588235294 f1_macro: 0.6011106840269034\n"
          ],
          "name": "stdout"
        }
      ]
    },
    {
      "cell_type": "code",
      "metadata": {
        "id": "KxsbsfAedUXd",
        "colab": {
          "base_uri": "https://localhost:8080/"
        },
        "outputId": "d3ba88a0-a677-40b1-c3e2-f1bd54bce15d"
      },
      "source": [
        "estimator3 = GridSearchCV(pipe, dict(selector__n_components=[16], kNN__n_neighbors=[5]), cv=10, scoring='f1_micro', n_jobs=-1)\n",
        "estimator3.fit(train_data, train_labels)\n",
        "preds3 = estimator3.predict(test_data)\n",
        "f1_micro_knn_opt3 = precision_recall_fscore_support(test_labels, preds3, average='micro')[2]\n",
        "f1_micro_knn_opt3 = precision_recall_fscore_support(test_labels, preds3, average='macro')[2]\n",
        "\n",
        "print(\"Results of the optimal knn classifier as indicated by the graph results:\")\n",
        "print(\"f1_micro:\",f1_micro_knn_opt3 ,\"f1_macro:\",f1_micro_knn_opt3)"
      ],
      "execution_count": null,
      "outputs": [
        {
          "output_type": "stream",
          "text": [
            "Results of the optimal knn classifier as indicated by the graph results:\n",
            "f1_micro: 0.6360730593607307 f1_macro: 0.6360730593607307\n"
          ],
          "name": "stdout"
        }
      ]
    },
    {
      "cell_type": "markdown",
      "metadata": {
        "id": "28ZsqZyYlilY"
      },
      "source": [
        "####Τελική παρουσίαση αποτελεσμάτων και παρατηρήσεις"
      ]
    },
    {
      "cell_type": "code",
      "metadata": {
        "id": "A-3G83eFshbd",
        "colab": {
          "base_uri": "https://localhost:8080/",
          "height": 965
        },
        "outputId": "783061c9-aa2c-4bad-ab28-6f3b268f20da"
      },
      "source": [
        "#DEN EXEI TELEIWSEI AUTO AKOMA\n",
        "classifiers=[\"Dummy\\nUniform\",\"Dummy\\nMost\\nFrequent\",\"Dummy\\nStratified\",\"Gauss\\nNaive\\nBayes\",\"kNN\"]\n",
        "\n",
        "\n",
        "fig, ax = plt.subplots(figsize = (10,8))\n",
        "ax.grid(True)\n",
        "xax=np.arange(len(classifiers))\n",
        "ax.set_xticks(xax)\n",
        "ax.set_xticklabels(classifiers, size=13)\n",
        "ax.set_xlabel('Classifiers', size=20)\n",
        "ax.set_ylim(0,1)\n",
        "ax.set_ylabel(\"Accuracy\", size=20)\n",
        "\n",
        "ax.bar(xax-0.2, f1_micros_def, label='F1 MICRO DEFAULT',align='edge',width=0.2, color='blue' )\n",
        "ax.bar(xax,f1_micros_opt, label='F1 MICRO OPTIMIZED',align='edge',width=0.2, color='red' )\n",
        "ax.bar(xax + 0.2, f1_macros_def, label='F1 MACRO DEFAULT',align='edge',width=0.2, color='green' )\n",
        "ax.bar(xax +0.4, f1_macros_opt, label='F1 MACRO OPTIMIZED',align='edge',width=0.2, color='m' )\n",
        "plt.legend()\n"
      ],
      "execution_count": null,
      "outputs": [
        {
          "output_type": "error",
          "ename": "ValueError",
          "evalue": "ignored",
          "traceback": [
            "\u001b[0;31m---------------------------------------------------------------------------\u001b[0m",
            "\u001b[0;31mValueError\u001b[0m                                Traceback (most recent call last)",
            "\u001b[0;32m<ipython-input-40-6fe36d3f79bd>\u001b[0m in \u001b[0;36m<module>\u001b[0;34m()\u001b[0m\n\u001b[1;32m     13\u001b[0m \u001b[0;34m\u001b[0m\u001b[0m\n\u001b[1;32m     14\u001b[0m \u001b[0max\u001b[0m\u001b[0;34m.\u001b[0m\u001b[0mbar\u001b[0m\u001b[0;34m(\u001b[0m\u001b[0mxax\u001b[0m\u001b[0;34m-\u001b[0m\u001b[0;36m0.2\u001b[0m\u001b[0;34m,\u001b[0m \u001b[0mf1_micros_def\u001b[0m\u001b[0;34m,\u001b[0m \u001b[0mlabel\u001b[0m\u001b[0;34m=\u001b[0m\u001b[0;34m'F1 MICRO DEFAULT'\u001b[0m\u001b[0;34m,\u001b[0m\u001b[0malign\u001b[0m\u001b[0;34m=\u001b[0m\u001b[0;34m'edge'\u001b[0m\u001b[0;34m,\u001b[0m\u001b[0mwidth\u001b[0m\u001b[0;34m=\u001b[0m\u001b[0;36m0.2\u001b[0m\u001b[0;34m,\u001b[0m \u001b[0mcolor\u001b[0m\u001b[0;34m=\u001b[0m\u001b[0;34m'blue'\u001b[0m \u001b[0;34m)\u001b[0m\u001b[0;34m\u001b[0m\u001b[0;34m\u001b[0m\u001b[0m\n\u001b[0;32m---> 15\u001b[0;31m \u001b[0max\u001b[0m\u001b[0;34m.\u001b[0m\u001b[0mbar\u001b[0m\u001b[0;34m(\u001b[0m\u001b[0mxax\u001b[0m\u001b[0;34m,\u001b[0m\u001b[0mf1_micros_opt\u001b[0m\u001b[0;34m,\u001b[0m \u001b[0mlabel\u001b[0m\u001b[0;34m=\u001b[0m\u001b[0;34m'F1 MICRO OPTIMIZED'\u001b[0m\u001b[0;34m,\u001b[0m\u001b[0malign\u001b[0m\u001b[0;34m=\u001b[0m\u001b[0;34m'edge'\u001b[0m\u001b[0;34m,\u001b[0m\u001b[0mwidth\u001b[0m\u001b[0;34m=\u001b[0m\u001b[0;36m0.2\u001b[0m\u001b[0;34m,\u001b[0m \u001b[0mcolor\u001b[0m\u001b[0;34m=\u001b[0m\u001b[0;34m'red'\u001b[0m \u001b[0;34m)\u001b[0m\u001b[0;34m\u001b[0m\u001b[0;34m\u001b[0m\u001b[0m\n\u001b[0m\u001b[1;32m     16\u001b[0m \u001b[0max\u001b[0m\u001b[0;34m.\u001b[0m\u001b[0mbar\u001b[0m\u001b[0;34m(\u001b[0m\u001b[0mxax\u001b[0m \u001b[0;34m+\u001b[0m \u001b[0;36m0.2\u001b[0m\u001b[0;34m,\u001b[0m \u001b[0mf1_macros_def\u001b[0m\u001b[0;34m,\u001b[0m \u001b[0mlabel\u001b[0m\u001b[0;34m=\u001b[0m\u001b[0;34m'F1 MACRO DEFAULT'\u001b[0m\u001b[0;34m,\u001b[0m\u001b[0malign\u001b[0m\u001b[0;34m=\u001b[0m\u001b[0;34m'edge'\u001b[0m\u001b[0;34m,\u001b[0m\u001b[0mwidth\u001b[0m\u001b[0;34m=\u001b[0m\u001b[0;36m0.2\u001b[0m\u001b[0;34m,\u001b[0m \u001b[0mcolor\u001b[0m\u001b[0;34m=\u001b[0m\u001b[0;34m'green'\u001b[0m \u001b[0;34m)\u001b[0m\u001b[0;34m\u001b[0m\u001b[0;34m\u001b[0m\u001b[0m\n\u001b[1;32m     17\u001b[0m \u001b[0max\u001b[0m\u001b[0;34m.\u001b[0m\u001b[0mbar\u001b[0m\u001b[0;34m(\u001b[0m\u001b[0mxax\u001b[0m \u001b[0;34m+\u001b[0m\u001b[0;36m0.4\u001b[0m\u001b[0;34m,\u001b[0m \u001b[0mf1_macros_opt\u001b[0m\u001b[0;34m,\u001b[0m \u001b[0mlabel\u001b[0m\u001b[0;34m=\u001b[0m\u001b[0;34m'F1 MACRO OPTIMIZED'\u001b[0m\u001b[0;34m,\u001b[0m\u001b[0malign\u001b[0m\u001b[0;34m=\u001b[0m\u001b[0;34m'edge'\u001b[0m\u001b[0;34m,\u001b[0m\u001b[0mwidth\u001b[0m\u001b[0;34m=\u001b[0m\u001b[0;36m0.2\u001b[0m\u001b[0;34m,\u001b[0m \u001b[0mcolor\u001b[0m\u001b[0;34m=\u001b[0m\u001b[0;34m'm'\u001b[0m \u001b[0;34m)\u001b[0m\u001b[0;34m\u001b[0m\u001b[0;34m\u001b[0m\u001b[0m\n",
            "\u001b[0;32m/usr/local/lib/python3.6/dist-packages/matplotlib/__init__.py\u001b[0m in \u001b[0;36minner\u001b[0;34m(ax, data, *args, **kwargs)\u001b[0m\n\u001b[1;32m   1563\u001b[0m     \u001b[0;32mdef\u001b[0m \u001b[0minner\u001b[0m\u001b[0;34m(\u001b[0m\u001b[0max\u001b[0m\u001b[0;34m,\u001b[0m \u001b[0;34m*\u001b[0m\u001b[0margs\u001b[0m\u001b[0;34m,\u001b[0m \u001b[0mdata\u001b[0m\u001b[0;34m=\u001b[0m\u001b[0;32mNone\u001b[0m\u001b[0;34m,\u001b[0m \u001b[0;34m**\u001b[0m\u001b[0mkwargs\u001b[0m\u001b[0;34m)\u001b[0m\u001b[0;34m:\u001b[0m\u001b[0;34m\u001b[0m\u001b[0;34m\u001b[0m\u001b[0m\n\u001b[1;32m   1564\u001b[0m         \u001b[0;32mif\u001b[0m \u001b[0mdata\u001b[0m \u001b[0;32mis\u001b[0m \u001b[0;32mNone\u001b[0m\u001b[0;34m:\u001b[0m\u001b[0;34m\u001b[0m\u001b[0;34m\u001b[0m\u001b[0m\n\u001b[0;32m-> 1565\u001b[0;31m             \u001b[0;32mreturn\u001b[0m \u001b[0mfunc\u001b[0m\u001b[0;34m(\u001b[0m\u001b[0max\u001b[0m\u001b[0;34m,\u001b[0m \u001b[0;34m*\u001b[0m\u001b[0mmap\u001b[0m\u001b[0;34m(\u001b[0m\u001b[0msanitize_sequence\u001b[0m\u001b[0;34m,\u001b[0m \u001b[0margs\u001b[0m\u001b[0;34m)\u001b[0m\u001b[0;34m,\u001b[0m \u001b[0;34m**\u001b[0m\u001b[0mkwargs\u001b[0m\u001b[0;34m)\u001b[0m\u001b[0;34m\u001b[0m\u001b[0;34m\u001b[0m\u001b[0m\n\u001b[0m\u001b[1;32m   1566\u001b[0m \u001b[0;34m\u001b[0m\u001b[0m\n\u001b[1;32m   1567\u001b[0m         \u001b[0mbound\u001b[0m \u001b[0;34m=\u001b[0m \u001b[0mnew_sig\u001b[0m\u001b[0;34m.\u001b[0m\u001b[0mbind\u001b[0m\u001b[0;34m(\u001b[0m\u001b[0max\u001b[0m\u001b[0;34m,\u001b[0m \u001b[0;34m*\u001b[0m\u001b[0margs\u001b[0m\u001b[0;34m,\u001b[0m \u001b[0;34m**\u001b[0m\u001b[0mkwargs\u001b[0m\u001b[0;34m)\u001b[0m\u001b[0;34m\u001b[0m\u001b[0;34m\u001b[0m\u001b[0m\n",
            "\u001b[0;32m/usr/local/lib/python3.6/dist-packages/matplotlib/axes/_axes.py\u001b[0m in \u001b[0;36mbar\u001b[0;34m(self, x, height, width, bottom, align, **kwargs)\u001b[0m\n\u001b[1;32m   2340\u001b[0m         x, height, width, y, linewidth = np.broadcast_arrays(\n\u001b[1;32m   2341\u001b[0m             \u001b[0;31m# Make args iterable too.\u001b[0m\u001b[0;34m\u001b[0m\u001b[0;34m\u001b[0m\u001b[0;34m\u001b[0m\u001b[0m\n\u001b[0;32m-> 2342\u001b[0;31m             np.atleast_1d(x), height, width, y, linewidth)\n\u001b[0m\u001b[1;32m   2343\u001b[0m \u001b[0;34m\u001b[0m\u001b[0m\n\u001b[1;32m   2344\u001b[0m         \u001b[0;31m# Now that units have been converted, set the tick locations.\u001b[0m\u001b[0;34m\u001b[0m\u001b[0;34m\u001b[0m\u001b[0;34m\u001b[0m\u001b[0m\n",
            "\u001b[0;32m<__array_function__ internals>\u001b[0m in \u001b[0;36mbroadcast_arrays\u001b[0;34m(*args, **kwargs)\u001b[0m\n",
            "\u001b[0;32m/usr/local/lib/python3.6/dist-packages/numpy/lib/stride_tricks.py\u001b[0m in \u001b[0;36mbroadcast_arrays\u001b[0;34m(*args, **kwargs)\u001b[0m\n\u001b[1;32m    262\u001b[0m     \u001b[0margs\u001b[0m \u001b[0;34m=\u001b[0m \u001b[0;34m[\u001b[0m\u001b[0mnp\u001b[0m\u001b[0;34m.\u001b[0m\u001b[0marray\u001b[0m\u001b[0;34m(\u001b[0m\u001b[0m_m\u001b[0m\u001b[0;34m,\u001b[0m \u001b[0mcopy\u001b[0m\u001b[0;34m=\u001b[0m\u001b[0;32mFalse\u001b[0m\u001b[0;34m,\u001b[0m \u001b[0msubok\u001b[0m\u001b[0;34m=\u001b[0m\u001b[0msubok\u001b[0m\u001b[0;34m)\u001b[0m \u001b[0;32mfor\u001b[0m \u001b[0m_m\u001b[0m \u001b[0;32min\u001b[0m \u001b[0margs\u001b[0m\u001b[0;34m]\u001b[0m\u001b[0;34m\u001b[0m\u001b[0;34m\u001b[0m\u001b[0m\n\u001b[1;32m    263\u001b[0m \u001b[0;34m\u001b[0m\u001b[0m\n\u001b[0;32m--> 264\u001b[0;31m     \u001b[0mshape\u001b[0m \u001b[0;34m=\u001b[0m \u001b[0m_broadcast_shape\u001b[0m\u001b[0;34m(\u001b[0m\u001b[0;34m*\u001b[0m\u001b[0margs\u001b[0m\u001b[0;34m)\u001b[0m\u001b[0;34m\u001b[0m\u001b[0;34m\u001b[0m\u001b[0m\n\u001b[0m\u001b[1;32m    265\u001b[0m \u001b[0;34m\u001b[0m\u001b[0m\n\u001b[1;32m    266\u001b[0m     \u001b[0;32mif\u001b[0m \u001b[0mall\u001b[0m\u001b[0;34m(\u001b[0m\u001b[0marray\u001b[0m\u001b[0;34m.\u001b[0m\u001b[0mshape\u001b[0m \u001b[0;34m==\u001b[0m \u001b[0mshape\u001b[0m \u001b[0;32mfor\u001b[0m \u001b[0marray\u001b[0m \u001b[0;32min\u001b[0m \u001b[0margs\u001b[0m\u001b[0;34m)\u001b[0m\u001b[0;34m:\u001b[0m\u001b[0;34m\u001b[0m\u001b[0;34m\u001b[0m\u001b[0m\n",
            "\u001b[0;32m/usr/local/lib/python3.6/dist-packages/numpy/lib/stride_tricks.py\u001b[0m in \u001b[0;36m_broadcast_shape\u001b[0;34m(*args)\u001b[0m\n\u001b[1;32m    189\u001b[0m     \u001b[0;31m# use the old-iterator because np.nditer does not handle size 0 arrays\u001b[0m\u001b[0;34m\u001b[0m\u001b[0;34m\u001b[0m\u001b[0;34m\u001b[0m\u001b[0m\n\u001b[1;32m    190\u001b[0m     \u001b[0;31m# consistently\u001b[0m\u001b[0;34m\u001b[0m\u001b[0;34m\u001b[0m\u001b[0;34m\u001b[0m\u001b[0m\n\u001b[0;32m--> 191\u001b[0;31m     \u001b[0mb\u001b[0m \u001b[0;34m=\u001b[0m \u001b[0mnp\u001b[0m\u001b[0;34m.\u001b[0m\u001b[0mbroadcast\u001b[0m\u001b[0;34m(\u001b[0m\u001b[0;34m*\u001b[0m\u001b[0margs\u001b[0m\u001b[0;34m[\u001b[0m\u001b[0;34m:\u001b[0m\u001b[0;36m32\u001b[0m\u001b[0;34m]\u001b[0m\u001b[0;34m)\u001b[0m\u001b[0;34m\u001b[0m\u001b[0;34m\u001b[0m\u001b[0m\n\u001b[0m\u001b[1;32m    192\u001b[0m     \u001b[0;31m# unfortunately, it cannot handle 32 or more arguments directly\u001b[0m\u001b[0;34m\u001b[0m\u001b[0;34m\u001b[0m\u001b[0;34m\u001b[0m\u001b[0m\n\u001b[1;32m    193\u001b[0m     \u001b[0;32mfor\u001b[0m \u001b[0mpos\u001b[0m \u001b[0;32min\u001b[0m \u001b[0mrange\u001b[0m\u001b[0;34m(\u001b[0m\u001b[0;36m32\u001b[0m\u001b[0;34m,\u001b[0m \u001b[0mlen\u001b[0m\u001b[0;34m(\u001b[0m\u001b[0margs\u001b[0m\u001b[0;34m)\u001b[0m\u001b[0;34m,\u001b[0m \u001b[0;36m31\u001b[0m\u001b[0;34m)\u001b[0m\u001b[0;34m:\u001b[0m\u001b[0;34m\u001b[0m\u001b[0;34m\u001b[0m\u001b[0m\n",
            "\u001b[0;31mValueError\u001b[0m: shape mismatch: objects cannot be broadcast to a single shape"
          ]
        },
        {
          "output_type": "display_data",
          "data": {
            "image/png": "[encoded data removed]",
            "text/plain": [
              "<Figure size 720x576 with 1 Axes>"
            ]
          },
          "metadata": {
            "tags": [],
            "needs_background": "light"
          }
        }
      ]
    },
    {
      "cell_type": "markdown",
      "metadata": {
        "id": "ifsggMOBg0on"
      },
      "source": [
        "#**Μεγάλο Dataset (B09 - [SECOM Data Set](http://archive.ics.uci.edu/ml/datasets/SECOM))**"
      ]
    },
    {
      "cell_type": "markdown",
      "metadata": {
        "id": "QOPELRdr0DV4"
      },
      "source": [
        "###Βασικές Πληροφορίες"
      ]
    },
    {
      "cell_type": "markdown",
      "metadata": {
        "id": "yRY366bh0GfC"
      },
      "source": [
        "1. Το dataset αφορά δεδομένα που συλλέχθηκαν κατά την παραγωγή ημιαγωγών. Yπάρχουν 1567 δείγματα με 590 χαρακτηριστικά το καθένα. Κάθε δείγμα αντιπροσωπεύει μία μονάδα που παράχθηκε και κάθε χαρακτηριστικό αντιπροσωπεύει μία μέτρηση που έγινε κατά την παραγωγή του. Όσον αφορά τα labels, οι τιμές που παίρνουν είναι 1 και -1. Η τιμή -1 υποδεικνύει πως το προϊόν πέρασε τον έλεγχο, ενώ η τιμή 1 πως απέτυχε"
      ]
    },
    {
      "cell_type": "code",
      "metadata": {
        "id": "WWwdB_eBhG9z",
        "colab": {
          "base_uri": "https://localhost:8080/",
          "height": 444
        },
        "outputId": "2a05cd39-a7e0-4148-9b00-3b78e50d5f9a"
      },
      "source": [
        "path = '/content/drive/My Drive/Colab Notebooks/Neural Networks/Ασκησεις/1η Εργασία/'\n",
        "big_data_path = path+'big_data.data'\n",
        "big_data_labels = path+'big_labels.data'\n",
        "\n",
        "#Aνάγνωση των χαρακτηριστικών\n",
        "df_data = pd.read_csv(big_data_path, sep=' ', header=None)\n",
        "\n",
        "#Ανάγνωση των labels και εισαγωγή τους στο dataset των χαρακτηριστικών στο τελευταίο column\n",
        "df_vals = pd.read_csv(big_data_labels,sep=' ', header=None)\n",
        "df_vals = df_vals[0]\n",
        "df_data['Label'] = df_vals\n",
        "df_data"
      ],
      "execution_count": null,
      "outputs": [
        {
          "output_type": "execute_result",
          "data": {
            "text/html": [
              "<div>\n",
              "<style scoped>\n",
              "    .dataframe tbody tr th:only-of-type {\n",
              "        vertical-align: middle;\n",
              "    }\n",
              "\n",
              "    .dataframe tbody tr th {\n",
              "        vertical-align: top;\n",
              "    }\n",
              "\n",
              "    .dataframe thead th {\n",
              "        text-align: right;\n",
              "    }\n",
              "</style>\n",
              "<table border=\"1\" class=\"dataframe\">\n",
              "  <thead>\n",
              "    <tr style=\"text-align: right;\">\n",
              "      <th></th>\n",
              "      <th>0</th>\n",
              "      <th>1</th>\n",
              "      <th>2</th>\n",
              "      <th>3</th>\n",
              "      <th>4</th>\n",
              "      <th>5</th>\n",
              "      <th>6</th>\n",
              "      <th>7</th>\n",
              "      <th>8</th>\n",
              "      <th>9</th>\n",
              "      <th>10</th>\n",
              "      <th>11</th>\n",
              "      <th>12</th>\n",
              "      <th>13</th>\n",
              "      <th>14</th>\n",
              "      <th>15</th>\n",
              "      <th>16</th>\n",
              "      <th>17</th>\n",
              "      <th>18</th>\n",
              "      <th>19</th>\n",
              "      <th>20</th>\n",
              "      <th>21</th>\n",
              "      <th>22</th>\n",
              "      <th>23</th>\n",
              "      <th>24</th>\n",
              "      <th>25</th>\n",
              "      <th>26</th>\n",
              "      <th>27</th>\n",
              "      <th>28</th>\n",
              "      <th>29</th>\n",
              "      <th>30</th>\n",
              "      <th>31</th>\n",
              "      <th>32</th>\n",
              "      <th>33</th>\n",
              "      <th>34</th>\n",
              "      <th>35</th>\n",
              "      <th>36</th>\n",
              "      <th>37</th>\n",
              "      <th>38</th>\n",
              "      <th>39</th>\n",
              "      <th>...</th>\n",
              "      <th>551</th>\n",
              "      <th>552</th>\n",
              "      <th>553</th>\n",
              "      <th>554</th>\n",
              "      <th>555</th>\n",
              "      <th>556</th>\n",
              "      <th>557</th>\n",
              "      <th>558</th>\n",
              "      <th>559</th>\n",
              "      <th>560</th>\n",
              "      <th>561</th>\n",
              "      <th>562</th>\n",
              "      <th>563</th>\n",
              "      <th>564</th>\n",
              "      <th>565</th>\n",
              "      <th>566</th>\n",
              "      <th>567</th>\n",
              "      <th>568</th>\n",
              "      <th>569</th>\n",
              "      <th>570</th>\n",
              "      <th>571</th>\n",
              "      <th>572</th>\n",
              "      <th>573</th>\n",
              "      <th>574</th>\n",
              "      <th>575</th>\n",
              "      <th>576</th>\n",
              "      <th>577</th>\n",
              "      <th>578</th>\n",
              "      <th>579</th>\n",
              "      <th>580</th>\n",
              "      <th>581</th>\n",
              "      <th>582</th>\n",
              "      <th>583</th>\n",
              "      <th>584</th>\n",
              "      <th>585</th>\n",
              "      <th>586</th>\n",
              "      <th>587</th>\n",
              "      <th>588</th>\n",
              "      <th>589</th>\n",
              "      <th>Label</th>\n",
              "    </tr>\n",
              "  </thead>\n",
              "  <tbody>\n",
              "    <tr>\n",
              "      <th>0</th>\n",
              "      <td>3030.93</td>\n",
              "      <td>2564.00</td>\n",
              "      <td>2187.7333</td>\n",
              "      <td>1411.1265</td>\n",
              "      <td>1.3602</td>\n",
              "      <td>100.0</td>\n",
              "      <td>97.6133</td>\n",
              "      <td>0.1242</td>\n",
              "      <td>1.5005</td>\n",
              "      <td>0.0162</td>\n",
              "      <td>-0.0034</td>\n",
              "      <td>0.9455</td>\n",
              "      <td>202.4396</td>\n",
              "      <td>0.0</td>\n",
              "      <td>7.9558</td>\n",
              "      <td>414.8710</td>\n",
              "      <td>10.0433</td>\n",
              "      <td>0.9680</td>\n",
              "      <td>192.3963</td>\n",
              "      <td>12.5190</td>\n",
              "      <td>1.4026</td>\n",
              "      <td>-5419.00</td>\n",
              "      <td>2916.50</td>\n",
              "      <td>-4043.75</td>\n",
              "      <td>751.00</td>\n",
              "      <td>0.8955</td>\n",
              "      <td>1.7730</td>\n",
              "      <td>3.0490</td>\n",
              "      <td>64.2333</td>\n",
              "      <td>2.0222</td>\n",
              "      <td>0.1632</td>\n",
              "      <td>3.5191</td>\n",
              "      <td>83.3971</td>\n",
              "      <td>9.5126</td>\n",
              "      <td>50.6170</td>\n",
              "      <td>64.2588</td>\n",
              "      <td>49.3830</td>\n",
              "      <td>66.3141</td>\n",
              "      <td>86.9555</td>\n",
              "      <td>117.5132</td>\n",
              "      <td>...</td>\n",
              "      <td>0.78</td>\n",
              "      <td>0.1827</td>\n",
              "      <td>5.7349</td>\n",
              "      <td>0.3363</td>\n",
              "      <td>39.8842</td>\n",
              "      <td>3.2687</td>\n",
              "      <td>1.0297</td>\n",
              "      <td>1.0344</td>\n",
              "      <td>0.4385</td>\n",
              "      <td>0.1039</td>\n",
              "      <td>42.3877</td>\n",
              "      <td>NaN</td>\n",
              "      <td>NaN</td>\n",
              "      <td>NaN</td>\n",
              "      <td>NaN</td>\n",
              "      <td>NaN</td>\n",
              "      <td>NaN</td>\n",
              "      <td>NaN</td>\n",
              "      <td>NaN</td>\n",
              "      <td>533.8500</td>\n",
              "      <td>2.1113</td>\n",
              "      <td>8.95</td>\n",
              "      <td>0.3157</td>\n",
              "      <td>3.0624</td>\n",
              "      <td>0.1026</td>\n",
              "      <td>1.6765</td>\n",
              "      <td>14.9509</td>\n",
              "      <td>NaN</td>\n",
              "      <td>NaN</td>\n",
              "      <td>NaN</td>\n",
              "      <td>NaN</td>\n",
              "      <td>0.5005</td>\n",
              "      <td>0.0118</td>\n",
              "      <td>0.0035</td>\n",
              "      <td>2.3630</td>\n",
              "      <td>NaN</td>\n",
              "      <td>NaN</td>\n",
              "      <td>NaN</td>\n",
              "      <td>NaN</td>\n",
              "      <td>-1</td>\n",
              "    </tr>\n",
              "    <tr>\n",
              "      <th>1</th>\n",
              "      <td>3095.78</td>\n",
              "      <td>2465.14</td>\n",
              "      <td>2230.4222</td>\n",
              "      <td>1463.6606</td>\n",
              "      <td>0.8294</td>\n",
              "      <td>100.0</td>\n",
              "      <td>102.3433</td>\n",
              "      <td>0.1247</td>\n",
              "      <td>1.4966</td>\n",
              "      <td>-0.0005</td>\n",
              "      <td>-0.0148</td>\n",
              "      <td>0.9627</td>\n",
              "      <td>200.5470</td>\n",
              "      <td>0.0</td>\n",
              "      <td>10.1548</td>\n",
              "      <td>414.7347</td>\n",
              "      <td>9.2599</td>\n",
              "      <td>0.9701</td>\n",
              "      <td>191.2872</td>\n",
              "      <td>12.4608</td>\n",
              "      <td>1.3825</td>\n",
              "      <td>-5441.50</td>\n",
              "      <td>2604.25</td>\n",
              "      <td>-3498.75</td>\n",
              "      <td>-1640.25</td>\n",
              "      <td>1.2973</td>\n",
              "      <td>2.0143</td>\n",
              "      <td>7.3900</td>\n",
              "      <td>68.4222</td>\n",
              "      <td>2.2667</td>\n",
              "      <td>0.2102</td>\n",
              "      <td>3.4171</td>\n",
              "      <td>84.9052</td>\n",
              "      <td>9.7997</td>\n",
              "      <td>50.6596</td>\n",
              "      <td>64.2828</td>\n",
              "      <td>49.3404</td>\n",
              "      <td>64.9193</td>\n",
              "      <td>87.5241</td>\n",
              "      <td>118.1188</td>\n",
              "      <td>...</td>\n",
              "      <td>1.33</td>\n",
              "      <td>0.2829</td>\n",
              "      <td>7.1196</td>\n",
              "      <td>0.4989</td>\n",
              "      <td>53.1836</td>\n",
              "      <td>3.9139</td>\n",
              "      <td>1.7819</td>\n",
              "      <td>0.9634</td>\n",
              "      <td>0.1745</td>\n",
              "      <td>0.0375</td>\n",
              "      <td>18.1087</td>\n",
              "      <td>NaN</td>\n",
              "      <td>NaN</td>\n",
              "      <td>NaN</td>\n",
              "      <td>NaN</td>\n",
              "      <td>NaN</td>\n",
              "      <td>NaN</td>\n",
              "      <td>NaN</td>\n",
              "      <td>NaN</td>\n",
              "      <td>535.0164</td>\n",
              "      <td>2.4335</td>\n",
              "      <td>5.92</td>\n",
              "      <td>0.2653</td>\n",
              "      <td>2.0111</td>\n",
              "      <td>0.0772</td>\n",
              "      <td>1.1065</td>\n",
              "      <td>10.9003</td>\n",
              "      <td>0.0096</td>\n",
              "      <td>0.0201</td>\n",
              "      <td>0.0060</td>\n",
              "      <td>208.2045</td>\n",
              "      <td>0.5019</td>\n",
              "      <td>0.0223</td>\n",
              "      <td>0.0055</td>\n",
              "      <td>4.4447</td>\n",
              "      <td>0.0096</td>\n",
              "      <td>0.0201</td>\n",
              "      <td>0.0060</td>\n",
              "      <td>208.2045</td>\n",
              "      <td>-1</td>\n",
              "    </tr>\n",
              "    <tr>\n",
              "      <th>2</th>\n",
              "      <td>2932.61</td>\n",
              "      <td>2559.94</td>\n",
              "      <td>2186.4111</td>\n",
              "      <td>1698.0172</td>\n",
              "      <td>1.5102</td>\n",
              "      <td>100.0</td>\n",
              "      <td>95.4878</td>\n",
              "      <td>0.1241</td>\n",
              "      <td>1.4436</td>\n",
              "      <td>0.0041</td>\n",
              "      <td>0.0013</td>\n",
              "      <td>0.9615</td>\n",
              "      <td>202.0179</td>\n",
              "      <td>0.0</td>\n",
              "      <td>9.5157</td>\n",
              "      <td>416.7075</td>\n",
              "      <td>9.3144</td>\n",
              "      <td>0.9674</td>\n",
              "      <td>192.7035</td>\n",
              "      <td>12.5404</td>\n",
              "      <td>1.4123</td>\n",
              "      <td>-5447.75</td>\n",
              "      <td>2701.75</td>\n",
              "      <td>-4047.00</td>\n",
              "      <td>-1916.50</td>\n",
              "      <td>1.3122</td>\n",
              "      <td>2.0295</td>\n",
              "      <td>7.5788</td>\n",
              "      <td>67.1333</td>\n",
              "      <td>2.3333</td>\n",
              "      <td>0.1734</td>\n",
              "      <td>3.5986</td>\n",
              "      <td>84.7569</td>\n",
              "      <td>8.6590</td>\n",
              "      <td>50.1530</td>\n",
              "      <td>64.1114</td>\n",
              "      <td>49.8470</td>\n",
              "      <td>65.8389</td>\n",
              "      <td>84.7327</td>\n",
              "      <td>118.6128</td>\n",
              "      <td>...</td>\n",
              "      <td>0.85</td>\n",
              "      <td>0.0857</td>\n",
              "      <td>7.1619</td>\n",
              "      <td>0.3752</td>\n",
              "      <td>23.0713</td>\n",
              "      <td>3.9306</td>\n",
              "      <td>1.1386</td>\n",
              "      <td>1.5021</td>\n",
              "      <td>0.3718</td>\n",
              "      <td>0.1233</td>\n",
              "      <td>24.7524</td>\n",
              "      <td>267.064</td>\n",
              "      <td>0.9032</td>\n",
              "      <td>1.10</td>\n",
              "      <td>0.6219</td>\n",
              "      <td>0.4122</td>\n",
              "      <td>0.2562</td>\n",
              "      <td>0.4119</td>\n",
              "      <td>68.8489</td>\n",
              "      <td>535.0245</td>\n",
              "      <td>2.0293</td>\n",
              "      <td>11.21</td>\n",
              "      <td>0.1882</td>\n",
              "      <td>4.0923</td>\n",
              "      <td>0.0640</td>\n",
              "      <td>2.0952</td>\n",
              "      <td>9.2721</td>\n",
              "      <td>0.0584</td>\n",
              "      <td>0.0484</td>\n",
              "      <td>0.0148</td>\n",
              "      <td>82.8602</td>\n",
              "      <td>0.4958</td>\n",
              "      <td>0.0157</td>\n",
              "      <td>0.0039</td>\n",
              "      <td>3.1745</td>\n",
              "      <td>0.0584</td>\n",
              "      <td>0.0484</td>\n",
              "      <td>0.0148</td>\n",
              "      <td>82.8602</td>\n",
              "      <td>1</td>\n",
              "    </tr>\n",
              "    <tr>\n",
              "      <th>3</th>\n",
              "      <td>2988.72</td>\n",
              "      <td>2479.90</td>\n",
              "      <td>2199.0333</td>\n",
              "      <td>909.7926</td>\n",
              "      <td>1.3204</td>\n",
              "      <td>100.0</td>\n",
              "      <td>104.2367</td>\n",
              "      <td>0.1217</td>\n",
              "      <td>1.4882</td>\n",
              "      <td>-0.0124</td>\n",
              "      <td>-0.0033</td>\n",
              "      <td>0.9629</td>\n",
              "      <td>201.8482</td>\n",
              "      <td>0.0</td>\n",
              "      <td>9.6052</td>\n",
              "      <td>422.2894</td>\n",
              "      <td>9.6924</td>\n",
              "      <td>0.9687</td>\n",
              "      <td>192.1557</td>\n",
              "      <td>12.4782</td>\n",
              "      <td>1.4011</td>\n",
              "      <td>-5468.25</td>\n",
              "      <td>2648.25</td>\n",
              "      <td>-4515.00</td>\n",
              "      <td>-1657.25</td>\n",
              "      <td>1.3137</td>\n",
              "      <td>2.0038</td>\n",
              "      <td>7.3145</td>\n",
              "      <td>62.9333</td>\n",
              "      <td>2.6444</td>\n",
              "      <td>0.2071</td>\n",
              "      <td>3.3813</td>\n",
              "      <td>84.9105</td>\n",
              "      <td>8.6789</td>\n",
              "      <td>50.5100</td>\n",
              "      <td>64.1125</td>\n",
              "      <td>49.4900</td>\n",
              "      <td>65.1951</td>\n",
              "      <td>86.6867</td>\n",
              "      <td>117.0442</td>\n",
              "      <td>...</td>\n",
              "      <td>39.33</td>\n",
              "      <td>0.6812</td>\n",
              "      <td>56.9303</td>\n",
              "      <td>17.4781</td>\n",
              "      <td>161.4081</td>\n",
              "      <td>35.3198</td>\n",
              "      <td>54.2917</td>\n",
              "      <td>1.1613</td>\n",
              "      <td>0.7288</td>\n",
              "      <td>0.2710</td>\n",
              "      <td>62.7572</td>\n",
              "      <td>268.228</td>\n",
              "      <td>0.6511</td>\n",
              "      <td>7.32</td>\n",
              "      <td>0.1630</td>\n",
              "      <td>3.5611</td>\n",
              "      <td>0.0670</td>\n",
              "      <td>2.7290</td>\n",
              "      <td>25.0363</td>\n",
              "      <td>530.5682</td>\n",
              "      <td>2.0253</td>\n",
              "      <td>9.33</td>\n",
              "      <td>0.1738</td>\n",
              "      <td>2.8971</td>\n",
              "      <td>0.0525</td>\n",
              "      <td>1.7585</td>\n",
              "      <td>8.5831</td>\n",
              "      <td>0.0202</td>\n",
              "      <td>0.0149</td>\n",
              "      <td>0.0044</td>\n",
              "      <td>73.8432</td>\n",
              "      <td>0.4990</td>\n",
              "      <td>0.0103</td>\n",
              "      <td>0.0025</td>\n",
              "      <td>2.0544</td>\n",
              "      <td>0.0202</td>\n",
              "      <td>0.0149</td>\n",
              "      <td>0.0044</td>\n",
              "      <td>73.8432</td>\n",
              "      <td>-1</td>\n",
              "    </tr>\n",
              "    <tr>\n",
              "      <th>4</th>\n",
              "      <td>3032.24</td>\n",
              "      <td>2502.87</td>\n",
              "      <td>2233.3667</td>\n",
              "      <td>1326.5200</td>\n",
              "      <td>1.5334</td>\n",
              "      <td>100.0</td>\n",
              "      <td>100.3967</td>\n",
              "      <td>0.1235</td>\n",
              "      <td>1.5031</td>\n",
              "      <td>-0.0031</td>\n",
              "      <td>-0.0072</td>\n",
              "      <td>0.9569</td>\n",
              "      <td>201.9424</td>\n",
              "      <td>0.0</td>\n",
              "      <td>10.5661</td>\n",
              "      <td>420.5925</td>\n",
              "      <td>10.3387</td>\n",
              "      <td>0.9735</td>\n",
              "      <td>191.6037</td>\n",
              "      <td>12.4735</td>\n",
              "      <td>1.3888</td>\n",
              "      <td>-5476.25</td>\n",
              "      <td>2635.25</td>\n",
              "      <td>-3987.50</td>\n",
              "      <td>117.00</td>\n",
              "      <td>1.2887</td>\n",
              "      <td>1.9912</td>\n",
              "      <td>7.2748</td>\n",
              "      <td>62.8333</td>\n",
              "      <td>3.1556</td>\n",
              "      <td>0.2696</td>\n",
              "      <td>3.2728</td>\n",
              "      <td>86.3269</td>\n",
              "      <td>8.7677</td>\n",
              "      <td>50.2480</td>\n",
              "      <td>64.1511</td>\n",
              "      <td>49.7520</td>\n",
              "      <td>66.1542</td>\n",
              "      <td>86.1468</td>\n",
              "      <td>121.4364</td>\n",
              "      <td>...</td>\n",
              "      <td>1.98</td>\n",
              "      <td>0.4287</td>\n",
              "      <td>9.7608</td>\n",
              "      <td>0.8311</td>\n",
              "      <td>70.9706</td>\n",
              "      <td>4.9086</td>\n",
              "      <td>2.5014</td>\n",
              "      <td>0.9778</td>\n",
              "      <td>0.2156</td>\n",
              "      <td>0.0461</td>\n",
              "      <td>22.0500</td>\n",
              "      <td>NaN</td>\n",
              "      <td>NaN</td>\n",
              "      <td>NaN</td>\n",
              "      <td>NaN</td>\n",
              "      <td>NaN</td>\n",
              "      <td>NaN</td>\n",
              "      <td>NaN</td>\n",
              "      <td>NaN</td>\n",
              "      <td>532.0155</td>\n",
              "      <td>2.0275</td>\n",
              "      <td>8.83</td>\n",
              "      <td>0.2224</td>\n",
              "      <td>3.1776</td>\n",
              "      <td>0.0706</td>\n",
              "      <td>1.6597</td>\n",
              "      <td>10.9698</td>\n",
              "      <td>NaN</td>\n",
              "      <td>NaN</td>\n",
              "      <td>NaN</td>\n",
              "      <td>NaN</td>\n",
              "      <td>0.4800</td>\n",
              "      <td>0.4766</td>\n",
              "      <td>0.1045</td>\n",
              "      <td>99.3032</td>\n",
              "      <td>0.0202</td>\n",
              "      <td>0.0149</td>\n",
              "      <td>0.0044</td>\n",
              "      <td>73.8432</td>\n",
              "      <td>-1</td>\n",
              "    </tr>\n",
              "    <tr>\n",
              "      <th>...</th>\n",
              "      <td>...</td>\n",
              "      <td>...</td>\n",
              "      <td>...</td>\n",
              "      <td>...</td>\n",
              "      <td>...</td>\n",
              "      <td>...</td>\n",
              "      <td>...</td>\n",
              "      <td>...</td>\n",
              "      <td>...</td>\n",
              "      <td>...</td>\n",
              "      <td>...</td>\n",
              "      <td>...</td>\n",
              "      <td>...</td>\n",
              "      <td>...</td>\n",
              "      <td>...</td>\n",
              "      <td>...</td>\n",
              "      <td>...</td>\n",
              "      <td>...</td>\n",
              "      <td>...</td>\n",
              "      <td>...</td>\n",
              "      <td>...</td>\n",
              "      <td>...</td>\n",
              "      <td>...</td>\n",
              "      <td>...</td>\n",
              "      <td>...</td>\n",
              "      <td>...</td>\n",
              "      <td>...</td>\n",
              "      <td>...</td>\n",
              "      <td>...</td>\n",
              "      <td>...</td>\n",
              "      <td>...</td>\n",
              "      <td>...</td>\n",
              "      <td>...</td>\n",
              "      <td>...</td>\n",
              "      <td>...</td>\n",
              "      <td>...</td>\n",
              "      <td>...</td>\n",
              "      <td>...</td>\n",
              "      <td>...</td>\n",
              "      <td>...</td>\n",
              "      <td>...</td>\n",
              "      <td>...</td>\n",
              "      <td>...</td>\n",
              "      <td>...</td>\n",
              "      <td>...</td>\n",
              "      <td>...</td>\n",
              "      <td>...</td>\n",
              "      <td>...</td>\n",
              "      <td>...</td>\n",
              "      <td>...</td>\n",
              "      <td>...</td>\n",
              "      <td>...</td>\n",
              "      <td>...</td>\n",
              "      <td>...</td>\n",
              "      <td>...</td>\n",
              "      <td>...</td>\n",
              "      <td>...</td>\n",
              "      <td>...</td>\n",
              "      <td>...</td>\n",
              "      <td>...</td>\n",
              "      <td>...</td>\n",
              "      <td>...</td>\n",
              "      <td>...</td>\n",
              "      <td>...</td>\n",
              "      <td>...</td>\n",
              "      <td>...</td>\n",
              "      <td>...</td>\n",
              "      <td>...</td>\n",
              "      <td>...</td>\n",
              "      <td>...</td>\n",
              "      <td>...</td>\n",
              "      <td>...</td>\n",
              "      <td>...</td>\n",
              "      <td>...</td>\n",
              "      <td>...</td>\n",
              "      <td>...</td>\n",
              "      <td>...</td>\n",
              "      <td>...</td>\n",
              "      <td>...</td>\n",
              "      <td>...</td>\n",
              "      <td>...</td>\n",
              "    </tr>\n",
              "    <tr>\n",
              "      <th>1562</th>\n",
              "      <td>2899.41</td>\n",
              "      <td>2464.36</td>\n",
              "      <td>2179.7333</td>\n",
              "      <td>3085.3781</td>\n",
              "      <td>1.4843</td>\n",
              "      <td>100.0</td>\n",
              "      <td>82.2467</td>\n",
              "      <td>0.1248</td>\n",
              "      <td>1.3424</td>\n",
              "      <td>-0.0045</td>\n",
              "      <td>-0.0057</td>\n",
              "      <td>0.9579</td>\n",
              "      <td>203.9867</td>\n",
              "      <td>0.0</td>\n",
              "      <td>11.7692</td>\n",
              "      <td>419.3404</td>\n",
              "      <td>10.2397</td>\n",
              "      <td>0.9693</td>\n",
              "      <td>193.7470</td>\n",
              "      <td>12.5373</td>\n",
              "      <td>1.4072</td>\n",
              "      <td>-5418.75</td>\n",
              "      <td>2608.00</td>\n",
              "      <td>-6228.25</td>\n",
              "      <td>356.00</td>\n",
              "      <td>1.2817</td>\n",
              "      <td>1.9540</td>\n",
              "      <td>7.0793</td>\n",
              "      <td>71.1444</td>\n",
              "      <td>2.2222</td>\n",
              "      <td>0.1753</td>\n",
              "      <td>3.4680</td>\n",
              "      <td>83.8405</td>\n",
              "      <td>8.7164</td>\n",
              "      <td>50.2482</td>\n",
              "      <td>64.3573</td>\n",
              "      <td>49.7518</td>\n",
              "      <td>66.2013</td>\n",
              "      <td>86.3672</td>\n",
              "      <td>120.5156</td>\n",
              "      <td>...</td>\n",
              "      <td>0.80</td>\n",
              "      <td>0.4754</td>\n",
              "      <td>8.5138</td>\n",
              "      <td>0.3141</td>\n",
              "      <td>85.1806</td>\n",
              "      <td>4.2063</td>\n",
              "      <td>1.0367</td>\n",
              "      <td>1.0972</td>\n",
              "      <td>0.3553</td>\n",
              "      <td>0.0929</td>\n",
              "      <td>32.3812</td>\n",
              "      <td>264.272</td>\n",
              "      <td>0.5671</td>\n",
              "      <td>4.98</td>\n",
              "      <td>0.0877</td>\n",
              "      <td>2.0902</td>\n",
              "      <td>0.0382</td>\n",
              "      <td>1.8844</td>\n",
              "      <td>15.4662</td>\n",
              "      <td>536.3418</td>\n",
              "      <td>2.0153</td>\n",
              "      <td>7.98</td>\n",
              "      <td>0.2363</td>\n",
              "      <td>2.6401</td>\n",
              "      <td>0.0785</td>\n",
              "      <td>1.4879</td>\n",
              "      <td>11.7256</td>\n",
              "      <td>0.0068</td>\n",
              "      <td>0.0138</td>\n",
              "      <td>0.0047</td>\n",
              "      <td>203.1720</td>\n",
              "      <td>0.4988</td>\n",
              "      <td>0.0143</td>\n",
              "      <td>0.0039</td>\n",
              "      <td>2.8669</td>\n",
              "      <td>0.0068</td>\n",
              "      <td>0.0138</td>\n",
              "      <td>0.0047</td>\n",
              "      <td>203.1720</td>\n",
              "      <td>-1</td>\n",
              "    </tr>\n",
              "    <tr>\n",
              "      <th>1563</th>\n",
              "      <td>3052.31</td>\n",
              "      <td>2522.55</td>\n",
              "      <td>2198.5667</td>\n",
              "      <td>1124.6595</td>\n",
              "      <td>0.8763</td>\n",
              "      <td>100.0</td>\n",
              "      <td>98.4689</td>\n",
              "      <td>0.1205</td>\n",
              "      <td>1.4333</td>\n",
              "      <td>-0.0061</td>\n",
              "      <td>-0.0093</td>\n",
              "      <td>0.9618</td>\n",
              "      <td>204.0173</td>\n",
              "      <td>0.0</td>\n",
              "      <td>9.1620</td>\n",
              "      <td>405.8178</td>\n",
              "      <td>10.2285</td>\n",
              "      <td>0.9696</td>\n",
              "      <td>193.7889</td>\n",
              "      <td>12.4020</td>\n",
              "      <td>1.3949</td>\n",
              "      <td>-6408.75</td>\n",
              "      <td>2277.50</td>\n",
              "      <td>-3675.50</td>\n",
              "      <td>339.00</td>\n",
              "      <td>1.0870</td>\n",
              "      <td>1.8023</td>\n",
              "      <td>5.1515</td>\n",
              "      <td>72.8444</td>\n",
              "      <td>2.0000</td>\n",
              "      <td>0.1416</td>\n",
              "      <td>4.7088</td>\n",
              "      <td>84.0623</td>\n",
              "      <td>8.9607</td>\n",
              "      <td>50.2067</td>\n",
              "      <td>64.1176</td>\n",
              "      <td>49.7934</td>\n",
              "      <td>66.1488</td>\n",
              "      <td>86.4051</td>\n",
              "      <td>120.2552</td>\n",
              "      <td>...</td>\n",
              "      <td>1.33</td>\n",
              "      <td>0.0949</td>\n",
              "      <td>6.7381</td>\n",
              "      <td>0.5058</td>\n",
              "      <td>27.0176</td>\n",
              "      <td>3.6251</td>\n",
              "      <td>1.8156</td>\n",
              "      <td>0.9671</td>\n",
              "      <td>0.3105</td>\n",
              "      <td>0.0696</td>\n",
              "      <td>32.1048</td>\n",
              "      <td>266.832</td>\n",
              "      <td>0.6254</td>\n",
              "      <td>4.56</td>\n",
              "      <td>0.1308</td>\n",
              "      <td>1.7420</td>\n",
              "      <td>0.0495</td>\n",
              "      <td>1.7089</td>\n",
              "      <td>20.9118</td>\n",
              "      <td>537.9264</td>\n",
              "      <td>2.1814</td>\n",
              "      <td>5.48</td>\n",
              "      <td>0.3891</td>\n",
              "      <td>1.9077</td>\n",
              "      <td>0.1213</td>\n",
              "      <td>1.0187</td>\n",
              "      <td>17.8379</td>\n",
              "      <td>NaN</td>\n",
              "      <td>NaN</td>\n",
              "      <td>NaN</td>\n",
              "      <td>NaN</td>\n",
              "      <td>0.4975</td>\n",
              "      <td>0.0131</td>\n",
              "      <td>0.0036</td>\n",
              "      <td>2.6238</td>\n",
              "      <td>0.0068</td>\n",
              "      <td>0.0138</td>\n",
              "      <td>0.0047</td>\n",
              "      <td>203.1720</td>\n",
              "      <td>-1</td>\n",
              "    </tr>\n",
              "    <tr>\n",
              "      <th>1564</th>\n",
              "      <td>2978.81</td>\n",
              "      <td>2379.78</td>\n",
              "      <td>2206.3000</td>\n",
              "      <td>1110.4967</td>\n",
              "      <td>0.8236</td>\n",
              "      <td>100.0</td>\n",
              "      <td>99.4122</td>\n",
              "      <td>0.1208</td>\n",
              "      <td>NaN</td>\n",
              "      <td>NaN</td>\n",
              "      <td>NaN</td>\n",
              "      <td>NaN</td>\n",
              "      <td>NaN</td>\n",
              "      <td>NaN</td>\n",
              "      <td>NaN</td>\n",
              "      <td>NaN</td>\n",
              "      <td>NaN</td>\n",
              "      <td>NaN</td>\n",
              "      <td>NaN</td>\n",
              "      <td>12.4555</td>\n",
              "      <td>1.4256</td>\n",
              "      <td>-5153.25</td>\n",
              "      <td>2707.00</td>\n",
              "      <td>-4102.00</td>\n",
              "      <td>-1226.00</td>\n",
              "      <td>1.2930</td>\n",
              "      <td>1.9435</td>\n",
              "      <td>7.2315</td>\n",
              "      <td>71.2667</td>\n",
              "      <td>2.2333</td>\n",
              "      <td>0.1659</td>\n",
              "      <td>3.4912</td>\n",
              "      <td>85.8638</td>\n",
              "      <td>8.1728</td>\n",
              "      <td>50.9333</td>\n",
              "      <td>64.4062</td>\n",
              "      <td>49.0667</td>\n",
              "      <td>65.8936</td>\n",
              "      <td>86.3506</td>\n",
              "      <td>117.8912</td>\n",
              "      <td>...</td>\n",
              "      <td>1.50</td>\n",
              "      <td>0.2829</td>\n",
              "      <td>7.0023</td>\n",
              "      <td>0.5605</td>\n",
              "      <td>74.1541</td>\n",
              "      <td>4.1095</td>\n",
              "      <td>2.0228</td>\n",
              "      <td>0.9718</td>\n",
              "      <td>0.1266</td>\n",
              "      <td>0.0332</td>\n",
              "      <td>13.0316</td>\n",
              "      <td>256.730</td>\n",
              "      <td>0.8209</td>\n",
              "      <td>11.09</td>\n",
              "      <td>0.2388</td>\n",
              "      <td>4.4128</td>\n",
              "      <td>0.0965</td>\n",
              "      <td>4.3197</td>\n",
              "      <td>29.0954</td>\n",
              "      <td>530.3709</td>\n",
              "      <td>2.3435</td>\n",
              "      <td>6.49</td>\n",
              "      <td>0.4154</td>\n",
              "      <td>2.1760</td>\n",
              "      <td>0.1352</td>\n",
              "      <td>1.2237</td>\n",
              "      <td>17.7267</td>\n",
              "      <td>0.0197</td>\n",
              "      <td>0.0086</td>\n",
              "      <td>0.0025</td>\n",
              "      <td>43.5231</td>\n",
              "      <td>0.4987</td>\n",
              "      <td>0.0153</td>\n",
              "      <td>0.0041</td>\n",
              "      <td>3.0590</td>\n",
              "      <td>0.0197</td>\n",
              "      <td>0.0086</td>\n",
              "      <td>0.0025</td>\n",
              "      <td>43.5231</td>\n",
              "      <td>-1</td>\n",
              "    </tr>\n",
              "    <tr>\n",
              "      <th>1565</th>\n",
              "      <td>2894.92</td>\n",
              "      <td>2532.01</td>\n",
              "      <td>2177.0333</td>\n",
              "      <td>1183.7287</td>\n",
              "      <td>1.5726</td>\n",
              "      <td>100.0</td>\n",
              "      <td>98.7978</td>\n",
              "      <td>0.1213</td>\n",
              "      <td>1.4622</td>\n",
              "      <td>-0.0072</td>\n",
              "      <td>0.0032</td>\n",
              "      <td>0.9694</td>\n",
              "      <td>197.2448</td>\n",
              "      <td>0.0</td>\n",
              "      <td>9.7354</td>\n",
              "      <td>401.9153</td>\n",
              "      <td>9.8630</td>\n",
              "      <td>0.9740</td>\n",
              "      <td>187.3818</td>\n",
              "      <td>12.3937</td>\n",
              "      <td>1.3868</td>\n",
              "      <td>-5271.75</td>\n",
              "      <td>2676.50</td>\n",
              "      <td>-4001.50</td>\n",
              "      <td>394.75</td>\n",
              "      <td>1.2875</td>\n",
              "      <td>1.9880</td>\n",
              "      <td>7.3255</td>\n",
              "      <td>70.5111</td>\n",
              "      <td>2.9667</td>\n",
              "      <td>0.2386</td>\n",
              "      <td>3.2803</td>\n",
              "      <td>84.5602</td>\n",
              "      <td>9.1930</td>\n",
              "      <td>50.6547</td>\n",
              "      <td>64.0158</td>\n",
              "      <td>49.3453</td>\n",
              "      <td>66.2301</td>\n",
              "      <td>86.3130</td>\n",
              "      <td>118.9288</td>\n",
              "      <td>...</td>\n",
              "      <td>1.33</td>\n",
              "      <td>0.0949</td>\n",
              "      <td>6.7381</td>\n",
              "      <td>0.5058</td>\n",
              "      <td>27.0176</td>\n",
              "      <td>3.6251</td>\n",
              "      <td>1.8156</td>\n",
              "      <td>1.0108</td>\n",
              "      <td>0.1920</td>\n",
              "      <td>0.0435</td>\n",
              "      <td>18.9966</td>\n",
              "      <td>264.272</td>\n",
              "      <td>0.5671</td>\n",
              "      <td>4.98</td>\n",
              "      <td>0.0877</td>\n",
              "      <td>2.0902</td>\n",
              "      <td>0.0382</td>\n",
              "      <td>1.8844</td>\n",
              "      <td>15.4662</td>\n",
              "      <td>534.3936</td>\n",
              "      <td>1.9098</td>\n",
              "      <td>9.13</td>\n",
              "      <td>0.3669</td>\n",
              "      <td>3.2524</td>\n",
              "      <td>0.1040</td>\n",
              "      <td>1.7085</td>\n",
              "      <td>19.2104</td>\n",
              "      <td>0.0262</td>\n",
              "      <td>0.0245</td>\n",
              "      <td>0.0075</td>\n",
              "      <td>93.4941</td>\n",
              "      <td>0.5004</td>\n",
              "      <td>0.0178</td>\n",
              "      <td>0.0038</td>\n",
              "      <td>3.5662</td>\n",
              "      <td>0.0262</td>\n",
              "      <td>0.0245</td>\n",
              "      <td>0.0075</td>\n",
              "      <td>93.4941</td>\n",
              "      <td>-1</td>\n",
              "    </tr>\n",
              "    <tr>\n",
              "      <th>1566</th>\n",
              "      <td>2944.92</td>\n",
              "      <td>2450.76</td>\n",
              "      <td>2195.4444</td>\n",
              "      <td>2914.1792</td>\n",
              "      <td>1.5978</td>\n",
              "      <td>100.0</td>\n",
              "      <td>85.1011</td>\n",
              "      <td>0.1235</td>\n",
              "      <td>NaN</td>\n",
              "      <td>NaN</td>\n",
              "      <td>NaN</td>\n",
              "      <td>NaN</td>\n",
              "      <td>NaN</td>\n",
              "      <td>NaN</td>\n",
              "      <td>NaN</td>\n",
              "      <td>NaN</td>\n",
              "      <td>NaN</td>\n",
              "      <td>NaN</td>\n",
              "      <td>NaN</td>\n",
              "      <td>12.4790</td>\n",
              "      <td>1.4048</td>\n",
              "      <td>-5319.50</td>\n",
              "      <td>2668.00</td>\n",
              "      <td>-3951.75</td>\n",
              "      <td>-425.00</td>\n",
              "      <td>1.3020</td>\n",
              "      <td>2.0085</td>\n",
              "      <td>7.3395</td>\n",
              "      <td>73.0667</td>\n",
              "      <td>2.5889</td>\n",
              "      <td>0.2021</td>\n",
              "      <td>3.3860</td>\n",
              "      <td>83.3424</td>\n",
              "      <td>8.7786</td>\n",
              "      <td>50.1940</td>\n",
              "      <td>64.2226</td>\n",
              "      <td>49.8060</td>\n",
              "      <td>66.2251</td>\n",
              "      <td>86.4039</td>\n",
              "      <td>120.5418</td>\n",
              "      <td>...</td>\n",
              "      <td>1.33</td>\n",
              "      <td>0.0949</td>\n",
              "      <td>6.7381</td>\n",
              "      <td>0.5058</td>\n",
              "      <td>27.0176</td>\n",
              "      <td>3.6251</td>\n",
              "      <td>1.8156</td>\n",
              "      <td>1.0827</td>\n",
              "      <td>0.2327</td>\n",
              "      <td>0.0678</td>\n",
              "      <td>21.4914</td>\n",
              "      <td>257.974</td>\n",
              "      <td>0.6193</td>\n",
              "      <td>8.42</td>\n",
              "      <td>0.1307</td>\n",
              "      <td>3.0894</td>\n",
              "      <td>0.0493</td>\n",
              "      <td>3.2639</td>\n",
              "      <td>21.1128</td>\n",
              "      <td>528.7918</td>\n",
              "      <td>2.0831</td>\n",
              "      <td>6.81</td>\n",
              "      <td>0.4774</td>\n",
              "      <td>2.2727</td>\n",
              "      <td>0.1495</td>\n",
              "      <td>1.2878</td>\n",
              "      <td>22.9183</td>\n",
              "      <td>0.0117</td>\n",
              "      <td>0.0162</td>\n",
              "      <td>0.0045</td>\n",
              "      <td>137.7844</td>\n",
              "      <td>0.4987</td>\n",
              "      <td>0.0181</td>\n",
              "      <td>0.0040</td>\n",
              "      <td>3.6275</td>\n",
              "      <td>0.0117</td>\n",
              "      <td>0.0162</td>\n",
              "      <td>0.0045</td>\n",
              "      <td>137.7844</td>\n",
              "      <td>-1</td>\n",
              "    </tr>\n",
              "  </tbody>\n",
              "</table>\n",
              "<p>1567 rows × 591 columns</p>\n",
              "</div>"
            ],
            "text/plain": [
              "            0        1          2          3  ...     587     588       589  Label\n",
              "0     3030.93  2564.00  2187.7333  1411.1265  ...     NaN     NaN       NaN     -1\n",
              "1     3095.78  2465.14  2230.4222  1463.6606  ...  0.0201  0.0060  208.2045     -1\n",
              "2     2932.61  2559.94  2186.4111  1698.0172  ...  0.0484  0.0148   82.8602      1\n",
              "3     2988.72  2479.90  2199.0333   909.7926  ...  0.0149  0.0044   73.8432     -1\n",
              "4     3032.24  2502.87  2233.3667  1326.5200  ...  0.0149  0.0044   73.8432     -1\n",
              "...       ...      ...        ...        ...  ...     ...     ...       ...    ...\n",
              "1562  2899.41  2464.36  2179.7333  3085.3781  ...  0.0138  0.0047  203.1720     -1\n",
              "1563  3052.31  2522.55  2198.5667  1124.6595  ...  0.0138  0.0047  203.1720     -1\n",
              "1564  2978.81  2379.78  2206.3000  1110.4967  ...  0.0086  0.0025   43.5231     -1\n",
              "1565  2894.92  2532.01  2177.0333  1183.7287  ...  0.0245  0.0075   93.4941     -1\n",
              "1566  2944.92  2450.76  2195.4444  2914.1792  ...  0.0162  0.0045  137.7844     -1\n",
              "\n",
              "[1567 rows x 591 columns]"
            ]
          },
          "metadata": {
            "tags": []
          },
          "execution_count": 59
        }
      ]
    },
    {
      "cell_type": "code",
      "metadata": {
        "id": "GU4qhRy68piS"
      },
      "source": [
        "n_samples=df_data.shape[0]"
      ],
      "execution_count": null,
      "outputs": []
    },
    {
      "cell_type": "markdown",
      "metadata": {
        "id": "s3MlSMsR6bv3"
      },
      "source": [
        "2. Έχουμε 1567 δείγματα, το καθένα με 590 χαρακτηριστικά. Τα χαρακτηριστικά αυτά αντιπροσωπεύουν διάφορες μετρήσεις (πχ από αισθητήρες), επομένως πρόκειται για αριθμητικά χαρακτηριστικά."
      ]
    },
    {
      "cell_type": "markdown",
      "metadata": {
        "id": "RFowpdRZ6zDP"
      },
      "source": [
        "3. Δεν υπήρχε κάποια αρίθμηση στα αρχεία κειμένου των δεδομένων, ούτε υπήρχαν κεφαλίδες."
      ]
    },
    {
      "cell_type": "markdown",
      "metadata": {
        "id": "7vY6yjiz6-nO"
      },
      "source": [
        "4. Οι ετικέτες των κλάσεων είναι οι τιμές 1 και -1 οι οποίες αντιπροσωπεύουν αντίστοιχα αποτυχία και επιτυχία (δεν καταλαβαίνω γιατί να αντιστοιχίσεις το -1 σε επιτυχία, αλλά ποιος είμαι εγώ να κρίνω...)"
      ]
    },
    {
      "cell_type": "markdown",
      "metadata": {
        "id": "gR0MlifJ7QjG"
      },
      "source": [
        "5. Δε χρειάστηκε να κάνουμε κάποια μετατροπή στα αρχεία κειμένου, τα χρησιμοποιήσαμε όπως τα πήραμε και στη συνέχεια παράξαμε ένα ενιαίο dataset από αυτά."
      ]
    },
    {
      "cell_type": "markdown",
      "metadata": {
        "id": "c7EV8A897g4u"
      },
      "source": [
        "6. Υπάρχουν αρκετά δείγματα με απουσιάζουσες τιμές. Συγκεκριμένα όπως βλέπουμε παρακάτω, είναι 538, δηλαδή περίπου το 34% των δειγμάτων."
      ]
    },
    {
      "cell_type": "code",
      "metadata": {
        "id": "ihzmgsz_3x6k",
        "colab": {
          "base_uri": "https://localhost:8080/"
        },
        "outputId": "625b92ae-ba1c-47a1-9737-ea30e50710b3"
      },
      "source": [
        "def check_missing_value(attributes):\n",
        "  for a in attributes:\n",
        "    if np.isnan(a):\n",
        "      return True\n",
        "  return False\n",
        "\n",
        "missing_values_samples=0\n",
        "for sample in df_data:\n",
        "   if check_missing_value(df_data[sample]):\n",
        "     missing_values_samples+=1\n",
        "\n",
        "print(\"Samples with missing values: \"+str(missing_values_samples),\",\", float(\"{:.3f}\".format(100*missing_values_samples/n_samples)),\"% of the total dataset\")"
      ],
      "execution_count": null,
      "outputs": [
        {
          "output_type": "stream",
          "text": [
            "Samples with missing values: 538 , 34.333 % of the total dataset\n"
          ],
          "name": "stdout"
        }
      ]
    },
    {
      "cell_type": "markdown",
      "metadata": {
        "id": "0YYl4X4-AOB1"
      },
      "source": [
        "7. Όπως βλέπουμε, τα δείγματά μας αντιστοιχούν σε 1463 επιτυχίες και 104 αποτυχίες. Προφανώς το dataset μας δεν είναι ισορροπημένο, καθώς η μία κλάση είναι σχεδόν 14 φορές υπερπληθέστερη από την άλλη."
      ]
    },
    {
      "cell_type": "code",
      "metadata": {
        "id": "yEQOJuEi6-K9",
        "colab": {
          "base_uri": "https://localhost:8080/"
        },
        "outputId": "dd694dd6-7e8e-447f-c25e-c2ea4dfa3f16"
      },
      "source": [
        "labels_df = df_data.iloc[:,[-1]] #Τα labels βρισκονται στην τελευταία στήλη\n",
        "features_df = df_data.iloc[:,:591] #590 attributes, στις στήλες 0-590.\n",
        "\n",
        "np_features=features_df.values #Μετατρέπουμε το dataframe σε np array\n",
        "np_labels = labels_df.values.flatten()\n",
        "\n",
        "instances_per_class = Counter(np_labels)\n",
        "print(instances_per_class)"
      ],
      "execution_count": null,
      "outputs": [
        {
          "output_type": "stream",
          "text": [
            "Counter({-1: 1463, 1: 104})\n"
          ],
          "name": "stdout"
        }
      ]
    }
  ]
}