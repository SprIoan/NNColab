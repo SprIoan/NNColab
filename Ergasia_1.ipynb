{
  "nbformat": 4,
  "nbformat_minor": 0,
  "metadata": {
    "colab": {
      "name": "Ergasia 1.ipynb",
      "provenance": [],
      "collapsed_sections": [
        "WUccryTw8Cw6",
        "DKnx8iOnBJlC",
        "mQ_hKHnrWkj6",
        "Cb5L-EsuWqtA",
        "HWU19JTbWvv3",
        "CD3PNO7VECxx",
        "W7axJcC2BgX-",
        "I_w45tL6F6qW",
        "bYi8aN9eGH-a",
        "EXmeGmeK01tR",
        "28ZsqZyYlilY",
        "ifsggMOBg0on"
      ],
      "include_colab_link": true
    },
    "kernelspec": {
      "name": "python3",
      "display_name": "Python 3"
    }
  },
  "cells": [
    {
      "cell_type": "markdown",
      "metadata": {
        "id": "view-in-github",
        "colab_type": "text"
      },
      "source": [
        "<a href=\"https://colab.research.google.com/github/SprIoan/NNColab/blob/main/Ergasia_1.ipynb\" target=\"_parent\"><img src=\"https://colab.research.google.com/assets/colab-badge.svg\" alt=\"Open In Colab\"/></a>"
      ]
    },
    {
      "cell_type": "code",
      "metadata": {
        "colab": {
          "base_uri": "https://localhost:8080/",
          "height": 289
        },
        "id": "Lp7oN1cOTPnw",
        "cellView": "form",
        "outputId": "2276f496-6d97-4ab6-e230-157fa4968d78"
      },
      "source": [
        "#@title  Intro Code\n",
        "\n",
        "%%html\n",
        "<html xmlns=\"http://www.w3.org/1999/xhtml\">\n",
        "\n",
        "<head>\n",
        "\t<meta http-equiv='Content-Type' content='text/html; charset=UTF-8' />\n",
        "\t\n",
        "\t<title>3D Text Tower</title>\n",
        "\t\n",
        "\t<style type=\"text/css\">\n",
        "\t\n",
        "\t\t* { margin: 0; padding: 0; }\n",
        "\t\tbody { background: #666; }\n",
        "\t\th1,h2,h3,h4 { margin: 0 0 3px 0; }\n",
        "\t   h1 { color: white; font: bold 52px Helvetica, Arial, Sans-Serif;\n",
        "\t\t       text-shadow: 1px 1px #0F2520, 2px 2px #0F2520, 3px 3px #0F2520;\n",
        "\t\t       -webkit-transition: all 0.12s ease-out;\n",
        "\t\t       -moz-transition: all 0.12s ease-out;\n",
        "\t\t       -o-transition: all 0.12s ease-out;\n",
        "\t\t}\n",
        "\t\th1:hover {\n",
        "\t\t    position: relative; top: -3px; left: -3px; \n",
        "\t\t    text-shadow: 1px 1px #0F2520, 2px 2px #0F2520, 3px 3px #0F2520, 4px 4px #0F2520, 5px 5px #0F2520, 6px 6px #0F2520;\n",
        "\t\t}\n",
        "\n",
        "\t\t#page-wrap { width: 700px; margin: 0 auto; padding: 20px; text-align: center; }\n",
        "\t\t.about {  color: white; font: bold 30px Helvetica, Arial, Sans-Serif;\n",
        "\t\t       text-shadow: 1px 1px #0F2520, 1px 1px #0F2520, 1px 1px #0F2520;\n",
        "\t\t       -webkit-transition: all 0.12s ease-out;\n",
        "\t\t       -moz-transition: all 0.12s ease-out;\n",
        "\t\t       -o-transition: all 0.12s ease-out\n",
        "           margin: 20px;\n",
        "    }\n",
        "\n",
        "    .about:hover {\n",
        "\n",
        "       position: relative; top: -3px; left: -3px; \n",
        "\t\t    text-shadow: 1px 1px #0F2520, 2px 2px #0F2520, 3px 3px #0F2520, 4px 4px #0F2520, 5px 5px #0F2520, 6px 6px #0F2520;\n",
        "\n",
        "    }\n",
        "\t</style>\n",
        "</head>\n",
        "\n",
        "<body>\n",
        "\n",
        "\t<div id=\"page-wrap\">\n",
        "\n",
        "\t\t<h1>Ομάδα 38</h1>\n",
        "\n",
        "\t\t<div id=\"about\">\n",
        "      <div></div>\n",
        "\t\t  <ul>\n",
        "        <br>\n",
        "        <div class=\"about\">Χαδουμέλλης Ανδρέας (03116641)</div>\n",
        "        <br>\n",
        "\t\t    <div class=\"about\">Γρηγοράτος Σπυρίδων (03116161)</div>\n",
        "        <br>\n",
        "\t\t    <div class=\"about\">Ιωάννου Σπυρίδων (03116110)</div>\n",
        "      </ul>\n",
        "\t\t\t\n",
        "\t</div>\n",
        "\t\n",
        "  </div>\n",
        "</body>\n",
        "\n",
        "</html>"
      ],
      "execution_count": null,
      "outputs": [
        {
          "output_type": "display_data",
          "data": {
            "text/html": [
              "<html xmlns=\"http://www.w3.org/1999/xhtml\">\n",
              "\n",
              "<head>\n",
              "\t<meta http-equiv='Content-Type' content='text/html; charset=UTF-8' />\n",
              "\t\n",
              "\t<title>3D Text Tower</title>\n",
              "\t\n",
              "\t<style type=\"text/css\">\n",
              "\t\n",
              "\t\t* { margin: 0; padding: 0; }\n",
              "\t\tbody { background: #666; }\n",
              "\t\th1,h2,h3,h4 { margin: 0 0 3px 0; }\n",
              "\t   h1 { color: white; font: bold 52px Helvetica, Arial, Sans-Serif;\n",
              "\t\t       text-shadow: 1px 1px #0F2520, 2px 2px #0F2520, 3px 3px #0F2520;\n",
              "\t\t       -webkit-transition: all 0.12s ease-out;\n",
              "\t\t       -moz-transition: all 0.12s ease-out;\n",
              "\t\t       -o-transition: all 0.12s ease-out;\n",
              "\t\t}\n",
              "\t\th1:hover {\n",
              "\t\t    position: relative; top: -3px; left: -3px; \n",
              "\t\t    text-shadow: 1px 1px #0F2520, 2px 2px #0F2520, 3px 3px #0F2520, 4px 4px #0F2520, 5px 5px #0F2520, 6px 6px #0F2520;\n",
              "\t\t}\n",
              "\n",
              "\t\t#page-wrap { width: 700px; margin: 0 auto; padding: 20px; text-align: center; }\n",
              "\t\t.about {  color: white; font: bold 30px Helvetica, Arial, Sans-Serif;\n",
              "\t\t       text-shadow: 1px 1px #0F2520, 1px 1px #0F2520, 1px 1px #0F2520;\n",
              "\t\t       -webkit-transition: all 0.12s ease-out;\n",
              "\t\t       -moz-transition: all 0.12s ease-out;\n",
              "\t\t       -o-transition: all 0.12s ease-out\n",
              "           margin: 20px;\n",
              "    }\n",
              "\n",
              "    .about:hover {\n",
              "\n",
              "       position: relative; top: -3px; left: -3px; \n",
              "\t\t    text-shadow: 1px 1px #0F2520, 2px 2px #0F2520, 3px 3px #0F2520, 4px 4px #0F2520, 5px 5px #0F2520, 6px 6px #0F2520;\n",
              "\n",
              "    }\n",
              "\t</style>\n",
              "</head>\n",
              "\n",
              "<body>\n",
              "\n",
              "\t<div id=\"page-wrap\">\n",
              "\n",
              "\t\t<h1>Ομάδα 38</h1>\n",
              "\n",
              "\t\t<div id=\"about\">\n",
              "      <div></div>\n",
              "\t\t  <ul>\n",
              "        <br>\n",
              "        <div class=\"about\">Χαδουμέλλης Ανδρέας (03116641)</div>\n",
              "        <br>\n",
              "\t\t    <div class=\"about\">Γρηγοράτος Σπυρίδων (03116161)</div>\n",
              "        <br>\n",
              "\t\t    <div class=\"about\">Ιωάννου Σπυρίδων (03116110)</div>\n",
              "      </ul>\n",
              "\t\t\t\n",
              "\t</div>\n",
              "\t\n",
              "  </div>\n",
              "</body>\n",
              "\n",
              "</html>"
            ],
            "text/plain": [
              "<IPython.core.display.HTML object>"
            ]
          },
          "metadata": {
            "tags": []
          }
        }
      ]
    },
    {
      "cell_type": "code",
      "metadata": {
        "id": "NgAJu1eCPDLE",
        "colab": {
          "base_uri": "https://localhost:8080/",
          "height": 925
        },
        "outputId": "77d4c977-f68a-44fb-9180-3bab9055cb41"
      },
      "source": [
        "!pip install --upgrade pip #upgrade pip package installer\n",
        "!pip install scikit-learn --upgrade #upgrade scikit-learn package\n",
        "!pip install numpy --upgrade #upgrade numpy package\n",
        "!pip install pandas --upgrade #--upgrade #upgrade pandas package"
      ],
      "execution_count": null,
      "outputs": [
        {
          "output_type": "stream",
          "text": [
            "Collecting pip\n",
            "\u001b[?25l  Downloading https://files.pythonhosted.org/packages/cb/28/91f26bd088ce8e22169032100d4260614fc3da435025ff389ef1d396a433/pip-20.2.4-py2.py3-none-any.whl (1.5MB)\n",
            "\u001b[K     |████████████████████████████████| 1.5MB 6.7MB/s \n",
            "\u001b[?25hInstalling collected packages: pip\n",
            "  Found existing installation: pip 19.3.1\n",
            "    Uninstalling pip-19.3.1:\n",
            "      Successfully uninstalled pip-19.3.1\n",
            "Successfully installed pip-20.2.4\n",
            "Collecting scikit-learn\n",
            "  Downloading scikit_learn-0.23.2-cp36-cp36m-manylinux1_x86_64.whl (6.8 MB)\n",
            "\u001b[K     |████████████████████████████████| 6.8 MB 6.7 MB/s \n",
            "\u001b[?25hRequirement already satisfied, skipping upgrade: joblib>=0.11 in /usr/local/lib/python3.6/dist-packages (from scikit-learn) (0.17.0)\n",
            "Requirement already satisfied, skipping upgrade: scipy>=0.19.1 in /usr/local/lib/python3.6/dist-packages (from scikit-learn) (1.4.1)\n",
            "Collecting threadpoolctl>=2.0.0\n",
            "  Downloading threadpoolctl-2.1.0-py3-none-any.whl (12 kB)\n",
            "Requirement already satisfied, skipping upgrade: numpy>=1.13.3 in /usr/local/lib/python3.6/dist-packages (from scikit-learn) (1.18.5)\n",
            "Installing collected packages: threadpoolctl, scikit-learn\n",
            "  Attempting uninstall: scikit-learn\n",
            "    Found existing installation: scikit-learn 0.22.2.post1\n",
            "    Uninstalling scikit-learn-0.22.2.post1:\n",
            "      Successfully uninstalled scikit-learn-0.22.2.post1\n",
            "Successfully installed scikit-learn-0.23.2 threadpoolctl-2.1.0\n",
            "Collecting numpy\n",
            "  Downloading numpy-1.19.4-cp36-cp36m-manylinux2010_x86_64.whl (14.5 MB)\n",
            "\u001b[K     |████████████████████████████████| 14.5 MB 78 kB/s \n",
            "\u001b[?25hInstalling collected packages: numpy\n",
            "  Attempting uninstall: numpy\n",
            "    Found existing installation: numpy 1.18.5\n",
            "    Uninstalling numpy-1.18.5:\n",
            "      Successfully uninstalled numpy-1.18.5\n",
            "\u001b[31mERROR: After October 2020 you may experience errors when installing or updating packages. This is because pip will change the way that it resolves dependency conflicts.\n",
            "\n",
            "We recommend you use --use-feature=2020-resolver to test your packages with the new resolver before it becomes the default.\n",
            "\n",
            "tensorflow 2.3.0 requires numpy<1.19.0,>=1.16.0, but you'll have numpy 1.19.4 which is incompatible.\n",
            "datascience 0.10.6 requires folium==0.2.1, but you'll have folium 0.8.3 which is incompatible.\n",
            "albumentations 0.1.12 requires imgaug<0.2.7,>=0.2.5, but you'll have imgaug 0.2.9 which is incompatible.\u001b[0m\n",
            "Successfully installed numpy-1.19.4\n"
          ],
          "name": "stdout"
        },
        {
          "output_type": "display_data",
          "data": {
            "application/vnd.colab-display-data+json": {
              "pip_warning": {
                "packages": [
                  "numpy"
                ]
              }
            }
          },
          "metadata": {
            "tags": []
          }
        },
        {
          "output_type": "stream",
          "text": [
            "Requirement already up-to-date: pandas in /usr/local/lib/python3.6/dist-packages (1.1.4)\n",
            "Requirement already satisfied, skipping upgrade: numpy>=1.15.4 in /usr/local/lib/python3.6/dist-packages (from pandas) (1.19.4)\n",
            "Requirement already satisfied, skipping upgrade: pytz>=2017.2 in /usr/local/lib/python3.6/dist-packages (from pandas) (2018.9)\n",
            "Requirement already satisfied, skipping upgrade: python-dateutil>=2.7.3 in /usr/local/lib/python3.6/dist-packages (from pandas) (2.8.1)\n",
            "Requirement already satisfied, skipping upgrade: six>=1.5 in /usr/local/lib/python3.6/dist-packages (from python-dateutil>=2.7.3->pandas) (1.15.0)\n"
          ],
          "name": "stdout"
        }
      ]
    },
    {
      "cell_type": "code",
      "metadata": {
        "id": "vcfXWDhAiGvJ",
        "colab": {
          "base_uri": "https://localhost:8080/"
        },
        "outputId": "bbdf6ba9-1998-414a-c7bc-e638ce3c5dc9"
      },
      "source": [
        "import pandas as pd\n",
        "import numpy as np\n",
        "from matplotlib import pyplot as plt\n",
        "from sklearn import preprocessing\n",
        "from sklearn.metrics import accuracy_score, classification_report, confusion_matrix,precision_recall_fscore_support\n",
        "from sklearn.dummy import DummyClassifier\n",
        "from sklearn.naive_bayes import GaussianNB\n",
        "from sklearn.neighbors import KNeighborsClassifier\n",
        "from sklearn.model_selection import cross_val_score, GridSearchCV\n",
        "from sklearn.feature_selection import VarianceThreshold\n",
        "from sklearn.decomposition import PCA\n",
        "from sklearn.pipeline import Pipeline\n",
        "\n",
        "\n",
        "from google.colab import drive\n",
        "drive.mount('/content/drive')"
      ],
      "execution_count": null,
      "outputs": [
        {
          "output_type": "stream",
          "text": [
            "Mounted at /content/drive\n"
          ],
          "name": "stdout"
        }
      ]
    },
    {
      "cell_type": "markdown",
      "metadata": {
        "id": "7DeaaUOsgG7e"
      },
      "source": [
        "#**Μικρό Dataset: S10 - [Statlog (Veichle Silhouettes)](http://archive.ics.uci.edu/ml/datasets/Statlog+%28Vehicle+Silhouettes%29)**\n"
      ]
    },
    {
      "cell_type": "markdown",
      "metadata": {
        "id": "WUccryTw8Cw6"
      },
      "source": [
        "##Βασικές Πληροφορίες"
      ]
    },
    {
      "cell_type": "markdown",
      "metadata": {
        "id": "sGQwBnqu8GsE"
      },
      "source": [
        "1. Με μία σύντομη επισκόπηση βλέπουμε πως το dataset μας αποτελείται από δεδομένα που αφορούν οχήματα διαφορετικών ειδών. Συγκεκριμένα, υπάρχουν 4 κατηγορίες στις οποίες ανήκουν τα αντικείμενα: bus, opel, saab, van. Τα χαρακτηριστικά του κάθε αντικειμένου είναι διάφορα χαρακτηριστικά τα οποία έχουν εξαχθεί από εικόνες που αντιστοιχούν σε οχήματα των παραπάνω κατηγοριών. Τα δεδομένα του dataset βρίσκονται στο αρχείο \"small_all_data.data\"."
      ]
    },
    {
      "cell_type": "code",
      "metadata": {
        "id": "hbUYA3sSx5rO",
        "colab": {
          "base_uri": "https://localhost:8080/",
          "height": 424
        },
        "outputId": "d0b75881-7f81-4eab-b3a4-ca2aa8b24b1b"
      },
      "source": [
        "path = '/content/drive/My Drive/Colab Notebooks/Neural Networks/Ασκησεις/1η Εργασία/'\n",
        "small_data_path = path+'small_all_data.data'\n",
        "df = pd.read_csv(small_data_path, sep=' ', header=None)\n",
        "df"
      ],
      "execution_count": null,
      "outputs": [
        {
          "output_type": "execute_result",
          "data": {
            "text/html": [
              "<div>\n",
              "<style scoped>\n",
              "    .dataframe tbody tr th:only-of-type {\n",
              "        vertical-align: middle;\n",
              "    }\n",
              "\n",
              "    .dataframe tbody tr th {\n",
              "        vertical-align: top;\n",
              "    }\n",
              "\n",
              "    .dataframe thead th {\n",
              "        text-align: right;\n",
              "    }\n",
              "</style>\n",
              "<table border=\"1\" class=\"dataframe\">\n",
              "  <thead>\n",
              "    <tr style=\"text-align: right;\">\n",
              "      <th></th>\n",
              "      <th>0</th>\n",
              "      <th>1</th>\n",
              "      <th>2</th>\n",
              "      <th>3</th>\n",
              "      <th>4</th>\n",
              "      <th>5</th>\n",
              "      <th>6</th>\n",
              "      <th>7</th>\n",
              "      <th>8</th>\n",
              "      <th>9</th>\n",
              "      <th>10</th>\n",
              "      <th>11</th>\n",
              "      <th>12</th>\n",
              "      <th>13</th>\n",
              "      <th>14</th>\n",
              "      <th>15</th>\n",
              "      <th>16</th>\n",
              "      <th>17</th>\n",
              "      <th>18</th>\n",
              "    </tr>\n",
              "  </thead>\n",
              "  <tbody>\n",
              "    <tr>\n",
              "      <th>0</th>\n",
              "      <td>95</td>\n",
              "      <td>48</td>\n",
              "      <td>83</td>\n",
              "      <td>178</td>\n",
              "      <td>72</td>\n",
              "      <td>10</td>\n",
              "      <td>162</td>\n",
              "      <td>42</td>\n",
              "      <td>20</td>\n",
              "      <td>159</td>\n",
              "      <td>176</td>\n",
              "      <td>379</td>\n",
              "      <td>184</td>\n",
              "      <td>70</td>\n",
              "      <td>6</td>\n",
              "      <td>16</td>\n",
              "      <td>187</td>\n",
              "      <td>197</td>\n",
              "      <td>van</td>\n",
              "    </tr>\n",
              "    <tr>\n",
              "      <th>1</th>\n",
              "      <td>91</td>\n",
              "      <td>41</td>\n",
              "      <td>84</td>\n",
              "      <td>141</td>\n",
              "      <td>57</td>\n",
              "      <td>9</td>\n",
              "      <td>149</td>\n",
              "      <td>45</td>\n",
              "      <td>19</td>\n",
              "      <td>143</td>\n",
              "      <td>170</td>\n",
              "      <td>330</td>\n",
              "      <td>158</td>\n",
              "      <td>72</td>\n",
              "      <td>9</td>\n",
              "      <td>14</td>\n",
              "      <td>189</td>\n",
              "      <td>199</td>\n",
              "      <td>van</td>\n",
              "    </tr>\n",
              "    <tr>\n",
              "      <th>2</th>\n",
              "      <td>104</td>\n",
              "      <td>50</td>\n",
              "      <td>106</td>\n",
              "      <td>209</td>\n",
              "      <td>66</td>\n",
              "      <td>10</td>\n",
              "      <td>207</td>\n",
              "      <td>32</td>\n",
              "      <td>23</td>\n",
              "      <td>158</td>\n",
              "      <td>223</td>\n",
              "      <td>635</td>\n",
              "      <td>220</td>\n",
              "      <td>73</td>\n",
              "      <td>14</td>\n",
              "      <td>9</td>\n",
              "      <td>188</td>\n",
              "      <td>196</td>\n",
              "      <td>saab</td>\n",
              "    </tr>\n",
              "    <tr>\n",
              "      <th>3</th>\n",
              "      <td>93</td>\n",
              "      <td>41</td>\n",
              "      <td>82</td>\n",
              "      <td>159</td>\n",
              "      <td>63</td>\n",
              "      <td>9</td>\n",
              "      <td>144</td>\n",
              "      <td>46</td>\n",
              "      <td>19</td>\n",
              "      <td>143</td>\n",
              "      <td>160</td>\n",
              "      <td>309</td>\n",
              "      <td>127</td>\n",
              "      <td>63</td>\n",
              "      <td>6</td>\n",
              "      <td>10</td>\n",
              "      <td>199</td>\n",
              "      <td>207</td>\n",
              "      <td>van</td>\n",
              "    </tr>\n",
              "    <tr>\n",
              "      <th>4</th>\n",
              "      <td>85</td>\n",
              "      <td>44</td>\n",
              "      <td>70</td>\n",
              "      <td>205</td>\n",
              "      <td>103</td>\n",
              "      <td>52</td>\n",
              "      <td>149</td>\n",
              "      <td>45</td>\n",
              "      <td>19</td>\n",
              "      <td>144</td>\n",
              "      <td>241</td>\n",
              "      <td>325</td>\n",
              "      <td>188</td>\n",
              "      <td>127</td>\n",
              "      <td>9</td>\n",
              "      <td>11</td>\n",
              "      <td>180</td>\n",
              "      <td>183</td>\n",
              "      <td>bus</td>\n",
              "    </tr>\n",
              "    <tr>\n",
              "      <th>...</th>\n",
              "      <td>...</td>\n",
              "      <td>...</td>\n",
              "      <td>...</td>\n",
              "      <td>...</td>\n",
              "      <td>...</td>\n",
              "      <td>...</td>\n",
              "      <td>...</td>\n",
              "      <td>...</td>\n",
              "      <td>...</td>\n",
              "      <td>...</td>\n",
              "      <td>...</td>\n",
              "      <td>...</td>\n",
              "      <td>...</td>\n",
              "      <td>...</td>\n",
              "      <td>...</td>\n",
              "      <td>...</td>\n",
              "      <td>...</td>\n",
              "      <td>...</td>\n",
              "      <td>...</td>\n",
              "    </tr>\n",
              "    <tr>\n",
              "      <th>841</th>\n",
              "      <td>93</td>\n",
              "      <td>39</td>\n",
              "      <td>87</td>\n",
              "      <td>183</td>\n",
              "      <td>64</td>\n",
              "      <td>8</td>\n",
              "      <td>169</td>\n",
              "      <td>40</td>\n",
              "      <td>20</td>\n",
              "      <td>134</td>\n",
              "      <td>200</td>\n",
              "      <td>422</td>\n",
              "      <td>149</td>\n",
              "      <td>72</td>\n",
              "      <td>7</td>\n",
              "      <td>25</td>\n",
              "      <td>188</td>\n",
              "      <td>195</td>\n",
              "      <td>saab</td>\n",
              "    </tr>\n",
              "    <tr>\n",
              "      <th>842</th>\n",
              "      <td>89</td>\n",
              "      <td>46</td>\n",
              "      <td>84</td>\n",
              "      <td>163</td>\n",
              "      <td>66</td>\n",
              "      <td>11</td>\n",
              "      <td>159</td>\n",
              "      <td>43</td>\n",
              "      <td>20</td>\n",
              "      <td>159</td>\n",
              "      <td>173</td>\n",
              "      <td>368</td>\n",
              "      <td>176</td>\n",
              "      <td>72</td>\n",
              "      <td>1</td>\n",
              "      <td>20</td>\n",
              "      <td>186</td>\n",
              "      <td>197</td>\n",
              "      <td>van</td>\n",
              "    </tr>\n",
              "    <tr>\n",
              "      <th>843</th>\n",
              "      <td>106</td>\n",
              "      <td>54</td>\n",
              "      <td>101</td>\n",
              "      <td>222</td>\n",
              "      <td>67</td>\n",
              "      <td>12</td>\n",
              "      <td>222</td>\n",
              "      <td>30</td>\n",
              "      <td>25</td>\n",
              "      <td>173</td>\n",
              "      <td>228</td>\n",
              "      <td>721</td>\n",
              "      <td>200</td>\n",
              "      <td>70</td>\n",
              "      <td>3</td>\n",
              "      <td>4</td>\n",
              "      <td>187</td>\n",
              "      <td>201</td>\n",
              "      <td>saab</td>\n",
              "    </tr>\n",
              "    <tr>\n",
              "      <th>844</th>\n",
              "      <td>86</td>\n",
              "      <td>36</td>\n",
              "      <td>78</td>\n",
              "      <td>146</td>\n",
              "      <td>58</td>\n",
              "      <td>7</td>\n",
              "      <td>135</td>\n",
              "      <td>50</td>\n",
              "      <td>18</td>\n",
              "      <td>124</td>\n",
              "      <td>155</td>\n",
              "      <td>270</td>\n",
              "      <td>148</td>\n",
              "      <td>66</td>\n",
              "      <td>0</td>\n",
              "      <td>25</td>\n",
              "      <td>190</td>\n",
              "      <td>195</td>\n",
              "      <td>saab</td>\n",
              "    </tr>\n",
              "    <tr>\n",
              "      <th>845</th>\n",
              "      <td>85</td>\n",
              "      <td>36</td>\n",
              "      <td>66</td>\n",
              "      <td>123</td>\n",
              "      <td>55</td>\n",
              "      <td>5</td>\n",
              "      <td>120</td>\n",
              "      <td>56</td>\n",
              "      <td>17</td>\n",
              "      <td>128</td>\n",
              "      <td>140</td>\n",
              "      <td>212</td>\n",
              "      <td>131</td>\n",
              "      <td>73</td>\n",
              "      <td>1</td>\n",
              "      <td>18</td>\n",
              "      <td>186</td>\n",
              "      <td>190</td>\n",
              "      <td>van</td>\n",
              "    </tr>\n",
              "  </tbody>\n",
              "</table>\n",
              "<p>846 rows × 19 columns</p>\n",
              "</div>"
            ],
            "text/plain": [
              "      0   1    2    3    4   5    6   7   ...   11   12   13  14  15   16   17    18\n",
              "0     95  48   83  178   72  10  162  42  ...  379  184   70   6  16  187  197   van\n",
              "1     91  41   84  141   57   9  149  45  ...  330  158   72   9  14  189  199   van\n",
              "2    104  50  106  209   66  10  207  32  ...  635  220   73  14   9  188  196  saab\n",
              "3     93  41   82  159   63   9  144  46  ...  309  127   63   6  10  199  207   van\n",
              "4     85  44   70  205  103  52  149  45  ...  325  188  127   9  11  180  183   bus\n",
              "..   ...  ..  ...  ...  ...  ..  ...  ..  ...  ...  ...  ...  ..  ..  ...  ...   ...\n",
              "841   93  39   87  183   64   8  169  40  ...  422  149   72   7  25  188  195  saab\n",
              "842   89  46   84  163   66  11  159  43  ...  368  176   72   1  20  186  197   van\n",
              "843  106  54  101  222   67  12  222  30  ...  721  200   70   3   4  187  201  saab\n",
              "844   86  36   78  146   58   7  135  50  ...  270  148   66   0  25  190  195  saab\n",
              "845   85  36   66  123   55   5  120  56  ...  212  131   73   1  18  186  190   van\n",
              "\n",
              "[846 rows x 19 columns]"
            ]
          },
          "metadata": {
            "tags": []
          },
          "execution_count": 3
        }
      ]
    },
    {
      "cell_type": "markdown",
      "metadata": {
        "id": "bMS-Pn6m8Y3r"
      },
      "source": [
        "2. Έχουμε 846 δείγματα. Κάθε δείγμα έχει 18 χαρακτηριστικά, τα οποία όπως αναφέραμε είναι διάφορα χαρακτηριστικά που εξήχθησαν από τις εικόνες οχημάτων που ανήκουν σε αυτές τις κατηγορίες. Όλα τα χαρακτηριστικά είναι αριθμητικά. Πρόκειται για διάφορες μετρικές (πχ. κυκλικότητα, ορθογωνιότητα, διάφοροι λόγοι, διασπορές κτλ.) συνεπώς θεωρούμε πως είναι όλα διατεταγμένα. \n",
        "\n",
        "3. Στα αρχεία του dataset δεν υπήρχε κάποια αρίθμηση ή κεφαλίδα, μόνο τα δεδομένα.\n",
        "\n",
        "4. Οι ετικέτες των κλάσεων είναι οι 4 που αναφέρθηκαν παραπάνω (bus, opel, saab, van) και βρίσκονται στην τελευταία κολόνα. \n",
        "\n",
        "5. Δε χρειάστηκε κάποια μετατροπή στα text αρχεία, μόνο η συνένωσή τους σε ένα, η οποία έγινε χειροκίνητα.\n",
        "\n",
        "6. Όσον αφορά τις τιμές των χαρακτηριστικών δεν υπήρχαν απουσιάζουσες τιμές (lucky us) "
      ]
    },
    {
      "cell_type": "code",
      "metadata": {
        "id": "lN2pNX3KyNmq",
        "colab": {
          "base_uri": "https://localhost:8080/"
        },
        "outputId": "441755b7-e7dc-41c9-b7ff-5bc97eff033c"
      },
      "source": [
        "labels_df = df.iloc[:,[-1]] #Τα labels βρισκονται στην τελευταία στήλη\n",
        "features_df = df.iloc[:,:18] #18 attributes, στις στήλες 0-17.\n",
        "\n",
        "np_features=features_df.values #Μετατρέπουμε το dataframe σε np array\n",
        "print(np_features.shape)"
      ],
      "execution_count": null,
      "outputs": [
        {
          "output_type": "stream",
          "text": [
            "(846, 18)\n"
          ],
          "name": "stdout"
        }
      ]
    },
    {
      "cell_type": "markdown",
      "metadata": {
        "id": "llUjsPHY2P60"
      },
      "source": [
        "Όπως βλέπουμε στο output του παρακάτω κελιού κώδικα, τα αντικείμενα μας ανήκουν στις κατηγορίες bus, opel, saab, van.\n",
        "Θα χρησιμοποιήσουμε το εξής mapping:\n",
        "\n",
        "0:bus \n",
        "\n",
        "1:opel\n",
        "\n",
        "2:saab\n",
        "\n",
        "3:van\n"
      ]
    },
    {
      "cell_type": "code",
      "metadata": {
        "id": "_6auamSV2vUr",
        "colab": {
          "base_uri": "https://localhost:8080/"
        },
        "outputId": "77463e0c-9aa6-4fd7-f5d9-44c64de2859e"
      },
      "source": [
        "unique_labels = np.unique(labels_df.values) #Παίρνουμε τη λίστα με τα ονόματα των κλάσεων των αντικειμένων μας.\n",
        "print(unique_labels)\n",
        "mapping = {'bus' : 0, 'opel' : 1, 'saab' : 2, 'van' : 3}\n",
        "np_labels =  labels_df.replace(mapping).values.flatten()\n",
        "print(np_labels)\n",
        "print(np_labels.shape)"
      ],
      "execution_count": null,
      "outputs": [
        {
          "output_type": "stream",
          "text": [
            "['bus' 'opel' 'saab' 'van']\n",
            "[3 3 2 3 0 0 0 3 3 2 3 2 0 3 0 1 3 0 2 1 0 3 0 0 2 3 2 2 0 2 3 2 1 1 1 3 0\n",
            " 3 2 0 1 3 3 2 2 3 3 0 3 2 2 2 1 0 0 3 2 3 1 3 1 1 3 0 0 1 0 1 3 0 1 1 1 1\n",
            " 3 1 2 2 0 0 0 0 3 1 0 0 3 3 0 1 2 1 2 3 0 1 2 0 1 0 0 3 3 3 0 2 1 1 0 0 3\n",
            " 3 1 1 3 3 1 2 0 0 2 3 3 2 3 3 0 0 3 0 2 2 2 3 1 3 3 3 2 3 2 0 1 0 1 1 3 0\n",
            " 2 3 2 0 1 2 3 0 1 3 2 1 1 1 2 2 1 1 2 2 0 3 1 0 3 0 3 0 1 0 0 3 2 1 0 2 2\n",
            " 0 0 1 1 1 1 3 2 0 2 0 2 0 0 0 3 2 1 1 3 3 1 0 0 1 1 3 0 0 1 1 2 1 0 3 1 3\n",
            " 0 0 2 3 2 3 2 2 3 2 0 2 3 3 0 0 1 0 1 1 0 2 3 3 0 2 1 2 3 1 3 0 3 2 2 1 2\n",
            " 1 2 2 3 3 2 0 0 2 3 3 0 2 3 3 0 0 0 1 2 0 1 0 0 2 3 2 0 3 1 2 3 3 0 3 0 0\n",
            " 0 2 2 0 2 1 0 3 0 0 2 1 1 1 2 3 0 1 0 3 3 2 3 0 2 0 0 2 2 0 1 1 3 2 3 1 1\n",
            " 0 0 2 3 0 3 0 0 1 2 1 1 0 2 1 3 1 1 2 3 0 2 1 0 2 1 1 2 2 2 3 1 2 3 2 0 1\n",
            " 0 0 3 0 3 0 2 2 2 1 1 0 0 1 1 3 2 3 3 1 0 3 3 0 2 1 0 0 0 3 2 1 1 3 1 0 1\n",
            " 2 0 2 2 1 0 1 3 1 0 0 0 2 3 1 2 0 1 1 1 1 2 3 2 0 2 0 2 3 3 1 1 2 2 3 3 1\n",
            " 0 3 2 1 0 3 0 1 1 0 2 0 3 3 1 2 3 1 1 1 0 0 0 1 2 3 3 1 0 1 1 2 1 3 0 0 2\n",
            " 1 1 3 3 0 1 2 1 1 2 2 0 1 0 0 1 3 3 1 1 1 1 2 1 2 2 1 3 1 0 1 1 2 3 1 1 2\n",
            " 2 3 2 3 2 3 1 2 2 1 0 0 2 0 2 3 3 3 2 3 1 0 0 3 2 2 0 3 3 0 0 2 3 1 2 0 2\n",
            " 1 0 2 0 2 1 1 2 1 0 2 2 2 0 3 2 2 3 3 1 2 2 1 1 1 0 3 2 2 0 3 1 1 1 1 0 1\n",
            " 0 2 3 1 1 3 0 2 0 3 1 2 1 2 3 3 1 0 1 3 1 0 2 1 1 3 3 1 2 3 2 2 2 2 0 0 0\n",
            " 3 2 1 0 1 1 3 2 0 0 1 1 0 2 0 3 1 0 2 2 2 2 2 1 1 2 3 0 3 3 2 3 2 2 2 3 3\n",
            " 1 2 3 0 1 1 0 1 2 1 0 0 0 0 3 0 3 0 0 0 1 0 2 2 2 0 2 3 2 3 2 0 0 1 1 2 1\n",
            " 3 1 2 3 3 3 1 0 2 2 2 0 1 2 0 1 2 1 2 3 1 3 3 2 0 1 1 1 0 3 0 3 1 2 0 0 3\n",
            " 2 0 1 2 3 0 3 0 3 2 2 3 0 2 3 3 2 2 0 3 1 2 3 1 2 0 2 0 1 2 0 1 1 0 3 0 2\n",
            " 0 2 3 2 3 1 2 3 0 2 3 2 2 0 3 1 0 0 3 1 2 1 0 3 1 1 0 1 0 2 2 0 2 1 1 0 3\n",
            " 0 0 3 2 1 2 2 1 3 1 1 1 1 1 3 3 0 0 2 2 2 0 3 2 3 3 1 2 3 2 2 3]\n",
            "(846,)\n"
          ],
          "name": "stdout"
        }
      ]
    },
    {
      "cell_type": "code",
      "metadata": {
        "id": "U0xCYaSQBZec",
        "colab": {
          "base_uri": "https://localhost:8080/"
        },
        "outputId": "1b4c1759-4c68-4ac0-cd1d-2ded1c360313"
      },
      "source": [
        "from collections import Counter\n",
        "instances_per_class = Counter(np_labels)\n",
        "print(instances_per_class)"
      ],
      "execution_count": null,
      "outputs": [
        {
          "output_type": "stream",
          "text": [
            "Counter({0: 218, 2: 217, 1: 212, 3: 199})\n"
          ],
          "name": "stdout"
        }
      ]
    },
    {
      "cell_type": "markdown",
      "metadata": {
        "id": "8zAO0AQLBOKO"
      },
      "source": [
        "7. Βλεπουμε πως κάθε κλάση έχει τα παρακάτω στιγμιότυπα επί του συνόλου:\n",
        "\n",
        "  bus: 218\n",
        "\n",
        "  opel: 212\n",
        "\n",
        "  saab: 217\n",
        "\n",
        "  van: 199\n",
        "\n",
        "  Το dataset μας είναι ισορροπημένο, αφού instances_max/instances_min = 218/199=1.095 < 1.5"
      ]
    },
    {
      "cell_type": "markdown",
      "metadata": {
        "id": "kXPYWa9oNK8c"
      },
      "source": [
        "8. Χωρίζουμε το dataset σε train και test set. Δεν υπάρχουν απουσιάζουσες τιμές ή μη διατεταγμένεα χαρακτηριστικά, συνεπώς προχωράμε κατευθείαν στο διαχωρισμό (20% για test set)."
      ]
    },
    {
      "cell_type": "code",
      "metadata": {
        "id": "eX80wgC5Nsic",
        "colab": {
          "base_uri": "https://localhost:8080/"
        },
        "outputId": "f755c3bb-d0d2-4327-8da2-bbe4406979ef"
      },
      "source": [
        "from sklearn.model_selection import train_test_split\n",
        "\n",
        "# Split our data\n",
        "train_data, test_data, train_labels, test_labels = train_test_split(np_features, np_labels, test_size=0.2)\n",
        "instances_per_class = Counter(train_labels)\n",
        "print(instances_per_class)"
      ],
      "execution_count": null,
      "outputs": [
        {
          "output_type": "stream",
          "text": [
            "Counter({0: 182, 2: 178, 1: 159, 3: 157})\n"
          ],
          "name": "stdout"
        }
      ]
    },
    {
      "cell_type": "markdown",
      "metadata": {
        "id": "1_L4u9l4ONEr"
      },
      "source": [
        "##Ταξινόμηση\n",
        "Οι ταξινομητές που εξετάζουμε σε αυτό το dataset είναι οι: dummy, Gaussian Naive Bayes, kNN."
      ]
    },
    {
      "cell_type": "markdown",
      "metadata": {
        "id": "DKnx8iOnBJlC"
      },
      "source": [
        "###Baseline Classification"
      ]
    },
    {
      "cell_type": "code",
      "metadata": {
        "id": "6Vkm6rE9eaXf"
      },
      "source": [
        "#Xρησιμοποιούμε την παρακάτω συνάρτηση για να απεικονίσουμε χρωματικά το confusion matrix \n",
        "def view_conf_matrix(cnf_matrix, labels, cmap='gray'):\n",
        "  fix, ax = plt.subplots(figsize=(6,6))\n",
        "  ax.set_xticks(range(0,len(cnf_matrix)))\n",
        "  ax.set_yticks(range(0,len(cnf_matrix)))\n",
        "  ax.set_xticklabels(labels, size=11)\n",
        "  ax.set_yticklabels(labels, size=11)\n",
        "  ax.xaxis.tick_top()\n",
        "  for i in range(len(labels)):\n",
        "    for j in range(len(labels)):\n",
        "      text = ax.text(j,i,cnf_matrix[i,j],ha='center',va='center',color='black')\n",
        "  ax.imshow(cnf_matrix,cmap=cmap)"
      ],
      "execution_count": null,
      "outputs": []
    },
    {
      "cell_type": "markdown",
      "metadata": {
        "id": "mQ_hKHnrWkj6"
      },
      "source": [
        "####Dummy Classifiers\n",
        "Θα χρησιμοποιήσυμε όλες τις γνωστές στρατηγικές επιλογής για τους dummy classifiers εκτός από την constant"
      ]
    },
    {
      "cell_type": "markdown",
      "metadata": {
        "id": "MXmQyL9dk9j2"
      },
      "source": [
        "Dummy Uniform Classifier"
      ]
    },
    {
      "cell_type": "code",
      "metadata": {
        "id": "6FXRDrZ0OiP9",
        "colab": {
          "base_uri": "https://localhost:8080/",
          "height": 467
        },
        "outputId": "c9b2c58b-36c2-4e63-8580-32490fd101ae"
      },
      "source": [
        "dummy_uniform = DummyClassifier(strategy='uniform')\n",
        "dummy_uniform_model = dummy_uniform.fit(train_data, train_labels)\n",
        "dummy_uniform_preds = dummy_uniform.predict(test_data)\n",
        "cnf_matrix = confusion_matrix(test_labels, dummy_uniform_preds)\n",
        "print(\"Confusion Matrix for Dummy Uniform Classifier:\\n\",cnf_matrix)\n",
        "view_conf_matrix(cnf_matrix, unique_labels, cmap='Blues')"
      ],
      "execution_count": null,
      "outputs": [
        {
          "output_type": "stream",
          "text": [
            "Confusion Matrix for Dummy Uniform Classifier:\n",
            " [[13  9  6  8]\n",
            " [ 9 16 12 16]\n",
            " [15  7  8  9]\n",
            " [13  7 13  9]]\n"
          ],
          "name": "stdout"
        },
        {
          "output_type": "display_data",
          "data": {
            "image/png": "[encoded data removed]",
            "text/plain": [
              "<Figure size 432x432 with 1 Axes>"
            ]
          },
          "metadata": {
            "tags": [],
            "needs_background": "light"
          }
        }
      ]
    },
    {
      "cell_type": "code",
      "metadata": {
        "id": "bzWVGN2y0BRc",
        "colab": {
          "base_uri": "https://localhost:8080/"
        },
        "outputId": "f341b430-2ba3-4f8e-f374-0ba360936c7f"
      },
      "source": [
        "f1_micro_du = precision_recall_fscore_support(test_labels, dummy_uniform_preds, average='micro')[2]\n",
        "f1_macro_du = precision_recall_fscore_support(test_labels, dummy_uniform_preds, average='macro')[2]\n",
        "\n",
        "print(\"Dummy Uniform Classifier:\\t f1_micro:\"+str(f1_micro_du)[:5]+\"\\t f1_macro:\"+str(f1_macro_du)[:5]+'\\n')\n",
        "\n",
        "print(classification_report(test_labels, dummy_uniform_preds , target_names=unique_labels))"
      ],
      "execution_count": null,
      "outputs": [
        {
          "output_type": "stream",
          "text": [
            "Dummy Uniform Classifier:\t f1_micro:0.270\t f1_macro:0.267\n",
            "\n",
            "              precision    recall  f1-score   support\n",
            "\n",
            "         bus       0.26      0.36      0.30        36\n",
            "        opel       0.41      0.30      0.35        53\n",
            "        saab       0.21      0.21      0.21        39\n",
            "         van       0.21      0.21      0.21        42\n",
            "\n",
            "    accuracy                           0.27       170\n",
            "   macro avg       0.27      0.27      0.27       170\n",
            "weighted avg       0.28      0.27      0.27       170\n",
            "\n"
          ],
          "name": "stdout"
        }
      ]
    },
    {
      "cell_type": "markdown",
      "metadata": {
        "id": "VRxp7U-qlFtm"
      },
      "source": [
        "Dummy Most Frequent Classifier"
      ]
    },
    {
      "cell_type": "code",
      "metadata": {
        "id": "z1fRc_96ktcN",
        "colab": {
          "base_uri": "https://localhost:8080/",
          "height": 467
        },
        "outputId": "44c6c76e-4415-43ae-c6a6-56a487fa6842"
      },
      "source": [
        "dummy_mostFrequent = DummyClassifier(strategy='most_frequent')\n",
        "\n",
        "dummy_mostFrequent_model = dummy_mostFrequent.fit(train_data, train_labels)\n",
        "dummy_mostFrequent_preds = dummy_mostFrequent.predict(test_data)\n",
        "\n",
        "cnf_matrix = confusion_matrix(test_labels, dummy_mostFrequent_preds)\n",
        "print(\"Confusion Matrix for Dummy Most Frequent Classifier:\\n\",cnf_matrix)\n",
        "\n",
        "view_conf_matrix(cnf_matrix, unique_labels, cmap='Blues')"
      ],
      "execution_count": null,
      "outputs": [
        {
          "output_type": "stream",
          "text": [
            "Confusion Matrix for Dummy Most Frequent Classifier:\n",
            " [[36  0  0  0]\n",
            " [53  0  0  0]\n",
            " [39  0  0  0]\n",
            " [42  0  0  0]]\n"
          ],
          "name": "stdout"
        },
        {
          "output_type": "display_data",
          "data": {
            "image/png": "[encoded data removed]",
            "text/plain": [
              "<Figure size 432x432 with 1 Axes>"
            ]
          },
          "metadata": {
            "tags": [],
            "needs_background": "light"
          }
        }
      ]
    },
    {
      "cell_type": "code",
      "metadata": {
        "id": "Gr3zqTOx1ILC",
        "colab": {
          "base_uri": "https://localhost:8080/"
        },
        "outputId": "9d606cac-f400-42d0-af53-e3e45d8e50aa"
      },
      "source": [
        "f1_micro_dmf = precision_recall_fscore_support(test_labels, dummy_mostFrequent_preds, average='micro')[2]\n",
        "f1_macro_dmf = precision_recall_fscore_support(test_labels, dummy_mostFrequent_preds, average='macro')[2]\n",
        "\n",
        "print(\"Dummy Most Frequent Classifier:\\t f1_micro:\"+str(f1_micro_dmf)[:5]+\"\\t f1_macro:\"+str(f1_macro_dmf)[:5]+'\\n')\n",
        "\n",
        "print(classification_report(test_labels, dummy_mostFrequent_preds , target_names=unique_labels))"
      ],
      "execution_count": null,
      "outputs": [
        {
          "output_type": "stream",
          "text": [
            "Dummy Most Frequent Classifier:\t f1_micro:0.211\t f1_macro:0.087\n",
            "\n",
            "              precision    recall  f1-score   support\n",
            "\n",
            "         bus       0.21      1.00      0.35        36\n",
            "        opel       0.00      0.00      0.00        53\n",
            "        saab       0.00      0.00      0.00        39\n",
            "         van       0.00      0.00      0.00        42\n",
            "\n",
            "    accuracy                           0.21       170\n",
            "   macro avg       0.05      0.25      0.09       170\n",
            "weighted avg       0.04      0.21      0.07       170\n",
            "\n"
          ],
          "name": "stdout"
        },
        {
          "output_type": "stream",
          "text": [
            "/usr/local/lib/python3.6/dist-packages/sklearn/metrics/_classification.py:1272: UndefinedMetricWarning: Precision and F-score are ill-defined and being set to 0.0 in labels with no predicted samples. Use `zero_division` parameter to control this behavior.\n",
            "  _warn_prf(average, modifier, msg_start, len(result))\n"
          ],
          "name": "stderr"
        }
      ]
    },
    {
      "cell_type": "markdown",
      "metadata": {
        "id": "LDx77-fWuuaf"
      },
      "source": [
        "Constant Classifier\n",
        "Επιλέγουμε ο constant classifier να ταξινομεί όλα τα δείγματα στην πιο πολυπληθή κλάση σε όλο το σύνολο (train και test), η οποία είναι η bus (0)"
      ]
    },
    {
      "cell_type": "code",
      "metadata": {
        "colab": {
          "base_uri": "https://localhost:8080/",
          "height": 467
        },
        "id": "bkqJhs6Hut62",
        "outputId": "efe7bcc9-b9ab-4999-901c-a34ace32dd1e"
      },
      "source": [
        "dummy_const = DummyClassifier(strategy='constant',constant=0 )\n",
        "\n",
        "dummy_const_model = dummy_const.fit(train_data, train_labels)\n",
        "dummy_const_preds = dummy_const.predict(test_data)\n",
        "\n",
        "cnf_matrix = confusion_matrix(test_labels, dummy_const_preds)\n",
        "print(\"Confusion Matrix for Dummy Constant (constant=bus):\\n\",cnf_matrix)\n",
        "\n",
        "view_conf_matrix(cnf_matrix, unique_labels, cmap='Blues')"
      ],
      "execution_count": null,
      "outputs": [
        {
          "output_type": "stream",
          "text": [
            "Confusion Matrix for Dummy Constant (constant=bus):\n",
            " [[36  0  0  0]\n",
            " [53  0  0  0]\n",
            " [39  0  0  0]\n",
            " [42  0  0  0]]\n"
          ],
          "name": "stdout"
        },
        {
          "output_type": "display_data",
          "data": {
            "image/png": "[encoded data removed]",
            "text/plain": [
              "<Figure size 432x432 with 1 Axes>"
            ]
          },
          "metadata": {
            "tags": [],
            "needs_background": "light"
          }
        }
      ]
    },
    {
      "cell_type": "code",
      "metadata": {
        "colab": {
          "base_uri": "https://localhost:8080/"
        },
        "id": "3wKtZ6dlwau0",
        "outputId": "57fdc0a4-357c-4938-fb04-5f3bfc5552d5"
      },
      "source": [
        "f1_micro_dc = precision_recall_fscore_support(test_labels, dummy_const_preds, average='micro')[2]\n",
        "f1_macro_dc = precision_recall_fscore_support(test_labels, dummy_const_preds, average='macro')[2]\n",
        "\n",
        "print(\"Dummy Most Frequent Classifier:\\t f1_micro:\"+str(f1_micro_dc)[:5]+\"\\t f1_macro:\"+str(f1_macro_dc)[:5]+'\\n')\n",
        "\n",
        "print(classification_report(test_labels, dummy_const_preds , target_names=unique_labels))"
      ],
      "execution_count": null,
      "outputs": [
        {
          "output_type": "stream",
          "text": [
            "Dummy Most Frequent Classifier:\t f1_micro:0.211\t f1_macro:0.087\n",
            "\n",
            "              precision    recall  f1-score   support\n",
            "\n",
            "         bus       0.21      1.00      0.35        36\n",
            "        opel       0.00      0.00      0.00        53\n",
            "        saab       0.00      0.00      0.00        39\n",
            "         van       0.00      0.00      0.00        42\n",
            "\n",
            "    accuracy                           0.21       170\n",
            "   macro avg       0.05      0.25      0.09       170\n",
            "weighted avg       0.04      0.21      0.07       170\n",
            "\n"
          ],
          "name": "stdout"
        },
        {
          "output_type": "stream",
          "text": [
            "/usr/local/lib/python3.6/dist-packages/sklearn/metrics/_classification.py:1272: UndefinedMetricWarning: Precision and F-score are ill-defined and being set to 0.0 in labels with no predicted samples. Use `zero_division` parameter to control this behavior.\n",
            "  _warn_prf(average, modifier, msg_start, len(result))\n"
          ],
          "name": "stderr"
        }
      ]
    },
    {
      "cell_type": "markdown",
      "metadata": {
        "id": "aGROpIeurzbs"
      },
      "source": [
        "Dummy Stratified"
      ]
    },
    {
      "cell_type": "code",
      "metadata": {
        "id": "k9Ou5IY_r7BV",
        "colab": {
          "base_uri": "https://localhost:8080/",
          "height": 467
        },
        "outputId": "251ba1d2-31eb-4b2c-9868-76e60149ce5c"
      },
      "source": [
        "dummy_stratified = DummyClassifier(strategy='stratified')\n",
        "\n",
        "dummy_stratified_model = dummy_stratified.fit(train_data, train_labels)\n",
        "dummy_stratified_preds = dummy_stratified.predict(test_data)\n",
        "\n",
        "cnf_matrix = confusion_matrix(test_labels, dummy_stratified_preds)\n",
        "print(\"Confusion Matrix for Dummy Stratified Classifier:\\n\",cnf_matrix)\n",
        "\n",
        "view_conf_matrix(cnf_matrix, unique_labels, cmap='Blues')"
      ],
      "execution_count": null,
      "outputs": [
        {
          "output_type": "stream",
          "text": [
            "Confusion Matrix for Dummy Stratified Classifier:\n",
            " [[ 9  9  9  9]\n",
            " [13 18 11 11]\n",
            " [ 8  9 10 12]\n",
            " [16  7 10  9]]\n"
          ],
          "name": "stdout"
        },
        {
          "output_type": "display_data",
          "data": {
            "image/png": "[encoded data removed]",
            "text/plain": [
              "<Figure size 432x432 with 1 Axes>"
            ]
          },
          "metadata": {
            "tags": [],
            "needs_background": "light"
          }
        }
      ]
    },
    {
      "cell_type": "code",
      "metadata": {
        "id": "r7xpGhmZ1jUm",
        "colab": {
          "base_uri": "https://localhost:8080/"
        },
        "outputId": "54c05814-e2f2-4fa1-c58c-7b16aec4bcac"
      },
      "source": [
        "f1_micro_ds = precision_recall_fscore_support(test_labels, dummy_stratified_preds, average='micro')[2]\n",
        "f1_macro_ds = precision_recall_fscore_support(test_labels, dummy_stratified_preds, average='macro')[2]\n",
        "\n",
        "print(\"Dummy Most Frequent Classifier:\\t f1_micro:\"+str(f1_micro_ds)[:5]+\"\\t f1_macro:\"+str(f1_macro_ds)[:5]+'\\n')\n",
        "\n",
        "print(classification_report(test_labels, dummy_stratified_preds , target_names=unique_labels))"
      ],
      "execution_count": null,
      "outputs": [
        {
          "output_type": "stream",
          "text": [
            "Dummy Most Frequent Classifier:\t f1_micro:0.270\t f1_macro:0.266\n",
            "\n",
            "              precision    recall  f1-score   support\n",
            "\n",
            "         bus       0.20      0.25      0.22        36\n",
            "        opel       0.42      0.34      0.37        53\n",
            "        saab       0.25      0.26      0.25        39\n",
            "         van       0.22      0.21      0.22        42\n",
            "\n",
            "    accuracy                           0.27       170\n",
            "   macro avg       0.27      0.27      0.27       170\n",
            "weighted avg       0.28      0.27      0.28       170\n",
            "\n"
          ],
          "name": "stdout"
        }
      ]
    },
    {
      "cell_type": "markdown",
      "metadata": {
        "id": "3q0H3dKPjmN0"
      },
      "source": [
        "Γενικα βλεπουμε πως οι dummy classifiers έχουν πολύ χαμηλά ποσοστά επιτυχίας και γενικα δεν εχουν και πολυ νοημα, παρα μονο στο να καταλαβουμε ποσο γτπ ειναι\n"
      ]
    },
    {
      "cell_type": "markdown",
      "metadata": {
        "id": "Cb5L-EsuWqtA"
      },
      "source": [
        "#### Gaussian Naive Bayes Classifier"
      ]
    },
    {
      "cell_type": "code",
      "metadata": {
        "id": "2q25WupYWvTn",
        "colab": {
          "base_uri": "https://localhost:8080/",
          "height": 467
        },
        "outputId": "130c2925-09cd-475f-c82b-18008f1b7ca5"
      },
      "source": [
        "gnb = GaussianNB()\n",
        "\n",
        "gnb_model = gnb.fit(train_data, train_labels)\n",
        "gnb_preds = gnb.predict(test_data)\n",
        "\n",
        "cnf_matrix_gnb = confusion_matrix(test_labels, gnb_preds)\n",
        "print(\"Gaussian Naive Bayes Classifier:\\n\",cnf_matrix_gnb)\n",
        "\n",
        "view_conf_matrix(cnf_matrix_gnb, unique_labels, cmap='Blues')"
      ],
      "execution_count": null,
      "outputs": [
        {
          "output_type": "stream",
          "text": [
            "Gaussian Naive Bayes Classifier:\n",
            " [[ 8  2  7 19]\n",
            " [ 0 23 10 20]\n",
            " [ 0 10 14 15]\n",
            " [ 5  0  3 34]]\n"
          ],
          "name": "stdout"
        },
        {
          "output_type": "display_data",
          "data": {
            "image/png": "[encoded data removed]",
            "text/plain": [
              "<Figure size 432x432 with 1 Axes>"
            ]
          },
          "metadata": {
            "tags": [],
            "needs_background": "light"
          }
        }
      ]
    },
    {
      "cell_type": "code",
      "metadata": {
        "id": "MzHuiJSx5fVK",
        "colab": {
          "base_uri": "https://localhost:8080/"
        },
        "outputId": "9fe08c2c-8362-4657-e3e8-f073aa3f9154"
      },
      "source": [
        "f1_micro_gnb = precision_recall_fscore_support(test_labels, gnb_preds, average='micro')[2]\n",
        "f1_macro_gnb = precision_recall_fscore_support(test_labels, gnb_preds, average='macro')[2]\n",
        "\n",
        "print(\"Gaussian Naive Bayes Classifier:\\t f1_micro:\"+str(f1_micro_gnb)[:5]+\"\\t f1_macro:\"+str(f1_macro_gnb)[:5]+'\\n')\n",
        "\n",
        "print(classification_report(test_labels, gnb_preds , target_names=unique_labels))"
      ],
      "execution_count": null,
      "outputs": [
        {
          "output_type": "stream",
          "text": [
            "Gaussian Naive Bayes Classifier:\t f1_micro:0.464\t f1_macro:0.438\n",
            "\n",
            "              precision    recall  f1-score   support\n",
            "\n",
            "         bus       0.62      0.22      0.33        36\n",
            "        opel       0.66      0.43      0.52        53\n",
            "        saab       0.41      0.36      0.38        39\n",
            "         van       0.39      0.81      0.52        42\n",
            "\n",
            "    accuracy                           0.46       170\n",
            "   macro avg       0.52      0.46      0.44       170\n",
            "weighted avg       0.53      0.46      0.45       170\n",
            "\n"
          ],
          "name": "stdout"
        }
      ]
    },
    {
      "cell_type": "markdown",
      "metadata": {
        "id": "HWU19JTbWvv3"
      },
      "source": [
        "#### kNN Classifier"
      ]
    },
    {
      "cell_type": "code",
      "metadata": {
        "id": "WB6r4J25W14w",
        "colab": {
          "base_uri": "https://localhost:8080/",
          "height": 467
        },
        "outputId": "7a8e0597-00d2-4766-effb-6a31ae3c19c5"
      },
      "source": [
        "knn = KNeighborsClassifier()  #Η default τιμη του k είναι 5. Θα βελτιστοποιηθεί σε επόμενο βήμα\n",
        "knn_model = knn.fit(train_data, train_labels)\n",
        "knn_preds = knn.predict(test_data)\n",
        "\n",
        "cnf_matrix_knn = confusion_matrix(test_labels, knn_preds)\n",
        "print(\"kNN Classifier (k=5):\\n\",cnf_matrix_knn)\n",
        "\n",
        "view_conf_matrix(cnf_matrix, unique_labels, cmap='Blues')"
      ],
      "execution_count": null,
      "outputs": [
        {
          "output_type": "stream",
          "text": [
            "kNN Classifier (k=5):\n",
            " [[29  5  2  0]\n",
            " [ 7 24 17  5]\n",
            " [ 6  9 22  2]\n",
            " [ 3  0  1 38]]\n"
          ],
          "name": "stdout"
        },
        {
          "output_type": "display_data",
          "data": {
            "image/png": "[encoded data removed]",
            "text/plain": [
              "<Figure size 432x432 with 1 Axes>"
            ]
          },
          "metadata": {
            "tags": [],
            "needs_background": "light"
          }
        }
      ]
    },
    {
      "cell_type": "code",
      "metadata": {
        "id": "juL88R3rtZbZ",
        "colab": {
          "base_uri": "https://localhost:8080/"
        },
        "outputId": "ef03d451-4c3b-4e26-dd95-899f3a6cc265"
      },
      "source": [
        "f1_micro_knn = precision_recall_fscore_support(test_labels, knn_preds, average='micro')[2]\n",
        "f1_macro_knn = precision_recall_fscore_support(test_labels, knn_preds, average='macro')[2]\n",
        "\n",
        "print(\"kΝΝ Classifier:\\t f1_micro:\"+str(f1_micro_knn)[:5]+\"\\t f1_macro:\"+str(f1_macro_knn)[:5]+'\\n')\n",
        "\n",
        "print(classification_report(test_labels, knn_preds , target_names=unique_labels))"
      ],
      "execution_count": null,
      "outputs": [
        {
          "output_type": "stream",
          "text": [
            "kΝΝ Classifier:\t f1_micro:0.664\t f1_macro:0.665\n",
            "\n",
            "              precision    recall  f1-score   support\n",
            "\n",
            "         bus       0.64      0.81      0.72        36\n",
            "        opel       0.63      0.45      0.53        53\n",
            "        saab       0.52      0.56      0.54        39\n",
            "         van       0.84      0.90      0.87        42\n",
            "\n",
            "    accuracy                           0.66       170\n",
            "   macro avg       0.66      0.68      0.67       170\n",
            "weighted avg       0.66      0.66      0.66       170\n",
            "\n"
          ],
          "name": "stdout"
        }
      ]
    },
    {
      "cell_type": "markdown",
      "metadata": {
        "id": "CD3PNO7VECxx"
      },
      "source": [
        "#### Σύγκριση και σχολιασμός Αποτελεσμάτων"
      ]
    },
    {
      "cell_type": "code",
      "metadata": {
        "id": "T-XhncSaCOJi",
        "colab": {
          "base_uri": "https://localhost:8080/",
          "height": 562
        },
        "outputId": "a0c854be-a76f-4cb5-c31b-533011712712"
      },
      "source": [
        "classifiers=[\"Dummy\\nUniform\",\"Dummy\\nMost\\nFrequent\",\"Dummy\\nConstant\",\"Dummy\\nStratified\",\"Gauss\\nNaive\\nBayes\",\"kNN\"]\n",
        "\n",
        "f1_micros_def=[f1_micro_du, f1_micro_dmf, f1_micro_ds, f1_micro_dc, f1_micro_gnb, f1_micro_knn]\n",
        "f1_macros_def=[f1_macro_du, f1_macro_dmf, f1_macro_ds, f1_macro_dc, f1_macro_gnb, f1_macro_knn]\n",
        "\n",
        "fig, ax = plt.subplots(figsize = (10,8))\n",
        "ax.grid(True)\n",
        "xax=np.arange(len(classifiers))\n",
        "ax.set_xticks(xax)\n",
        "ax.set_xticklabels(classifiers, size=13)\n",
        "ax.set_xlabel('Classifiers', size=20)\n",
        "ax.set_ylim(0,1)\n",
        "ax.set_ylabel(\"Accuracy\", size=20)\n",
        "\n",
        "ax.bar(xax-0.3,f1_micros_def, label='F1 MICRO',align='edge',width=0.3, color='blue' )\n",
        "ax.bar(xax, f1_macros_def, label='F1 MACRO',align='edge',width=0.3, color='green' )\n",
        "plt.legend()\n"
      ],
      "execution_count": null,
      "outputs": [
        {
          "output_type": "execute_result",
          "data": {
            "text/plain": [
              "<matplotlib.legend.Legend at 0x7eff95ef25c0>"
            ]
          },
          "metadata": {
            "tags": []
          },
          "execution_count": 22
        },
        {
          "output_type": "display_data",
          "data": {
            "image/png": "[encoded data removed]",
            "text/plain": [
              "<Figure size 720x576 with 1 Axes>"
            ]
          },
          "metadata": {
            "tags": [],
            "needs_background": "light"
          }
        }
      ]
    },
    {
      "cell_type": "markdown",
      "metadata": {
        "id": "46wqbD-2BAF_"
      },
      "source": [
        "Όπως εύκολα παρατηρούμε, ο kNN έχει πολύ καλύτερες επιδόσεις από όλους τους ταξινομητές."
      ]
    },
    {
      "cell_type": "markdown",
      "metadata": {
        "id": "W7axJcC2BgX-"
      },
      "source": [
        "### Βελτιστοποίηση Ταξινομητών"
      ]
    },
    {
      "cell_type": "markdown",
      "metadata": {
        "id": "I_w45tL6F6qW"
      },
      "source": [
        "#### Βελτιστοποίηση Dummy Classifiers"
      ]
    },
    {
      "cell_type": "markdown",
      "metadata": {
        "id": "7gctuuEyF_yD"
      },
      "source": [
        "Just kidding, δε μπορεί να γίνει κάποια βελτιστοποίηση και δε θα αναλωθουμε προσπαθωντας να βελτιώσουμε τους dummies. Το όνομά τους δεν το πήραν τυχαια :)"
      ]
    },
    {
      "cell_type": "code",
      "metadata": {
        "id": "L3Crlucorfkx"
      },
      "source": [
        "f1_micros_opt=[f1_micro_du, f1_micro_dmf, f1_micro_dc, f1_micro_ds]\n",
        "f1_macros_opt=[f1_macro_du, f1_macro_dmf, f1_macro_dc, f1_macro_ds]"
      ],
      "execution_count": null,
      "outputs": []
    },
    {
      "cell_type": "markdown",
      "metadata": {
        "id": "bYi8aN9eGH-a"
      },
      "source": [
        "#### Βελτιστοποίηση Gaussian Naive Bayes Classifier  \n",
        "Ο GNB Classifier δεν έχει κάποια υπερπαράμετρο προς βελτιστοποίηση, οπότε προσπαθούμε να πάρουμε καλύτερα αποτελέσματα αποκλειστικά μέσω του preprocessing"
      ]
    },
    {
      "cell_type": "markdown",
      "metadata": {
        "id": "DMhfSgC4osbv"
      },
      "source": [
        "#####**ΔΟΚΙΜΗ 1: Μείωση της διαστατικότητας των δεδομένων με επιλογή χαρακτηριστικών έπειτα απο min-max κανονικοποίηση:**  \n",
        "Η πρώτη δοκιμή που κάναμε ήταν να εφαρμόσουμε κανονικοποίηση min-max στα δεδομένα και στη συνέχεια να κάνουμε επιλογή χαρακτηριστικών χρησιμοποιώντασ Variance Threshold. Η υψηλότερη απόδοση που καταφέραμε να πάρουμε ήταν της τάξης του 52%, συνεπώς δεν υπήρξε κάποια βελτίωση.\n",
        "\n",
        "\n",
        "\n",
        "\n"
      ]
    },
    {
      "cell_type": "code",
      "metadata": {
        "id": "JIdRdPl9GPsm",
        "colab": {
          "base_uri": "https://localhost:8080/",
          "height": 452
        },
        "outputId": "55d11019-8751-491e-d8e4-7309a6b0e419"
      },
      "source": [
        "#ΔΟΚΙΜΗ ΜΕΙΩΣΗΣ ΔΙΑΣΤΑΣΕΩΝ ΜΕ ΕΠΙΛΟΓΗ ΜΕΤΑΒΛΗΤΩΝ EΠΕΙΤΑ ΑΠΟ ΚΑΝΟΝΙΚΟΠΟΙΗΣΗ (Δεν πηγε και πολυ καλα αυτο)\n",
        "\n",
        "min_max_scaler = preprocessing.MinMaxScaler()\n",
        "train_data_norm = min_max_scaler.fit_transform(train_data)\n",
        "test_data_norm = min_max_scaler.transform(test_data)\n",
        "\n",
        "f1_micros=[]\n",
        "f1_macros=[]\n",
        "thds = [0,0.01,0.02,0.03,0.05,0.06]\n",
        "for threshold in thds:\n",
        "  selector = VarianceThreshold(threshold=threshold)\n",
        "  train_data_reduced = selector.fit_transform(train_data_norm)\n",
        "  mask = selector.get_support()\n",
        "  print(\"Threshold=\"+str(threshold)+\". Keeping \"+str(list(mask).count(True))+\" attributes.\")\n",
        "  train_data_reduced = train_data_norm[:,mask]\n",
        "  test_data_reduced = test_data_norm[:,mask]\n",
        "  gnb_model_opt = gnb.fit(train_data_reduced, train_labels)\n",
        "  gnb_preds_opt = gnb.predict(test_data_reduced)\n",
        "  f1_micros.append(precision_recall_fscore_support(test_labels, gnb_preds_opt, average='micro')[2])\n",
        "  f1_macros.append(precision_recall_fscore_support(test_labels, gnb_preds_opt, average='macro')[2])\n",
        "\n",
        "\n",
        "fig, ax = plt.subplots()\n",
        "xax=range(len(thds))\n",
        "ax.set_xticks(xax)\n",
        "ax.set_xticklabels([\"thd=\"+str(i) for i in thds])\n",
        "ax.plot(xax, f1_micros, label='f1_micro ', color='red')\n",
        "ax.plot(xax, f1_macros, label='f1_macrο', color='m')\n",
        "plt.legend()"
      ],
      "execution_count": null,
      "outputs": [
        {
          "output_type": "stream",
          "text": [
            "Threshold=0. Keeping 18 attributes.\n",
            "Threshold=0.01. Keeping 16 attributes.\n",
            "Threshold=0.02. Keeping 15 attributes.\n",
            "Threshold=0.03. Keeping 13 attributes.\n",
            "Threshold=0.05. Keeping 2 attributes.\n",
            "Threshold=0.06. Keeping 1 attributes.\n"
          ],
          "name": "stdout"
        },
        {
          "output_type": "stream",
          "text": [
            "/usr/local/lib/python3.6/dist-packages/sklearn/metrics/_classification.py:1272: UndefinedMetricWarning: Precision and F-score are ill-defined and being set to 0.0 in labels with no predicted samples. Use `zero_division` parameter to control this behavior.\n",
            "  _warn_prf(average, modifier, msg_start, len(result))\n"
          ],
          "name": "stderr"
        },
        {
          "output_type": "execute_result",
          "data": {
            "text/plain": [
              "<matplotlib.legend.Legend at 0x7eff95d55a20>"
            ]
          },
          "metadata": {
            "tags": []
          },
          "execution_count": 24
        },
        {
          "output_type": "display_data",
          "data": {
            "image/png": "[encoded data removed]",
            "text/plain": [
              "<Figure size 432x288 with 1 Axes>"
            ]
          },
          "metadata": {
            "tags": [],
            "needs_background": "light"
          }
        }
      ]
    },
    {
      "cell_type": "markdown",
      "metadata": {
        "id": "B4fnA1M8V7wy"
      },
      "source": [
        "#####**ΔΟΚΙΜΗ 2: Μείωση της διαστατικότητας των δεδομένων με την τεχνική PCA**  \n",
        "Eδώ αυτό που καταφέραμε είναι αρκετά παράξενο. Ενώ η τεχνική PCA αποσκοπεί στη μείωση της διαστατικότητας, εν τέλει, τα καλύτερα αποτελέσματα τα πήραμε όταν εφαρμόσαμε μετασχηματισμό που οδηγούσε σε ίδιο αριθμό διαστάσεων με τον αρχικό. Αυτό που ενδεχομένως έγινε, είναι ότι η μέθοδος παρήγαγε διαφορετικά 18 χαρακτηριστικά από τα αρχικά 18 που είχαν τα δείγματα. Η βελτίωση είναι σημαντική, καθώς από accuracy της ταξης του 50%, πήγαμε σε τάξη του 70%."
      ]
    },
    {
      "cell_type": "code",
      "metadata": {
        "id": "f4n8XyR4wvZV",
        "colab": {
          "base_uri": "https://localhost:8080/",
          "height": 502
        },
        "outputId": "0c848101-94b2-4080-dbf5-ee509b1637f9"
      },
      "source": [
        "#ΔΟΚΙΜΗ ΜΕΙΩΣΗΣ ΔΙΑΣΤΑΣΕΩΝ ΜΕ ΕΞΑΓΩΓΗ ΧΑΡΑΚΤΗΡΙΣΤΙΚΩΝ\n",
        "f1_micros=[]\n",
        "f1_macros=[]\n",
        "nus = list(range(5,19))\n",
        "\n",
        "for n in nus:\n",
        "  pca = PCA(n_components=n)\n",
        "  train_data_reduced = pca.fit_transform(train_data)\n",
        "  test_data_reduced = pca.transform(test_data)\n",
        "  gnb_model_opt = gnb.fit(train_data_reduced, train_labels)\n",
        "  gnb_preds_opt = gnb.predict(test_data_reduced)\n",
        "  f1_micros.append(precision_recall_fscore_support(test_labels, gnb_preds_opt, average='micro')[2])\n",
        "  f1_macros.append(precision_recall_fscore_support(test_labels, gnb_preds_opt, average='macro')[2])\n",
        "\n",
        "fig, ax = plt.subplots(figsize=(8,8))\n",
        "xax=range(len(nus))\n",
        "ax.set_xticks(xax)\n",
        "ax.set_xticklabels(nus)\n",
        "ax.plot(xax, f1_micros, label='f1_micro ', color='b')\n",
        "ax.plot(xax, f1_macros, label='f1_macro', color='g')\n",
        "plt.legend()"
      ],
      "execution_count": null,
      "outputs": [
        {
          "output_type": "execute_result",
          "data": {
            "text/plain": [
              "<matplotlib.legend.Legend at 0x7eff8af7a4e0>"
            ]
          },
          "metadata": {
            "tags": []
          },
          "execution_count": 71
        },
        {
          "output_type": "display_data",
          "data": {
            "image/png": "[encoded data removed]",
            "text/plain": [
              "<Figure size 576x576 with 1 Axes>"
            ]
          },
          "metadata": {
            "tags": [],
            "needs_background": "light"
          }
        }
      ]
    },
    {
      "cell_type": "code",
      "metadata": {
        "id": "SP6yD63KkGmx"
      },
      "source": [
        "f1_micros_opt.append(f1_micros[-1])\n",
        "f1_macros_opt.append(f1_macros[-1])"
      ],
      "execution_count": null,
      "outputs": []
    },
    {
      "cell_type": "code",
      "metadata": {
        "colab": {
          "base_uri": "https://localhost:8080/"
        },
        "id": "w_gz8paq8DEL",
        "outputId": "f6c74a29-3e5f-470f-d04d-2c4c43078772"
      },
      "source": [
        "f1_macros_opt"
      ],
      "execution_count": null,
      "outputs": [
        {
          "output_type": "execute_result",
          "data": {
            "text/plain": [
              "[0.2673913969414475,\n",
              " 0.08737864077669903,\n",
              " 0.08737864077669903,\n",
              " 0.26613605549087366,\n",
              " 0.7657246810207337]"
            ]
          },
          "metadata": {
            "tags": []
          },
          "execution_count": 81
        }
      ]
    },
    {
      "cell_type": "code",
      "metadata": {
        "colab": {
          "base_uri": "https://localhost:8080/"
        },
        "id": "x5BIqDGD7sc-",
        "outputId": "d8d3fd66-9e15-4355-e512-cc013d15f8d8"
      },
      "source": [
        "f1_micros_opt\n"
      ],
      "execution_count": null,
      "outputs": [
        {
          "output_type": "execute_result",
          "data": {
            "text/plain": [
              "[0.27058823529411763,\n",
              " 0.21176470588235294,\n",
              " 0.21176470588235294,\n",
              " 0.27058823529411763,\n",
              " 0.7647058823529412]"
            ]
          },
          "metadata": {
            "tags": []
          },
          "execution_count": 82
        }
      ]
    },
    {
      "cell_type": "markdown",
      "metadata": {
        "id": "EXmeGmeK01tR"
      },
      "source": [
        "#### kNN Classifier\n",
        "Εδώ, εκτός από τους διάφορους μετασχηματισμούς κατά την προεπεξεργασία των δεδομένων, θα βελτιστοποιήσουμε και την παράμετρο k του kNN χρησιμοποιώντας 10-fold cross validation. **NA TΡΕΧΤΕΙ 1 ΦΟΡΑ ΠΡΙΝ ΤΗΝ ΥΠΟΒΟΛΗ ΚΑΙ ΝΑ ΓΙΝΟΥΝ EDIT ΤΑ ΣΧΟΛΙΑ**"
      ]
    },
    {
      "cell_type": "markdown",
      "metadata": {
        "id": "jCNpXi3gJJVl"
      },
      "source": [
        "#####**ΔΟΚΙΜΗ 1: Εφαρμογή κανονικοποίησης min-max και στη συνεχεια επιλογή χαρακτηριστικών με VarianceThreshold:**  \n",
        "Κανονικοποιούμε το dataset με τη μέθοδο min-max και στη συνέχεια δοκιμάζουμε τους εξής συνδυασμούς:  \n",
        "- $k \\in(1,20)$ \n",
        "- $thd \\in (0,0.06)$ με βήμα $0.01$\n",
        "\n",
        "Πρώτα κάναμε τη διαδικασία χειροκίνητα και παρουσιάζουμε γραφικά τα αποτελέσματα και στη συνέχεια επαναλαμβάνουμε τη διαδικασία κάνοντας pipeline και CVGridSearch."
      ]
    },
    {
      "cell_type": "code",
      "metadata": {
        "id": "D_ZRqYvH1H4V",
        "colab": {
          "base_uri": "https://localhost:8080/"
        },
        "outputId": "adbfd1a9-bd38-4b05-ada8-acd7b508bac2"
      },
      "source": [
        "#ΔΟΚΙΜΗ ΜΕΙΩΣΗΣ ΔΙΑΣΤΑΣΕΩΝ ΜΕ ΕΠΙΛΟΓΗ ΜΕΤΑΒΛΗΤΩΝ EΠΕΙΤΑ ΑΠΟ ΚΑΝΟΝΙΚΟΠΟΙΗΣΗ\n",
        "\n",
        "#Aρχικά κάνουμε τη διαδικασία χειροκίνητα\n",
        "min_max_scaler = preprocessing.MinMaxScaler()\n",
        "train_data_norm = min_max_scaler.fit_transform(train_data)\n",
        "test_data_norm = min_max_scaler.transform(test_data)\n",
        "\n",
        "f1_micros=[]\n",
        "f1_macros=[]\n",
        "\n",
        "thds = [0,0.01,0.02,0.03,0.05,0.06]\n",
        "ks = list(range(1,21)) #Θα μπορούσαμε να πάρουμε μόνο τα περιττά k, αλλά έχουμε 4 κλάσεις, όχι 2 οπότε οι ισοπαλίες δε θα είναι συχνές.\n",
        "\n",
        "for threshold in thds:\n",
        "  selector = VarianceThreshold(threshold=threshold)\n",
        "  train_data_reduced = selector.fit_transform(train_data_norm)\n",
        "  mask = selector.get_support()\n",
        "  print(\"Threshold=\"+str(threshold)+\". Keeping \"+str(list(mask).count(True))+\" attributes.\")\n",
        "  train_data_reduced = train_data_norm[:,mask]\n",
        "  test_data_reduced = test_data_norm[:,mask]\n",
        "\n",
        "  thd_f1_micros=[]\n",
        "  thd_f1_macros=[]\n",
        "\n",
        "  for k in ks:\n",
        "    knn_opt = KNeighborsClassifier(n_neighbors=k)\n",
        "    f1_micro = cross_val_score(knn_opt, train_data_reduced, train_labels, cv=10, scoring='f1_micro')[2]\n",
        "    f1_macro = cross_val_score(knn_opt, train_data_reduced, train_labels, cv=10, scoring='f1_macro')[2]\n",
        "    print(\"\\t k=\"+str(k)+\". f1_micro=\"+str(f1_micro)[:6]+\" f1_macro=\"+str(f1_macro)[:6])\n",
        "    thd_f1_micros.append(f1_micro)\n",
        "    thd_f1_macros.append(f1_macro)\n",
        "  \n",
        "  f1_micros.append(thd_f1_micros)\n",
        "  f1_macros.append(thd_f1_macros)"
      ],
      "execution_count": null,
      "outputs": [
        {
          "output_type": "stream",
          "text": [
            "Threshold=0. Keeping 18 attributes.\n",
            "\t k=1. f1_micro=0.6911 f1_macro=0.6846\n",
            "\t k=2. f1_micro=0.7352 f1_macro=0.7277\n",
            "\t k=3. f1_micro=0.7058 f1_macro=0.6885\n",
            "\t k=4. f1_micro=0.6764 f1_macro=0.6657\n",
            "\t k=5. f1_micro=0.6617 f1_macro=0.6507\n",
            "\t k=6. f1_micro=0.6323 f1_macro=0.6095\n",
            "\t k=7. f1_micro=0.6470 f1_macro=0.6288\n",
            "\t k=8. f1_micro=0.6764 f1_macro=0.6622\n",
            "\t k=9. f1_micro=0.7058 f1_macro=0.6895\n",
            "\t k=10. f1_micro=0.7058 f1_macro=0.6938\n",
            "\t k=11. f1_micro=0.7205 f1_macro=0.7061\n",
            "\t k=12. f1_micro=0.7352 f1_macro=0.7265\n",
            "\t k=13. f1_micro=0.7352 f1_macro=0.7191\n",
            "\t k=14. f1_micro=0.7352 f1_macro=0.7261\n",
            "\t k=15. f1_micro=0.75 f1_macro=0.7378\n",
            "\t k=16. f1_micro=0.7352 f1_macro=0.7209\n",
            "\t k=17. f1_micro=0.7058 f1_macro=0.6887\n",
            "\t k=18. f1_micro=0.7205 f1_macro=0.7055\n",
            "\t k=19. f1_micro=0.7058 f1_macro=0.6887\n",
            "\t k=20. f1_micro=0.7352 f1_macro=0.7250\n",
            "Threshold=0.01. Keeping 16 attributes.\n",
            "\t k=1. f1_micro=0.6911 f1_macro=0.6846\n",
            "\t k=2. f1_micro=0.7058 f1_macro=0.6979\n",
            "\t k=3. f1_micro=0.6911 f1_macro=0.6686\n",
            "\t k=4. f1_micro=0.6764 f1_macro=0.6672\n",
            "\t k=5. f1_micro=0.6029 f1_macro=0.5877\n",
            "\t k=6. f1_micro=0.6323 f1_macro=0.6164\n",
            "\t k=7. f1_micro=0.6176 f1_macro=0.5943\n",
            "\t k=8. f1_micro=0.6617 f1_macro=0.6464\n",
            "\t k=9. f1_micro=0.6911 f1_macro=0.6700\n",
            "\t k=10. f1_micro=0.7058 f1_macro=0.6938\n",
            "\t k=11. f1_micro=0.6911 f1_macro=0.6775\n",
            "\t k=12. f1_micro=0.75 f1_macro=0.7409\n",
            "\t k=13. f1_micro=0.7205 f1_macro=0.7092\n",
            "\t k=14. f1_micro=0.7352 f1_macro=0.7265\n",
            "\t k=15. f1_micro=0.7352 f1_macro=0.7224\n",
            "\t k=16. f1_micro=0.7205 f1_macro=0.7079\n",
            "\t k=17. f1_micro=0.7058 f1_macro=0.6936\n",
            "\t k=18. f1_micro=0.7058 f1_macro=0.6924\n",
            "\t k=19. f1_micro=0.6911 f1_macro=0.6786\n",
            "\t k=20. f1_micro=0.7352 f1_macro=0.7312\n",
            "Threshold=0.02. Keeping 15 attributes.\n",
            "\t k=1. f1_micro=0.6911 f1_macro=0.6846\n",
            "\t k=2. f1_micro=0.6617 f1_macro=0.6521\n",
            "\t k=3. f1_micro=0.6764 f1_macro=0.6559\n",
            "\t k=4. f1_micro=0.6764 f1_macro=0.6672\n",
            "\t k=5. f1_micro=0.6176 f1_macro=0.6024\n",
            "\t k=6. f1_micro=0.6323 f1_macro=0.6164\n",
            "\t k=7. f1_micro=0.6176 f1_macro=0.5943\n",
            "\t k=8. f1_micro=0.6617 f1_macro=0.6485\n",
            "\t k=9. f1_micro=0.6911 f1_macro=0.6702\n",
            "\t k=10. f1_micro=0.7058 f1_macro=0.6961\n",
            "\t k=11. f1_micro=0.6911 f1_macro=0.6775\n",
            "\t k=12. f1_micro=0.7352 f1_macro=0.7250\n",
            "\t k=13. f1_micro=0.7058 f1_macro=0.6936\n",
            "\t k=14. f1_micro=0.7352 f1_macro=0.7259\n",
            "\t k=15. f1_micro=0.7352 f1_macro=0.7224\n",
            "\t k=16. f1_micro=0.7352 f1_macro=0.7218\n",
            "\t k=17. f1_micro=0.6911 f1_macro=0.6754\n",
            "\t k=18. f1_micro=0.6911 f1_macro=0.6785\n",
            "\t k=19. f1_micro=0.6911 f1_macro=0.6786\n",
            "\t k=20. f1_micro=0.75 f1_macro=0.7412\n",
            "Threshold=0.03. Keeping 13 attributes.\n",
            "\t k=1. f1_micro=0.6911 f1_macro=0.6796\n",
            "\t k=2. f1_micro=0.6323 f1_macro=0.6166\n",
            "\t k=3. f1_micro=0.7205 f1_macro=0.7029\n",
            "\t k=4. f1_micro=0.6617 f1_macro=0.6490\n",
            "\t k=5. f1_micro=0.6323 f1_macro=0.6196\n",
            "\t k=6. f1_micro=0.6323 f1_macro=0.6143\n",
            "\t k=7. f1_micro=0.6617 f1_macro=0.6457\n",
            "\t k=8. f1_micro=0.7058 f1_macro=0.6930\n",
            "\t k=9. f1_micro=0.6764 f1_macro=0.6514\n",
            "\t k=10. f1_micro=0.7058 f1_macro=0.6974\n",
            "\t k=11. f1_micro=0.6911 f1_macro=0.6753\n",
            "\t k=12. f1_micro=0.75 f1_macro=0.7335\n",
            "\t k=13. f1_micro=0.75 f1_macro=0.7353\n",
            "\t k=14. f1_micro=0.7647 f1_macro=0.7575\n",
            "\t k=15. f1_micro=0.7647 f1_macro=0.7535\n",
            "\t k=16. f1_micro=0.7794 f1_macro=0.7730\n",
            "\t k=17. f1_micro=0.7794 f1_macro=0.7731\n",
            "\t k=18. f1_micro=0.7794 f1_macro=0.7731\n",
            "\t k=19. f1_micro=0.7352 f1_macro=0.7211\n",
            "\t k=20. f1_micro=0.7647 f1_macro=0.7546\n",
            "Threshold=0.05. Keeping 2 attributes.\n",
            "\t k=1. f1_micro=0.5 f1_macro=0.4963\n",
            "\t k=2. f1_micro=0.5294 f1_macro=0.4963\n",
            "\t k=3. f1_micro=0.5 f1_macro=0.4841\n",
            "\t k=4. f1_micro=0.5882 f1_macro=0.5726\n",
            "\t k=5. f1_micro=0.5588 f1_macro=0.5534\n",
            "\t k=6. f1_micro=0.5588 f1_macro=0.5532\n",
            "\t k=7. f1_micro=0.5294 f1_macro=0.5254\n",
            "\t k=8. f1_micro=0.5735 f1_macro=0.5629\n",
            "\t k=9. f1_micro=0.6176 f1_macro=0.6100\n",
            "\t k=10. f1_micro=0.5588 f1_macro=0.5533\n",
            "\t k=11. f1_micro=0.5882 f1_macro=0.5813\n",
            "\t k=12. f1_micro=0.5882 f1_macro=0.5840\n",
            "\t k=13. f1_micro=0.6176 f1_macro=0.6102\n",
            "\t k=14. f1_micro=0.5588 f1_macro=0.5527\n",
            "\t k=15. f1_micro=0.5882 f1_macro=0.5811\n",
            "\t k=16. f1_micro=0.5735 f1_macro=0.5714\n",
            "\t k=17. f1_micro=0.5882 f1_macro=0.5855\n",
            "\t k=18. f1_micro=0.5588 f1_macro=0.5506\n",
            "\t k=19. f1_micro=0.6029 f1_macro=0.5797\n",
            "\t k=20. f1_micro=0.5882 f1_macro=0.5752\n",
            "Threshold=0.06. Keeping 1 attributes.\n",
            "\t k=1. f1_micro=0.2794 f1_macro=0.2838\n",
            "\t k=2. f1_micro=0.3676 f1_macro=0.3303\n",
            "\t k=3. f1_micro=0.3088 f1_macro=0.2758\n",
            "\t k=4. f1_micro=0.3382 f1_macro=0.2904\n",
            "\t k=5. f1_micro=0.3382 f1_macro=0.3006\n",
            "\t k=6. f1_micro=0.3529 f1_macro=0.3263\n",
            "\t k=7. f1_micro=0.3676 f1_macro=0.3428\n",
            "\t k=8. f1_micro=0.3676 f1_macro=0.3248\n",
            "\t k=9. f1_micro=0.3823 f1_macro=0.3242\n",
            "\t k=10. f1_micro=0.3970 f1_macro=0.3580\n",
            "\t k=11. f1_micro=0.4117 f1_macro=0.3649\n",
            "\t k=12. f1_micro=0.4117 f1_macro=0.3522\n",
            "\t k=13. f1_micro=0.4117 f1_macro=0.3740\n",
            "\t k=14. f1_micro=0.4411 f1_macro=0.3940\n",
            "\t k=15. f1_micro=0.4117 f1_macro=0.3692\n",
            "\t k=16. f1_micro=0.4411 f1_macro=0.3945\n",
            "\t k=17. f1_micro=0.4264 f1_macro=0.3833\n",
            "\t k=18. f1_micro=0.4264 f1_macro=0.3847\n",
            "\t k=19. f1_micro=0.4117 f1_macro=0.3723\n",
            "\t k=20. f1_micro=0.3970 f1_macro=0.3574\n"
          ],
          "name": "stdout"
        }
      ]
    },
    {
      "cell_type": "code",
      "metadata": {
        "id": "TJLS1T-PPdrY",
        "colab": {
          "base_uri": "https://localhost:8080/",
          "height": 611
        },
        "outputId": "04c90a71-da1f-4a8f-fcc1-e7dcc6773983"
      },
      "source": [
        "colors=['r','g','b','c','m','y']\n",
        "fig, ax = plt.subplots(figsize=(10,10))\n",
        "xax=ks\n",
        "ax.set_xticks(xax)\n",
        "#ax.set_ylim(0,1)\n",
        "ax.set_xticklabels(xax)\n",
        "for i in range(len(f1_micros)):\n",
        "  ax.plot(xax, f1_micros[i],colors[i], label='f1_micro, thd='+str(thds[i]))\n",
        "  ax.plot(xax, f1_macros[i],colors[i]+\"--\", label='f1_macro, thd='+str(thds[i]))\n",
        "plt.legend()"
      ],
      "execution_count": null,
      "outputs": [
        {
          "output_type": "execute_result",
          "data": {
            "text/plain": [
              "<matplotlib.legend.Legend at 0x7eff95c8cfd0>"
            ]
          },
          "metadata": {
            "tags": []
          },
          "execution_count": 28
        },
        {
          "output_type": "display_data",
          "data": {
            "image/png": "[encoded data removed]",
            "text/plain": [
              "<Figure size 720x720 with 1 Axes>"
            ]
          },
          "metadata": {
            "tags": [],
            "needs_background": "light"
          }
        }
      ]
    },
    {
      "cell_type": "code",
      "metadata": {
        "id": "l466UupzRsBj"
      },
      "source": [
        "#Στη συνέχεια κάνουμε την ίδια διαδικασία μέσω της χρήσης pipeline+GridSearchCV\n",
        "#Xρησιμοποιούμε 2 ίδιους estimators με μοναδική διαφορά τη μετρκή απόδοσης.\n",
        "selector=VarianceThreshold()\n",
        "min_max_scaler = preprocessing.MinMaxScaler()\n",
        "knn = KNeighborsClassifier()\n",
        "pipe = Pipeline(steps=[('scaler', min_max_scaler),('selector', selector), ('kNN', knn)])\n",
        "estimator1 = GridSearchCV(pipe, dict(selector__threshold=thds, kNN__n_neighbors=ks), cv=10, scoring='f1_micro', n_jobs=-1)\n",
        "estimator2 = GridSearchCV(pipe, dict(selector__threshold=thds, kNN__n_neighbors=ks), cv=10, scoring='f1_macro', n_jobs=-1)\n",
        "estimator1.fit(train_data, train_labels)\n",
        "estimator2.fit(train_data, train_labels)\n",
        "preds1 = estimator1.predict(test_data)\n",
        "preds2 = estimator2.predict(test_data)"
      ],
      "execution_count": null,
      "outputs": []
    },
    {
      "cell_type": "code",
      "metadata": {
        "id": "h-yqAoU0O8xW",
        "colab": {
          "base_uri": "https://localhost:8080/"
        },
        "outputId": "5a58df40-ad40-43c5-8097-eb0e3d9e8136"
      },
      "source": [
        "print(estimator2.best_estimator_)\n",
        "print(estimator2.best_params_)"
      ],
      "execution_count": null,
      "outputs": [
        {
          "output_type": "stream",
          "text": [
            "Pipeline(memory=None,\n",
            "         steps=[('scaler', MinMaxScaler(copy=True, feature_range=(0, 1))),\n",
            "                ('selector', VarianceThreshold(threshold=0)),\n",
            "                ('kNN',\n",
            "                 KNeighborsClassifier(algorithm='auto', leaf_size=30,\n",
            "                                      metric='minkowski', metric_params=None,\n",
            "                                      n_jobs=None, n_neighbors=3, p=2,\n",
            "                                      weights='uniform'))],\n",
            "         verbose=False)\n",
            "{'kNN__n_neighbors': 3, 'selector__threshold': 0}\n"
          ],
          "name": "stdout"
        }
      ]
    },
    {
      "cell_type": "markdown",
      "metadata": {
        "id": "SsPMP8RHUGFo"
      },
      "source": [
        "Βλέπουμε πως το GridSearchCV προτείνει τις τιμές k=3, thd=0. Οι τιμές αυτές όπως μπορούμε να δούμε από το παραπάνω διάγραμμα δεν είναι οι βέλτιστες, αλλά είναι κοντά στις βέλτιστες. Θα ορίσουμε και έναν τρίτο estimator με τις βέλτιστες τιμές που προκύπτουν από το διάγραμμα, δηλαδή k=11, thd=0.01 και θα συγκρίνουμε τις αποδόσεις των 2 σσυνδυασμών στο test set."
      ]
    },
    {
      "cell_type": "code",
      "metadata": {
        "id": "s53tVmellEnp",
        "colab": {
          "base_uri": "https://localhost:8080/"
        },
        "outputId": "e82f6905-e1f7-4b6f-9404-7c855bfbc8cf"
      },
      "source": [
        "knn_opt_preds = estimator1.best_estimator_.predict(test_data)\n",
        "\n",
        "f1_micro_knn_opt1=precision_recall_fscore_support(test_labels, knn_opt_preds, average='micro')[2]\n",
        "f1_macro_knn_opt1=precision_recall_fscore_support(test_labels, knn_opt_preds, average='macro')[2]\n",
        "\n",
        "print(\"Results of the optimal knn classifier as indicated by the CVGS:\")\n",
        "print(\"f1_micro:\",f1_micro_knn_opt1 ,\"f1_macro:\",f1_macro_knn_opt1)"
      ],
      "execution_count": null,
      "outputs": [
        {
          "output_type": "stream",
          "text": [
            "Results of the optimal knn classifier as indicated by the CVGS:\n",
            "f1_micro: 0.6470588235294118 f1_macro: 0.6419996024647187\n"
          ],
          "name": "stdout"
        }
      ]
    },
    {
      "cell_type": "code",
      "metadata": {
        "id": "kCLOQEDPPOKi",
        "colab": {
          "base_uri": "https://localhost:8080/",
          "height": 1000
        },
        "outputId": "632ce70f-33c8-49c7-ecc1-a3cd5dd9c9b4"
      },
      "source": [
        "estimator3 = GridSearchCV(pipe, dict(selector__threshold=[0.01], kNN__n_neighbors=[11]), cv=10, scoring='f1_micro', n_jobs=-1)\n",
        "estimator3.fit(train_data, train_labels)\n",
        "preds3 = estimator3.predict(test_data)\n",
        "f1_micro_knn_opt3 = precision_recall_fscore_support(test_labels, preds3, average='micro')[2]\n",
        "f1_micro_knn_opt3 = precision_recall_fscore_support(test_labels, preds3, average='macro')[2]\n",
        "\n",
        "print(\"Results of the optimal knn classifier as indicated by the graph results:\")\n",
        "print(\"f1_micro:\",f1_micro_knn_opt3 ,\"f1_macro:\",f1_micro_knn_opt3)"
      ],
      "execution_count": null,
      "outputs": [
        {
          "output_type": "error",
          "ename": "ValueError",
          "evalue": "ignored",
          "traceback": [
            "\u001b[0;31m---------------------------------------------------------------------------\u001b[0m",
            "\u001b[0;31m_RemoteTraceback\u001b[0m                          Traceback (most recent call last)",
            "\u001b[0;31m_RemoteTraceback\u001b[0m: \n\"\"\"\nTraceback (most recent call last):\n  File \"/usr/local/lib/python3.6/dist-packages/joblib/externals/loky/process_executor.py\", line 431, in _process_worker\n    r = call_item()\n  File \"/usr/local/lib/python3.6/dist-packages/joblib/externals/loky/process_executor.py\", line 285, in __call__\n    return self.fn(*self.args, **self.kwargs)\n  File \"/usr/local/lib/python3.6/dist-packages/joblib/_parallel_backends.py\", line 595, in __call__\n    return self.func(*args, **kwargs)\n  File \"/usr/local/lib/python3.6/dist-packages/joblib/parallel.py\", line 263, in __call__\n    for func, args, kwargs in self.items]\n  File \"/usr/local/lib/python3.6/dist-packages/joblib/parallel.py\", line 263, in <listcomp>\n    for func, args, kwargs in self.items]\n  File \"/usr/local/lib/python3.6/dist-packages/sklearn/model_selection/_validation.py\", line 504, in _fit_and_score\n    estimator = estimator.set_params(**cloned_parameters)\n  File \"/usr/local/lib/python3.6/dist-packages/sklearn/pipeline.py\", line 163, in set_params\n    self._set_params('steps', **kwargs)\n  File \"/usr/local/lib/python3.6/dist-packages/sklearn/utils/metaestimators.py\", line 50, in _set_params\n    super().set_params(**params)\n  File \"/usr/local/lib/python3.6/dist-packages/sklearn/base.py\", line 245, in set_params\n    valid_params[key].set_params(**sub_params)\n  File \"/usr/local/lib/python3.6/dist-packages/sklearn/base.py\", line 236, in set_params\n    (key, self))\nValueError: Invalid parameter threshold for estimator PCA(copy=True, iterated_power='auto', n_components=None, random_state=None,\n    svd_solver='auto', tol=0.0, whiten=False). Check the list of available parameters with `estimator.get_params().keys()`.\n\"\"\"",
            "\nThe above exception was the direct cause of the following exception:\n",
            "\u001b[0;31mValueError\u001b[0m                                Traceback (most recent call last)",
            "\u001b[0;32m<ipython-input-57-6dc4e72af697>\u001b[0m in \u001b[0;36m<module>\u001b[0;34m()\u001b[0m\n\u001b[1;32m      1\u001b[0m \u001b[0mestimator3\u001b[0m \u001b[0;34m=\u001b[0m \u001b[0mGridSearchCV\u001b[0m\u001b[0;34m(\u001b[0m\u001b[0mpipe\u001b[0m\u001b[0;34m,\u001b[0m \u001b[0mdict\u001b[0m\u001b[0;34m(\u001b[0m\u001b[0mselector__threshold\u001b[0m\u001b[0;34m=\u001b[0m\u001b[0;34m[\u001b[0m\u001b[0;36m0.01\u001b[0m\u001b[0;34m]\u001b[0m\u001b[0;34m,\u001b[0m \u001b[0mkNN__n_neighbors\u001b[0m\u001b[0;34m=\u001b[0m\u001b[0;34m[\u001b[0m\u001b[0;36m11\u001b[0m\u001b[0;34m]\u001b[0m\u001b[0;34m)\u001b[0m\u001b[0;34m,\u001b[0m \u001b[0mcv\u001b[0m\u001b[0;34m=\u001b[0m\u001b[0;36m10\u001b[0m\u001b[0;34m,\u001b[0m \u001b[0mscoring\u001b[0m\u001b[0;34m=\u001b[0m\u001b[0;34m'f1_micro'\u001b[0m\u001b[0;34m,\u001b[0m \u001b[0mn_jobs\u001b[0m\u001b[0;34m=\u001b[0m\u001b[0;34m-\u001b[0m\u001b[0;36m1\u001b[0m\u001b[0;34m)\u001b[0m\u001b[0;34m\u001b[0m\u001b[0;34m\u001b[0m\u001b[0m\n\u001b[0;32m----> 2\u001b[0;31m \u001b[0mestimator3\u001b[0m\u001b[0;34m.\u001b[0m\u001b[0mfit\u001b[0m\u001b[0;34m(\u001b[0m\u001b[0mtrain_data\u001b[0m\u001b[0;34m,\u001b[0m \u001b[0mtrain_labels\u001b[0m\u001b[0;34m)\u001b[0m\u001b[0;34m\u001b[0m\u001b[0;34m\u001b[0m\u001b[0m\n\u001b[0m\u001b[1;32m      3\u001b[0m \u001b[0mpreds3\u001b[0m \u001b[0;34m=\u001b[0m \u001b[0mestimator3\u001b[0m\u001b[0;34m.\u001b[0m\u001b[0mpredict\u001b[0m\u001b[0;34m(\u001b[0m\u001b[0mtest_data\u001b[0m\u001b[0;34m)\u001b[0m\u001b[0;34m\u001b[0m\u001b[0;34m\u001b[0m\u001b[0m\n\u001b[1;32m      4\u001b[0m \u001b[0mf1_micro_knn_opt3\u001b[0m \u001b[0;34m=\u001b[0m \u001b[0mprecision_recall_fscore_support\u001b[0m\u001b[0;34m(\u001b[0m\u001b[0mtest_labels\u001b[0m\u001b[0;34m,\u001b[0m \u001b[0mpreds3\u001b[0m\u001b[0;34m,\u001b[0m \u001b[0maverage\u001b[0m\u001b[0;34m=\u001b[0m\u001b[0;34m'micro'\u001b[0m\u001b[0;34m)\u001b[0m\u001b[0;34m[\u001b[0m\u001b[0;36m2\u001b[0m\u001b[0;34m]\u001b[0m\u001b[0;34m\u001b[0m\u001b[0;34m\u001b[0m\u001b[0m\n\u001b[1;32m      5\u001b[0m \u001b[0mf1_micro_knn_opt3\u001b[0m \u001b[0;34m=\u001b[0m \u001b[0mprecision_recall_fscore_support\u001b[0m\u001b[0;34m(\u001b[0m\u001b[0mtest_labels\u001b[0m\u001b[0;34m,\u001b[0m \u001b[0mpreds3\u001b[0m\u001b[0;34m,\u001b[0m \u001b[0maverage\u001b[0m\u001b[0;34m=\u001b[0m\u001b[0;34m'macro'\u001b[0m\u001b[0;34m)\u001b[0m\u001b[0;34m[\u001b[0m\u001b[0;36m2\u001b[0m\u001b[0;34m]\u001b[0m\u001b[0;34m\u001b[0m\u001b[0;34m\u001b[0m\u001b[0m\n",
            "\u001b[0;32m/usr/local/lib/python3.6/dist-packages/sklearn/model_selection/_search.py\u001b[0m in \u001b[0;36mfit\u001b[0;34m(self, X, y, groups, **fit_params)\u001b[0m\n\u001b[1;32m    708\u001b[0m                 \u001b[0;32mreturn\u001b[0m \u001b[0mresults\u001b[0m\u001b[0;34m\u001b[0m\u001b[0;34m\u001b[0m\u001b[0m\n\u001b[1;32m    709\u001b[0m \u001b[0;34m\u001b[0m\u001b[0m\n\u001b[0;32m--> 710\u001b[0;31m             \u001b[0mself\u001b[0m\u001b[0;34m.\u001b[0m\u001b[0m_run_search\u001b[0m\u001b[0;34m(\u001b[0m\u001b[0mevaluate_candidates\u001b[0m\u001b[0;34m)\u001b[0m\u001b[0;34m\u001b[0m\u001b[0;34m\u001b[0m\u001b[0m\n\u001b[0m\u001b[1;32m    711\u001b[0m \u001b[0;34m\u001b[0m\u001b[0m\n\u001b[1;32m    712\u001b[0m         \u001b[0;31m# For multi-metric evaluation, store the best_index_, best_params_ and\u001b[0m\u001b[0;34m\u001b[0m\u001b[0;34m\u001b[0m\u001b[0;34m\u001b[0m\u001b[0m\n",
            "\u001b[0;32m/usr/local/lib/python3.6/dist-packages/sklearn/model_selection/_search.py\u001b[0m in \u001b[0;36m_run_search\u001b[0;34m(self, evaluate_candidates)\u001b[0m\n\u001b[1;32m   1149\u001b[0m     \u001b[0;32mdef\u001b[0m \u001b[0m_run_search\u001b[0m\u001b[0;34m(\u001b[0m\u001b[0mself\u001b[0m\u001b[0;34m,\u001b[0m \u001b[0mevaluate_candidates\u001b[0m\u001b[0;34m)\u001b[0m\u001b[0;34m:\u001b[0m\u001b[0;34m\u001b[0m\u001b[0;34m\u001b[0m\u001b[0m\n\u001b[1;32m   1150\u001b[0m         \u001b[0;34m\"\"\"Search all candidates in param_grid\"\"\"\u001b[0m\u001b[0;34m\u001b[0m\u001b[0;34m\u001b[0m\u001b[0m\n\u001b[0;32m-> 1151\u001b[0;31m         \u001b[0mevaluate_candidates\u001b[0m\u001b[0;34m(\u001b[0m\u001b[0mParameterGrid\u001b[0m\u001b[0;34m(\u001b[0m\u001b[0mself\u001b[0m\u001b[0;34m.\u001b[0m\u001b[0mparam_grid\u001b[0m\u001b[0;34m)\u001b[0m\u001b[0;34m)\u001b[0m\u001b[0;34m\u001b[0m\u001b[0;34m\u001b[0m\u001b[0m\n\u001b[0m\u001b[1;32m   1152\u001b[0m \u001b[0;34m\u001b[0m\u001b[0m\n\u001b[1;32m   1153\u001b[0m \u001b[0;34m\u001b[0m\u001b[0m\n",
            "\u001b[0;32m/usr/local/lib/python3.6/dist-packages/sklearn/model_selection/_search.py\u001b[0m in \u001b[0;36mevaluate_candidates\u001b[0;34m(candidate_params)\u001b[0m\n\u001b[1;32m    687\u001b[0m                                \u001b[0;32mfor\u001b[0m \u001b[0mparameters\u001b[0m\u001b[0;34m,\u001b[0m \u001b[0;34m(\u001b[0m\u001b[0mtrain\u001b[0m\u001b[0;34m,\u001b[0m \u001b[0mtest\u001b[0m\u001b[0;34m)\u001b[0m\u001b[0;34m\u001b[0m\u001b[0;34m\u001b[0m\u001b[0m\n\u001b[1;32m    688\u001b[0m                                in product(candidate_params,\n\u001b[0;32m--> 689\u001b[0;31m                                           cv.split(X, y, groups)))\n\u001b[0m\u001b[1;32m    690\u001b[0m \u001b[0;34m\u001b[0m\u001b[0m\n\u001b[1;32m    691\u001b[0m                 \u001b[0;32mif\u001b[0m \u001b[0mlen\u001b[0m\u001b[0;34m(\u001b[0m\u001b[0mout\u001b[0m\u001b[0;34m)\u001b[0m \u001b[0;34m<\u001b[0m \u001b[0;36m1\u001b[0m\u001b[0;34m:\u001b[0m\u001b[0;34m\u001b[0m\u001b[0;34m\u001b[0m\u001b[0m\n",
            "\u001b[0;32m/usr/local/lib/python3.6/dist-packages/joblib/parallel.py\u001b[0m in \u001b[0;36m__call__\u001b[0;34m(self, iterable)\u001b[0m\n\u001b[1;32m   1059\u001b[0m \u001b[0;34m\u001b[0m\u001b[0m\n\u001b[1;32m   1060\u001b[0m             \u001b[0;32mwith\u001b[0m \u001b[0mself\u001b[0m\u001b[0;34m.\u001b[0m\u001b[0m_backend\u001b[0m\u001b[0;34m.\u001b[0m\u001b[0mretrieval_context\u001b[0m\u001b[0;34m(\u001b[0m\u001b[0;34m)\u001b[0m\u001b[0;34m:\u001b[0m\u001b[0;34m\u001b[0m\u001b[0;34m\u001b[0m\u001b[0m\n\u001b[0;32m-> 1061\u001b[0;31m                 \u001b[0mself\u001b[0m\u001b[0;34m.\u001b[0m\u001b[0mretrieve\u001b[0m\u001b[0;34m(\u001b[0m\u001b[0;34m)\u001b[0m\u001b[0;34m\u001b[0m\u001b[0;34m\u001b[0m\u001b[0m\n\u001b[0m\u001b[1;32m   1062\u001b[0m             \u001b[0;31m# Make sure that we get a last message telling us we are done\u001b[0m\u001b[0;34m\u001b[0m\u001b[0;34m\u001b[0m\u001b[0;34m\u001b[0m\u001b[0m\n\u001b[1;32m   1063\u001b[0m             \u001b[0melapsed_time\u001b[0m \u001b[0;34m=\u001b[0m \u001b[0mtime\u001b[0m\u001b[0;34m.\u001b[0m\u001b[0mtime\u001b[0m\u001b[0;34m(\u001b[0m\u001b[0;34m)\u001b[0m \u001b[0;34m-\u001b[0m \u001b[0mself\u001b[0m\u001b[0;34m.\u001b[0m\u001b[0m_start_time\u001b[0m\u001b[0;34m\u001b[0m\u001b[0;34m\u001b[0m\u001b[0m\n",
            "\u001b[0;32m/usr/local/lib/python3.6/dist-packages/joblib/parallel.py\u001b[0m in \u001b[0;36mretrieve\u001b[0;34m(self)\u001b[0m\n\u001b[1;32m    938\u001b[0m             \u001b[0;32mtry\u001b[0m\u001b[0;34m:\u001b[0m\u001b[0;34m\u001b[0m\u001b[0;34m\u001b[0m\u001b[0m\n\u001b[1;32m    939\u001b[0m                 \u001b[0;32mif\u001b[0m \u001b[0mgetattr\u001b[0m\u001b[0;34m(\u001b[0m\u001b[0mself\u001b[0m\u001b[0;34m.\u001b[0m\u001b[0m_backend\u001b[0m\u001b[0;34m,\u001b[0m \u001b[0;34m'supports_timeout'\u001b[0m\u001b[0;34m,\u001b[0m \u001b[0;32mFalse\u001b[0m\u001b[0;34m)\u001b[0m\u001b[0;34m:\u001b[0m\u001b[0;34m\u001b[0m\u001b[0;34m\u001b[0m\u001b[0m\n\u001b[0;32m--> 940\u001b[0;31m                     \u001b[0mself\u001b[0m\u001b[0;34m.\u001b[0m\u001b[0m_output\u001b[0m\u001b[0;34m.\u001b[0m\u001b[0mextend\u001b[0m\u001b[0;34m(\u001b[0m\u001b[0mjob\u001b[0m\u001b[0;34m.\u001b[0m\u001b[0mget\u001b[0m\u001b[0;34m(\u001b[0m\u001b[0mtimeout\u001b[0m\u001b[0;34m=\u001b[0m\u001b[0mself\u001b[0m\u001b[0;34m.\u001b[0m\u001b[0mtimeout\u001b[0m\u001b[0;34m)\u001b[0m\u001b[0;34m)\u001b[0m\u001b[0;34m\u001b[0m\u001b[0;34m\u001b[0m\u001b[0m\n\u001b[0m\u001b[1;32m    941\u001b[0m                 \u001b[0;32melse\u001b[0m\u001b[0;34m:\u001b[0m\u001b[0;34m\u001b[0m\u001b[0;34m\u001b[0m\u001b[0m\n\u001b[1;32m    942\u001b[0m                     \u001b[0mself\u001b[0m\u001b[0;34m.\u001b[0m\u001b[0m_output\u001b[0m\u001b[0;34m.\u001b[0m\u001b[0mextend\u001b[0m\u001b[0;34m(\u001b[0m\u001b[0mjob\u001b[0m\u001b[0;34m.\u001b[0m\u001b[0mget\u001b[0m\u001b[0;34m(\u001b[0m\u001b[0;34m)\u001b[0m\u001b[0;34m)\u001b[0m\u001b[0;34m\u001b[0m\u001b[0;34m\u001b[0m\u001b[0m\n",
            "\u001b[0;32m/usr/local/lib/python3.6/dist-packages/joblib/_parallel_backends.py\u001b[0m in \u001b[0;36mwrap_future_result\u001b[0;34m(future, timeout)\u001b[0m\n\u001b[1;32m    540\u001b[0m         AsyncResults.get from multiprocessing.\"\"\"\n\u001b[1;32m    541\u001b[0m         \u001b[0;32mtry\u001b[0m\u001b[0;34m:\u001b[0m\u001b[0;34m\u001b[0m\u001b[0;34m\u001b[0m\u001b[0m\n\u001b[0;32m--> 542\u001b[0;31m             \u001b[0;32mreturn\u001b[0m \u001b[0mfuture\u001b[0m\u001b[0;34m.\u001b[0m\u001b[0mresult\u001b[0m\u001b[0;34m(\u001b[0m\u001b[0mtimeout\u001b[0m\u001b[0;34m=\u001b[0m\u001b[0mtimeout\u001b[0m\u001b[0;34m)\u001b[0m\u001b[0;34m\u001b[0m\u001b[0;34m\u001b[0m\u001b[0m\n\u001b[0m\u001b[1;32m    543\u001b[0m         \u001b[0;32mexcept\u001b[0m \u001b[0mCfTimeoutError\u001b[0m \u001b[0;32mas\u001b[0m \u001b[0me\u001b[0m\u001b[0;34m:\u001b[0m\u001b[0;34m\u001b[0m\u001b[0;34m\u001b[0m\u001b[0m\n\u001b[1;32m    544\u001b[0m             \u001b[0;32mraise\u001b[0m \u001b[0mTimeoutError\u001b[0m \u001b[0;32mfrom\u001b[0m \u001b[0me\u001b[0m\u001b[0;34m\u001b[0m\u001b[0;34m\u001b[0m\u001b[0m\n",
            "\u001b[0;32m/usr/lib/python3.6/concurrent/futures/_base.py\u001b[0m in \u001b[0;36mresult\u001b[0;34m(self, timeout)\u001b[0m\n\u001b[1;32m    430\u001b[0m                 \u001b[0;32mraise\u001b[0m \u001b[0mCancelledError\u001b[0m\u001b[0;34m(\u001b[0m\u001b[0;34m)\u001b[0m\u001b[0;34m\u001b[0m\u001b[0;34m\u001b[0m\u001b[0m\n\u001b[1;32m    431\u001b[0m             \u001b[0;32melif\u001b[0m \u001b[0mself\u001b[0m\u001b[0;34m.\u001b[0m\u001b[0m_state\u001b[0m \u001b[0;34m==\u001b[0m \u001b[0mFINISHED\u001b[0m\u001b[0;34m:\u001b[0m\u001b[0;34m\u001b[0m\u001b[0;34m\u001b[0m\u001b[0m\n\u001b[0;32m--> 432\u001b[0;31m                 \u001b[0;32mreturn\u001b[0m \u001b[0mself\u001b[0m\u001b[0;34m.\u001b[0m\u001b[0m__get_result\u001b[0m\u001b[0;34m(\u001b[0m\u001b[0;34m)\u001b[0m\u001b[0;34m\u001b[0m\u001b[0;34m\u001b[0m\u001b[0m\n\u001b[0m\u001b[1;32m    433\u001b[0m             \u001b[0;32melse\u001b[0m\u001b[0;34m:\u001b[0m\u001b[0;34m\u001b[0m\u001b[0;34m\u001b[0m\u001b[0m\n\u001b[1;32m    434\u001b[0m                 \u001b[0;32mraise\u001b[0m \u001b[0mTimeoutError\u001b[0m\u001b[0;34m(\u001b[0m\u001b[0;34m)\u001b[0m\u001b[0;34m\u001b[0m\u001b[0;34m\u001b[0m\u001b[0m\n",
            "\u001b[0;32m/usr/lib/python3.6/concurrent/futures/_base.py\u001b[0m in \u001b[0;36m__get_result\u001b[0;34m(self)\u001b[0m\n\u001b[1;32m    382\u001b[0m     \u001b[0;32mdef\u001b[0m \u001b[0m__get_result\u001b[0m\u001b[0;34m(\u001b[0m\u001b[0mself\u001b[0m\u001b[0;34m)\u001b[0m\u001b[0;34m:\u001b[0m\u001b[0;34m\u001b[0m\u001b[0;34m\u001b[0m\u001b[0m\n\u001b[1;32m    383\u001b[0m         \u001b[0;32mif\u001b[0m \u001b[0mself\u001b[0m\u001b[0;34m.\u001b[0m\u001b[0m_exception\u001b[0m\u001b[0;34m:\u001b[0m\u001b[0;34m\u001b[0m\u001b[0;34m\u001b[0m\u001b[0m\n\u001b[0;32m--> 384\u001b[0;31m             \u001b[0;32mraise\u001b[0m \u001b[0mself\u001b[0m\u001b[0;34m.\u001b[0m\u001b[0m_exception\u001b[0m\u001b[0;34m\u001b[0m\u001b[0;34m\u001b[0m\u001b[0m\n\u001b[0m\u001b[1;32m    385\u001b[0m         \u001b[0;32melse\u001b[0m\u001b[0;34m:\u001b[0m\u001b[0;34m\u001b[0m\u001b[0;34m\u001b[0m\u001b[0m\n\u001b[1;32m    386\u001b[0m             \u001b[0;32mreturn\u001b[0m \u001b[0mself\u001b[0m\u001b[0;34m.\u001b[0m\u001b[0m_result\u001b[0m\u001b[0;34m\u001b[0m\u001b[0;34m\u001b[0m\u001b[0m\n",
            "\u001b[0;31mValueError\u001b[0m: Invalid parameter threshold for estimator PCA(copy=True, iterated_power='auto', n_components=None, random_state=None,\n    svd_solver='auto', tol=0.0, whiten=False). Check the list of available parameters with `estimator.get_params().keys()`."
          ]
        }
      ]
    },
    {
      "cell_type": "markdown",
      "metadata": {
        "id": "obUcVa_wVM7l"
      },
      "source": [
        "Όπως βλέπουμε, το ζεύγος των υπερπαραμέτρων που πρότεινε το GSCV δεν είναι το βέλτιστο, αλλά είναι κοντά στο βέλτιστο. Δεν ισχυριζόμαστε πως το ζεύγος k=11, thd=0.01 είναι αναγκαία το βέλτιστο, αλλά φαίνεται πως είχε καλύτερα αποτελέσματα στο test set. Παρ όλα αυτά, σε κάθε περίπτωση η βελτίωση είναι ασήμαντη μιας και το αρχικό accuracy του kNN ήταν έτσι κι αλλιώς κοντά στο 60%"
      ]
    },
    {
      "cell_type": "markdown",
      "metadata": {
        "id": "u2kwhdeX0yaB"
      },
      "source": [
        "**ΔΟΚΙΜΗ 1.5**"
      ]
    },
    {
      "cell_type": "code",
      "metadata": {
        "colab": {
          "base_uri": "https://localhost:8080/"
        },
        "id": "srxouWHBzOwS",
        "outputId": "ae0ad2d8-a589-4a92-90f3-e4c7e1daa298"
      },
      "source": [
        "thds=[0, 50, 80, 100, 150, 500]\n",
        "kappas = [10, 20, 30, 40, 50, 60, 70, 80]\n",
        "\n",
        "selector=VarianceThreshold()\n",
        "knn = KNeighborsClassifier()\n",
        "pipe = Pipeline(steps=[('selector', selector), ('kNN', knn)])\n",
        "estimator1 = GridSearchCV(pipe, dict(selector__threshold=thds, kNN__n_neighbors=kappas), cv=10, scoring='f1_micro', n_jobs=-1)\n",
        "estimator2 = GridSearchCV(pipe, dict(selector__threshold=thds, kNN__n_neighbors=kappas), cv=10, scoring='f1_macro', n_jobs=-1)\n",
        "estimator1.fit(train_data, train_labels)\n",
        "estimator2.fit(train_data, train_labels)\n",
        "preds1 = estimator1.predict(test_data)\n",
        "preds2 = estimator2.predict(test_data)\n",
        "\n",
        "print(estimator1.best_estimator_)\n",
        "print(estimator1.best_params_)"
      ],
      "execution_count": null,
      "outputs": [
        {
          "output_type": "stream",
          "text": [
            "Pipeline(memory=None,\n",
            "         steps=[('selector', VarianceThreshold(threshold=50)),\n",
            "                ('kNN',\n",
            "                 KNeighborsClassifier(algorithm='auto', leaf_size=30,\n",
            "                                      metric='minkowski', metric_params=None,\n",
            "                                      n_jobs=None, n_neighbors=20, p=2,\n",
            "                                      weights='uniform'))],\n",
            "         verbose=False)\n",
            "{'kNN__n_neighbors': 20, 'selector__threshold': 50}\n"
          ],
          "name": "stdout"
        }
      ]
    },
    {
      "cell_type": "code",
      "metadata": {
        "colab": {
          "base_uri": "https://localhost:8080/"
        },
        "id": "ZIXLJWEM1Bh8",
        "outputId": "835b2d16-5668-478c-f475-20c7bd1dc0a0"
      },
      "source": [
        "kappas = [15,16,17,18,19,20,21,22,23,24,25]\n",
        "thds = [45, 47, 49, 50, 51, 53, 55]\n",
        "\n",
        "pipe = Pipeline(steps=[('selector', selector), ('kNN', knn)])\n",
        "estimator1 = GridSearchCV(pipe, dict(selector__threshold=thds, kNN__n_neighbors=kappas), cv=10, scoring='f1_micro', n_jobs=-1)\n",
        "estimator2 = GridSearchCV(pipe, dict(selector__threshold=thds, kNN__n_neighbors=kappas), cv=10, scoring='f1_macro', n_jobs=-1)\n",
        "estimator1.fit(train_data, train_labels)\n",
        "estimator2.fit(train_data, train_labels)\n",
        "preds1 = estimator1.predict(test_data)\n",
        "preds2 = estimator2.predict(test_data)\n",
        "\n",
        "print(estimator1.best_estimator_)\n",
        "print(estimator1.best_params_)\n",
        "\n",
        "print(estimator2.best_estimator_)\n",
        "print(estimator2.best_params_)"
      ],
      "execution_count": null,
      "outputs": [
        {
          "output_type": "stream",
          "text": [
            "Pipeline(memory=None,\n",
            "         steps=[('selector', VarianceThreshold(threshold=45)),\n",
            "                ('kNN',\n",
            "                 KNeighborsClassifier(algorithm='auto', leaf_size=30,\n",
            "                                      metric='minkowski', metric_params=None,\n",
            "                                      n_jobs=None, n_neighbors=19, p=2,\n",
            "                                      weights='uniform'))],\n",
            "         verbose=False)\n",
            "{'kNN__n_neighbors': 19, 'selector__threshold': 45}\n",
            "Pipeline(memory=None,\n",
            "         steps=[('selector', VarianceThreshold(threshold=45)),\n",
            "                ('kNN',\n",
            "                 KNeighborsClassifier(algorithm='auto', leaf_size=30,\n",
            "                                      metric='minkowski', metric_params=None,\n",
            "                                      n_jobs=None, n_neighbors=19, p=2,\n",
            "                                      weights='uniform'))],\n",
            "         verbose=False)\n",
            "{'kNN__n_neighbors': 19, 'selector__threshold': 45}\n"
          ],
          "name": "stdout"
        }
      ]
    },
    {
      "cell_type": "code",
      "metadata": {
        "colab": {
          "base_uri": "https://localhost:8080/"
        },
        "id": "Z1ovAYXDzLoW",
        "outputId": "3be7ae3f-407c-4dc6-fc9e-d3a16b886839"
      },
      "source": [
        "knn_opt_preds = estimator1.best_estimator_.predict(test_data)\n",
        "\n",
        "f1_micro_knn_opt1=precision_recall_fscore_support(test_labels, knn_opt_preds, average='micro')[2]\n",
        "f1_macro_knn_opt1=precision_recall_fscore_support(test_labels, knn_opt_preds, average='macro')[2]\n",
        "\n",
        "print(\"Results of the optimal knn classifier as indicated by the CVGS:\")\n",
        "print(\"f1_micro:\",f1_micro_knn_opt1 ,\"f1_macro:\",f1_macro_knn_opt1)"
      ],
      "execution_count": null,
      "outputs": [
        {
          "output_type": "stream",
          "text": [
            "Results of the optimal knn classifier as indicated by the CVGS:\n",
            "f1_micro: 0.5705882352941176 f1_macro: 0.5610224023974335\n"
          ],
          "name": "stdout"
        }
      ]
    },
    {
      "cell_type": "markdown",
      "metadata": {
        "id": "YyADXu0qlhwN"
      },
      "source": [
        "#####**ΔΟΚΙΜΗ 2: Μείωση της διαστατικότητας με τη μέθοδο PCA**\n",
        "Εδώ δε θα κάνουμε κάποια κανονικοποίηση στις τιμές των δεδομένων και θα δούμε πώς επιδρά η PCA στην απόδοση του kNN. Δοκιμάζουμε τους εξής συνδυασμούς:    \n",
        "- $k \\in(1,20)$ \n",
        "- $n_{attributes} \\in (4,18)$"
      ]
    },
    {
      "cell_type": "code",
      "metadata": {
        "id": "Tgl1QcZcYwX9",
        "colab": {
          "base_uri": "https://localhost:8080/"
        },
        "outputId": "8601314e-0798-42c2-de76-fa9b8132a9ec"
      },
      "source": [
        "#Aρχικά κάνουμε τη διαδικασία χειροκίνητα\n",
        "\n",
        "f1_micros=[]\n",
        "f1_macros=[]\n",
        "\n",
        "n = list(range(4,19,2))\n",
        "ks = list(range(1,21)) #Θα μπορούσαμε να πάρουμε μόνο τα περιττά k, αλλά έχουμε 4 κλάσεις, όχι 2 οπότε οι ισοπαλίες δε θα είναι συχνές.\n",
        "\n",
        "for nu in n:\n",
        "  pca = PCA(n_components=nu)\n",
        "  train_data_pca = pca.fit_transform(train_data)\n",
        "  print(\"n=\"+str(nu)+\". \"+str(nu)+\" attributes.\")\n",
        "\n",
        "  nu_f1_micros=[]\n",
        "  nu_f1_macros=[]\n",
        "\n",
        "  for k in ks:\n",
        "    knn_opt = KNeighborsClassifier(n_neighbors=k)\n",
        "    f1_micro = cross_val_score(knn_opt, train_data_pca, train_labels, cv=10, scoring='f1_micro')[2]\n",
        "    f1_macro = cross_val_score(knn_opt, train_data_pca, train_labels, cv=10, scoring='f1_macro')[2]\n",
        "    print(\"\\t k=\"+str(k)+\". f1_micro=\"+str(f1_micro)[:6]+\" f1_macro=\"+str(f1_macro)[:6])\n",
        "    nu_f1_micros.append(f1_micro)\n",
        "    nu_f1_macros.append(f1_macro)\n",
        "  \n",
        "  f1_micros.append(nu_f1_micros)\n",
        "  f1_macros.append(nu_f1_macros)"
      ],
      "execution_count": null,
      "outputs": [
        {
          "output_type": "stream",
          "text": [
            "n=4. 4 attributes.\n",
            "\t k=1. f1_micro=0.5588 f1_macro=0.5496\n",
            "\t k=2. f1_micro=0.5441 f1_macro=0.5374\n",
            "\t k=3. f1_micro=0.6764 f1_macro=0.6635\n",
            "\t k=4. f1_micro=0.6176 f1_macro=0.6074\n",
            "\t k=5. f1_micro=0.6617 f1_macro=0.6440\n",
            "\t k=6. f1_micro=0.6911 f1_macro=0.6799\n",
            "\t k=7. f1_micro=0.7205 f1_macro=0.7088\n",
            "\t k=8. f1_micro=0.6617 f1_macro=0.6513\n",
            "\t k=9. f1_micro=0.6470 f1_macro=0.6341\n",
            "\t k=10. f1_micro=0.7058 f1_macro=0.6948\n",
            "\t k=11. f1_micro=0.6911 f1_macro=0.6805\n",
            "\t k=12. f1_micro=0.7058 f1_macro=0.6956\n",
            "\t k=13. f1_micro=0.6617 f1_macro=0.6429\n",
            "\t k=14. f1_micro=0.6323 f1_macro=0.6077\n",
            "\t k=15. f1_micro=0.6470 f1_macro=0.6211\n",
            "\t k=16. f1_micro=0.6617 f1_macro=0.6421\n",
            "\t k=17. f1_micro=0.6911 f1_macro=0.6671\n",
            "\t k=18. f1_micro=0.6617 f1_macro=0.6398\n",
            "\t k=19. f1_micro=0.6323 f1_macro=0.6120\n",
            "\t k=20. f1_micro=0.6617 f1_macro=0.6407\n",
            "n=6. 6 attributes.\n",
            "\t k=1. f1_micro=0.6176 f1_macro=0.6154\n",
            "\t k=2. f1_micro=0.6323 f1_macro=0.6184\n",
            "\t k=3. f1_micro=0.7205 f1_macro=0.7054\n",
            "\t k=4. f1_micro=0.6911 f1_macro=0.6835\n",
            "\t k=5. f1_micro=0.6764 f1_macro=0.6613\n",
            "\t k=6. f1_micro=0.6911 f1_macro=0.6799\n",
            "\t k=7. f1_micro=0.6617 f1_macro=0.6492\n",
            "\t k=8. f1_micro=0.6911 f1_macro=0.6799\n",
            "\t k=9. f1_micro=0.6764 f1_macro=0.6616\n",
            "\t k=10. f1_micro=0.7205 f1_macro=0.7088\n",
            "\t k=11. f1_micro=0.7058 f1_macro=0.6850\n",
            "\t k=12. f1_micro=0.7352 f1_macro=0.7191\n",
            "\t k=13. f1_micro=0.6911 f1_macro=0.6647\n",
            "\t k=14. f1_micro=0.6911 f1_macro=0.6610\n",
            "\t k=15. f1_micro=0.7058 f1_macro=0.6819\n",
            "\t k=16. f1_micro=0.7058 f1_macro=0.6830\n",
            "\t k=17. f1_micro=0.7058 f1_macro=0.6809\n",
            "\t k=18. f1_micro=0.7058 f1_macro=0.6816\n",
            "\t k=19. f1_micro=0.7205 f1_macro=0.6948\n",
            "\t k=20. f1_micro=0.7205 f1_macro=0.6927\n",
            "n=8. 8 attributes.\n",
            "\t k=1. f1_micro=0.5882 f1_macro=0.5793\n",
            "\t k=2. f1_micro=0.6029 f1_macro=0.5848\n",
            "\t k=3. f1_micro=0.6617 f1_macro=0.6482\n",
            "\t k=4. f1_micro=0.6323 f1_macro=0.6221\n",
            "\t k=5. f1_micro=0.6470 f1_macro=0.6305\n",
            "\t k=6. f1_micro=0.6911 f1_macro=0.6794\n",
            "\t k=7. f1_micro=0.6470 f1_macro=0.6331\n",
            "\t k=8. f1_micro=0.7205 f1_macro=0.7088\n",
            "\t k=9. f1_micro=0.7352 f1_macro=0.7231\n",
            "\t k=10. f1_micro=0.75 f1_macro=0.7427\n",
            "\t k=11. f1_micro=0.7058 f1_macro=0.6910\n",
            "\t k=12. f1_micro=0.7058 f1_macro=0.6897\n",
            "\t k=13. f1_micro=0.7058 f1_macro=0.6846\n",
            "\t k=14. f1_micro=0.7205 f1_macro=0.6962\n",
            "\t k=15. f1_micro=0.7058 f1_macro=0.6820\n",
            "\t k=16. f1_micro=0.7058 f1_macro=0.6819\n",
            "\t k=17. f1_micro=0.7352 f1_macro=0.7142\n",
            "\t k=18. f1_micro=0.7352 f1_macro=0.7076\n",
            "\t k=19. f1_micro=0.7352 f1_macro=0.7063\n",
            "\t k=20. f1_micro=0.7352 f1_macro=0.7094\n",
            "n=10. 10 attributes.\n",
            "\t k=1. f1_micro=0.6323 f1_macro=0.6195\n",
            "\t k=2. f1_micro=0.6176 f1_macro=0.6054\n",
            "\t k=3. f1_micro=0.6911 f1_macro=0.6792\n",
            "\t k=4. f1_micro=0.6764 f1_macro=0.6674\n",
            "\t k=5. f1_micro=0.7058 f1_macro=0.6902\n",
            "\t k=6. f1_micro=0.6911 f1_macro=0.6791\n",
            "\t k=7. f1_micro=0.7058 f1_macro=0.6944\n",
            "\t k=8. f1_micro=0.7352 f1_macro=0.7228\n",
            "\t k=9. f1_micro=0.75 f1_macro=0.7371\n",
            "\t k=10. f1_micro=0.7205 f1_macro=0.7095\n",
            "\t k=11. f1_micro=0.7058 f1_macro=0.6910\n",
            "\t k=12. f1_micro=0.7205 f1_macro=0.7035\n",
            "\t k=13. f1_micro=0.7205 f1_macro=0.7024\n",
            "\t k=14. f1_micro=0.7058 f1_macro=0.6846\n",
            "\t k=15. f1_micro=0.6911 f1_macro=0.6695\n",
            "\t k=16. f1_micro=0.7352 f1_macro=0.7095\n",
            "\t k=17. f1_micro=0.7352 f1_macro=0.7076\n",
            "\t k=18. f1_micro=0.7352 f1_macro=0.7076\n",
            "\t k=19. f1_micro=0.7058 f1_macro=0.6708\n",
            "\t k=20. f1_micro=0.7205 f1_macro=0.6864\n",
            "n=12. 12 attributes.\n",
            "\t k=1. f1_micro=0.6176 f1_macro=0.6057\n",
            "\t k=2. f1_micro=0.6176 f1_macro=0.6054\n",
            "\t k=3. f1_micro=0.6911 f1_macro=0.6792\n",
            "\t k=4. f1_micro=0.6764 f1_macro=0.6674\n",
            "\t k=5. f1_micro=0.7058 f1_macro=0.6870\n",
            "\t k=6. f1_micro=0.6764 f1_macro=0.6644\n",
            "\t k=7. f1_micro=0.7058 f1_macro=0.6944\n",
            "\t k=8. f1_micro=0.7352 f1_macro=0.7228\n",
            "\t k=9. f1_micro=0.75 f1_macro=0.7371\n",
            "\t k=10. f1_micro=0.7352 f1_macro=0.7237\n",
            "\t k=11. f1_micro=0.7352 f1_macro=0.7179\n",
            "\t k=12. f1_micro=0.7352 f1_macro=0.7170\n",
            "\t k=13. f1_micro=0.7058 f1_macro=0.6830\n",
            "\t k=14. f1_micro=0.6911 f1_macro=0.6700\n",
            "\t k=15. f1_micro=0.6911 f1_macro=0.6695\n",
            "\t k=16. f1_micro=0.7058 f1_macro=0.6830\n",
            "\t k=17. f1_micro=0.7352 f1_macro=0.7076\n",
            "\t k=18. f1_micro=0.7352 f1_macro=0.7076\n",
            "\t k=19. f1_micro=0.7205 f1_macro=0.6850\n",
            "\t k=20. f1_micro=0.7205 f1_macro=0.6864\n",
            "n=14. 14 attributes.\n",
            "\t k=1. f1_micro=0.6323 f1_macro=0.6197\n",
            "\t k=2. f1_micro=0.6323 f1_macro=0.6196\n",
            "\t k=3. f1_micro=0.6911 f1_macro=0.6792\n",
            "\t k=4. f1_micro=0.6617 f1_macro=0.6520\n",
            "\t k=5. f1_micro=0.7058 f1_macro=0.6870\n",
            "\t k=6. f1_micro=0.6764 f1_macro=0.6599\n",
            "\t k=7. f1_micro=0.7058 f1_macro=0.6944\n",
            "\t k=8. f1_micro=0.7352 f1_macro=0.7228\n",
            "\t k=9. f1_micro=0.75 f1_macro=0.7371\n",
            "\t k=10. f1_micro=0.7205 f1_macro=0.7095\n",
            "\t k=11. f1_micro=0.7352 f1_macro=0.7179\n",
            "\t k=12. f1_micro=0.7205 f1_macro=0.7035\n",
            "\t k=13. f1_micro=0.7058 f1_macro=0.6830\n",
            "\t k=14. f1_micro=0.6911 f1_macro=0.6700\n",
            "\t k=15. f1_micro=0.7058 f1_macro=0.6820\n",
            "\t k=16. f1_micro=0.7205 f1_macro=0.6958\n",
            "\t k=17. f1_micro=0.7352 f1_macro=0.7076\n",
            "\t k=18. f1_micro=0.7352 f1_macro=0.7076\n",
            "\t k=19. f1_micro=0.7205 f1_macro=0.6877\n",
            "\t k=20. f1_micro=0.7205 f1_macro=0.6877\n",
            "n=16. 16 attributes.\n",
            "\t k=1. f1_micro=0.6323 f1_macro=0.6197\n",
            "\t k=2. f1_micro=0.6470 f1_macro=0.6358\n",
            "\t k=3. f1_micro=0.6911 f1_macro=0.6792\n",
            "\t k=4. f1_micro=0.6617 f1_macro=0.6520\n",
            "\t k=5. f1_micro=0.7058 f1_macro=0.6870\n",
            "\t k=6. f1_micro=0.6764 f1_macro=0.6599\n",
            "\t k=7. f1_micro=0.6911 f1_macro=0.6799\n",
            "\t k=8. f1_micro=0.7352 f1_macro=0.7228\n",
            "\t k=9. f1_micro=0.75 f1_macro=0.7371\n",
            "\t k=10. f1_micro=0.7352 f1_macro=0.7237\n",
            "\t k=11. f1_micro=0.7352 f1_macro=0.7179\n",
            "\t k=12. f1_micro=0.7352 f1_macro=0.7170\n",
            "\t k=13. f1_micro=0.7058 f1_macro=0.6830\n",
            "\t k=14. f1_micro=0.6911 f1_macro=0.6700\n",
            "\t k=15. f1_micro=0.7058 f1_macro=0.6820\n",
            "\t k=16. f1_micro=0.7205 f1_macro=0.6958\n",
            "\t k=17. f1_micro=0.7352 f1_macro=0.7076\n",
            "\t k=18. f1_micro=0.7352 f1_macro=0.7076\n",
            "\t k=19. f1_micro=0.7205 f1_macro=0.6877\n",
            "\t k=20. f1_micro=0.7205 f1_macro=0.6877\n",
            "n=18. 18 attributes.\n",
            "\t k=1. f1_micro=0.6323 f1_macro=0.6197\n",
            "\t k=2. f1_micro=0.6470 f1_macro=0.6358\n",
            "\t k=3. f1_micro=0.6911 f1_macro=0.6792\n",
            "\t k=4. f1_micro=0.6617 f1_macro=0.6520\n",
            "\t k=5. f1_micro=0.7058 f1_macro=0.6870\n",
            "\t k=6. f1_micro=0.6911 f1_macro=0.6737\n",
            "\t k=7. f1_micro=0.6911 f1_macro=0.6799\n",
            "\t k=8. f1_micro=0.7352 f1_macro=0.7228\n",
            "\t k=9. f1_micro=0.75 f1_macro=0.7371\n",
            "\t k=10. f1_micro=0.7352 f1_macro=0.7237\n",
            "\t k=11. f1_micro=0.7352 f1_macro=0.7179\n",
            "\t k=12. f1_micro=0.7352 f1_macro=0.7170\n",
            "\t k=13. f1_micro=0.7058 f1_macro=0.6830\n",
            "\t k=14. f1_micro=0.6911 f1_macro=0.6700\n",
            "\t k=15. f1_micro=0.7058 f1_macro=0.6820\n",
            "\t k=16. f1_micro=0.7205 f1_macro=0.6958\n",
            "\t k=17. f1_micro=0.7352 f1_macro=0.7076\n",
            "\t k=18. f1_micro=0.7352 f1_macro=0.7076\n",
            "\t k=19. f1_micro=0.7205 f1_macro=0.6877\n",
            "\t k=20. f1_micro=0.7205 f1_macro=0.6877\n"
          ],
          "name": "stdout"
        }
      ]
    },
    {
      "cell_type": "code",
      "metadata": {
        "id": "-fmw40bmZ7K9",
        "colab": {
          "base_uri": "https://localhost:8080/",
          "height": 912
        },
        "outputId": "6f58e2a1-3b05-40e6-ad88-76e728cd162e"
      },
      "source": [
        "from matplotlib.font_manager import FontProperties\n",
        "\n",
        "colors=['r','g','b','c','m','y','black','purple']\n",
        "\n",
        "fig, ax = plt.subplots(figsize=(15,15))\n",
        "xax=ks\n",
        "ax.set_xticks(xax)\n",
        "#ax.set_ylim((0,1))\n",
        "\n",
        "ax.set_xticklabels(xax)\n",
        "for i in range(len(f1_micros)):\n",
        "  ax.plot(xax, f1_micros[i],color=colors[i], label='f1_micro, n='+str(n[i]))\n",
        "  ax.plot(xax, f1_macros[i],color=colors[i],linestyle=\"--\", label='f1_macro, n='+str(n[i]))\n",
        "plt.legend(loc='upper center', bbox_to_anchor=(0.5, -0.05),\n",
        "          fancybox=True , ncol=8)"
      ],
      "execution_count": null,
      "outputs": [
        {
          "output_type": "execute_result",
          "data": {
            "text/plain": [
              "<matplotlib.legend.Legend at 0x7eff8ad879e8>"
            ]
          },
          "metadata": {
            "tags": []
          },
          "execution_count": 91
        },
        {
          "output_type": "display_data",
          "data": {
            "image/png": "[encoded data removed]",
            "text/plain": [
              "<Figure size 1080x1080 with 1 Axes>"
            ]
          },
          "metadata": {
            "tags": [],
            "needs_background": "light"
          }
        }
      ]
    },
    {
      "cell_type": "markdown",
      "metadata": {
        "id": "wOQt9e0Pcj7n"
      },
      "source": [
        "Παρατηρούμε πως: για n=16 και n=18 τα αποτελέσματα είναι τα ίδια. Την καλύτερη απόδοση την έχουμε για k=5 και n=16 ή 18"
      ]
    },
    {
      "cell_type": "code",
      "metadata": {
        "id": "ANIKsnwTX2CG"
      },
      "source": [
        "k=list(range(1,21))\n",
        "n_attrs=list(range(4,19))\n",
        "knn = KNeighborsClassifier()\n",
        "pca = PCA()\n",
        "pipe = Pipeline(steps=[('selector', pca), ('kNN', knn)])\n",
        "\n",
        "estimator1 = GridSearchCV(pipe, dict(selector__n_components=n_attrs, kNN__n_neighbors=k), cv=10, scoring='f1_micro', n_jobs=-1)\n",
        "estimator2 = GridSearchCV(pipe, dict(selector__n_components=n_attrs, kNN__n_neighbors=k), cv=10, scoring='f1_micro', n_jobs=-1)\n",
        "estimator1.fit(train_data, train_labels)\n",
        "estimator2.fit(train_data, train_labels)\n",
        "preds1 = estimator1.predict(test_data)\n",
        "preds2 = estimator2.predict(test_data)"
      ],
      "execution_count": null,
      "outputs": []
    },
    {
      "cell_type": "code",
      "metadata": {
        "id": "snapExnqdCQf",
        "colab": {
          "base_uri": "https://localhost:8080/"
        },
        "outputId": "e558190e-d545-4ee9-9796-676290c03350"
      },
      "source": [
        "print(estimator1.best_estimator_)\n",
        "print(estimator1.best_params_)"
      ],
      "execution_count": null,
      "outputs": [
        {
          "output_type": "stream",
          "text": [
            "Pipeline(memory=None,\n",
            "         steps=[('selector',\n",
            "                 PCA(copy=True, iterated_power='auto', n_components=14,\n",
            "                     random_state=None, svd_solver='auto', tol=0.0,\n",
            "                     whiten=False)),\n",
            "                ('kNN',\n",
            "                 KNeighborsClassifier(algorithm='auto', leaf_size=30,\n",
            "                                      metric='minkowski', metric_params=None,\n",
            "                                      n_jobs=None, n_neighbors=3, p=2,\n",
            "                                      weights='uniform'))],\n",
            "         verbose=False)\n",
            "{'kNN__n_neighbors': 3, 'selector__n_components': 14}\n"
          ],
          "name": "stdout"
        }
      ]
    },
    {
      "cell_type": "code",
      "metadata": {
        "id": "vZxzILrKdDpl",
        "colab": {
          "base_uri": "https://localhost:8080/"
        },
        "outputId": "79564d8d-2119-4294-b898-4c21764eb629"
      },
      "source": [
        "print(estimator2.best_estimator_)\n",
        "print(estimator2.best_params_)"
      ],
      "execution_count": null,
      "outputs": [
        {
          "output_type": "stream",
          "text": [
            "Pipeline(memory=None,\n",
            "         steps=[('selector',\n",
            "                 PCA(copy=True, iterated_power='auto', n_components=14,\n",
            "                     random_state=None, svd_solver='auto', tol=0.0,\n",
            "                     whiten=False)),\n",
            "                ('kNN',\n",
            "                 KNeighborsClassifier(algorithm='auto', leaf_size=30,\n",
            "                                      metric='minkowski', metric_params=None,\n",
            "                                      n_jobs=None, n_neighbors=3, p=2,\n",
            "                                      weights='uniform'))],\n",
            "         verbose=False)\n",
            "{'kNN__n_neighbors': 3, 'selector__n_components': 14}\n"
          ],
          "name": "stdout"
        }
      ]
    },
    {
      "cell_type": "code",
      "metadata": {
        "id": "W7s8UXa1dMUN",
        "colab": {
          "base_uri": "https://localhost:8080/"
        },
        "outputId": "1ebdda15-7999-403a-c13c-2dd6aeb9f2d5"
      },
      "source": [
        "knn_opt_preds = estimator1.best_estimator_.predict(test_data)\n",
        "\n",
        "f1_micro_knn_opt1=precision_recall_fscore_support(test_labels, knn_opt_preds, average='micro')[2]\n",
        "f1_macro_knn_opt1=precision_recall_fscore_support(test_labels, knn_opt_preds, average='macro')[2]\n",
        "\n",
        "print(\"Results of the optimal knn classifier as indicated by the CVGS:\")\n",
        "print(\"f1_micro:\",f1_micro_knn_opt1 ,\"f1_macro:\",f1_macro_knn_opt1)"
      ],
      "execution_count": null,
      "outputs": [
        {
          "output_type": "stream",
          "text": [
            "Results of the optimal knn classifier as indicated by the CVGS:\n",
            "f1_micro: 0.6470588235294118 f1_macro: 0.6419996024647187\n"
          ],
          "name": "stdout"
        }
      ]
    },
    {
      "cell_type": "code",
      "metadata": {
        "id": "KxsbsfAedUXd",
        "colab": {
          "base_uri": "https://localhost:8080/"
        },
        "outputId": "e5a6ee33-97c1-48fa-c293-57856c602011"
      },
      "source": [
        "estimator3 = GridSearchCV(pipe, dict(selector__n_components=[16], kNN__n_neighbors=[9]), cv=10, scoring='f1_micro', n_jobs=-1)\n",
        "estimator3.fit(train_data, train_labels)\n",
        "preds3 = estimator3.predict(test_data)\n",
        "f1_micro_knn_opt3 = precision_recall_fscore_support(test_labels, preds3, average='micro')[2]\n",
        "f1_micro_knn_opt3 = precision_recall_fscore_support(test_labels, preds3, average='macro')[2]\n",
        "\n",
        "print(\"Results of the optimal knn classifier as indicated by the graph results:\")\n",
        "print(\"f1_micro:\",f1_micro_knn_opt3 ,\"f1_macro:\",f1_micro_knn_opt3)"
      ],
      "execution_count": null,
      "outputs": [
        {
          "output_type": "stream",
          "text": [
            "Results of the optimal knn classifier as indicated by the graph results:\n",
            "f1_micro: 0.6131499338249197 f1_macro: 0.6131499338249197\n"
          ],
          "name": "stdout"
        }
      ]
    },
    {
      "cell_type": "code",
      "metadata": {
        "id": "a9rdGe787RAK"
      },
      "source": [
        "f1_micros_opt.append(f1_micro_knn_opt1)\n",
        "f1_macros_opt.append(f1_macro_knn_opt1)"
      ],
      "execution_count": null,
      "outputs": []
    },
    {
      "cell_type": "markdown",
      "metadata": {
        "id": "GiVqFO4r9jA7"
      },
      "source": [
        "**ΔΟΚΙΜΗ #ΔΕΝ ΞΕΡΩ**"
      ]
    },
    {
      "cell_type": "code",
      "metadata": {
        "colab": {
          "base_uri": "https://localhost:8080/"
        },
        "id": "SYovmys99nAF",
        "outputId": "146aaaef-cb9a-48c2-c4c0-8b1dae962dbb"
      },
      "source": [
        "k= [2,3,4]\n",
        "vthreshold = [0,50,100,150,200,500]\n",
        "selector = VarianceThreshold()\n",
        "\n",
        "knn = KNeighborsClassifier()\n",
        "pipe = Pipeline(steps=[('selector', selector), ('kNN', knn)])\n",
        "\n",
        "estimator1 = GridSearchCV(pipe, dict(selector__threshold=vthreshold, kNN__n_neighbors=k), cv=10, scoring='f1_micro', n_jobs=-1)\n",
        "estimator2 = GridSearchCV(pipe, dict(selector__threshold=vthreshold, kNN__n_neighbors=k), cv=10, scoring='f1_macro', n_jobs=-1)\n",
        "estimator1.fit(train_data, train_labels)\n",
        "estimator2.fit(train_data, train_labels)\n",
        "preds1 = estimator1.predict(test_data)\n",
        "preds2 = estimator2.predict(test_data)\n",
        "\n",
        "print(estimator1.best_estimator_)\n",
        "print(estimator1.best_params_)\n",
        "\n",
        "print(classification_report(test_labels,preds1))"
      ],
      "execution_count": null,
      "outputs": [
        {
          "output_type": "stream",
          "text": [
            "Pipeline(memory=None,\n",
            "         steps=[('selector', VarianceThreshold(threshold=0)),\n",
            "                ('kNN',\n",
            "                 KNeighborsClassifier(algorithm='auto', leaf_size=30,\n",
            "                                      metric='minkowski', metric_params=None,\n",
            "                                      n_jobs=None, n_neighbors=3, p=2,\n",
            "                                      weights='uniform'))],\n",
            "         verbose=False)\n",
            "{'kNN__n_neighbors': 3, 'selector__threshold': 0}\n",
            "              precision    recall  f1-score   support\n",
            "\n",
            "           0       0.59      0.89      0.71        36\n",
            "           1       0.65      0.42      0.51        53\n",
            "           2       0.47      0.46      0.47        39\n",
            "           3       0.89      0.93      0.91        42\n",
            "\n",
            "    accuracy                           0.65       170\n",
            "   macro avg       0.65      0.67      0.65       170\n",
            "weighted avg       0.65      0.65      0.64       170\n",
            "\n"
          ],
          "name": "stdout"
        }
      ]
    },
    {
      "cell_type": "code",
      "metadata": {
        "colab": {
          "base_uri": "https://localhost:8080/"
        },
        "id": "Z5gh9ysABAzj",
        "outputId": "bd3e9b01-a0fb-4d67-8820-f7b76a7dfb45"
      },
      "source": [
        "from  sklearn.preprocessing import StandardScaler\n",
        "k= [2,3,4]\n",
        "scaler = StandardScaler()\n",
        "\n",
        "\n",
        "knn = KNeighborsClassifier()\n",
        "pipe = Pipeline(steps=[('scaler', scaler), ('kNN', knn)])\n",
        "\n",
        "estimator1 = GridSearchCV(pipe, dict( kNN__n_neighbors=k), cv=10, scoring='f1_micro', n_jobs=-1)\n",
        "estimator2 = GridSearchCV(pipe, dict( kNN__n_neighbors=k), cv=10, scoring='f1_macro', n_jobs=-1)\n",
        "estimator1.fit(train_data, train_labels)\n",
        "estimator2.fit(train_data, train_labels)\n",
        "preds1 = estimator1.predict(test_data)\n",
        "preds2 = estimator2.predict(test_data)\n",
        "\n",
        "print(estimator1.best_estimator_)\n",
        "print(estimator1.best_params_)\n",
        "\n",
        "print(classification_report(test_labels,preds1))"
      ],
      "execution_count": null,
      "outputs": [
        {
          "output_type": "stream",
          "text": [
            "Pipeline(memory=None,\n",
            "         steps=[('scaler',\n",
            "                 StandardScaler(copy=True, with_mean=True, with_std=True)),\n",
            "                ('kNN',\n",
            "                 KNeighborsClassifier(algorithm='auto', leaf_size=30,\n",
            "                                      metric='minkowski', metric_params=None,\n",
            "                                      n_jobs=None, n_neighbors=3, p=2,\n",
            "                                      weights='uniform'))],\n",
            "         verbose=False)\n",
            "{'kNN__n_neighbors': 3}\n",
            "              precision    recall  f1-score   support\n",
            "\n",
            "           0       0.72      1.00      0.84        36\n",
            "           1       0.58      0.47      0.52        53\n",
            "           2       0.41      0.38      0.39        39\n",
            "           3       0.90      0.86      0.88        42\n",
            "\n",
            "    accuracy                           0.66       170\n",
            "   macro avg       0.65      0.68      0.66       170\n",
            "weighted avg       0.65      0.66      0.65       170\n",
            "\n"
          ],
          "name": "stdout"
        }
      ]
    },
    {
      "cell_type": "code",
      "metadata": {
        "colab": {
          "base_uri": "https://localhost:8080/"
        },
        "id": "0ue9DOWFB5rb",
        "outputId": "9839be4e-3c83-471b-b734-9909aa1ad4e8"
      },
      "source": [
        "from  sklearn.preprocessing import StandardScaler\n",
        "k= [2,3,4]\n",
        "n_components = [15,16,17]\n",
        "scaler = StandardScaler()\n",
        "pca = PCA()\n",
        "\n",
        "knn = KNeighborsClassifier()\n",
        "pipe = Pipeline(steps=[('scaler', scaler), ('pca', pca), ('kNN', knn)])\n",
        "\n",
        "estimator1 = GridSearchCV(pipe, dict( pca__n_components = n_components , kNN__n_neighbors=k), cv=10, scoring='f1_micro', n_jobs=-1)\n",
        "estimator2 = GridSearchCV(pipe, dict( pca__n_components = n_components , kNN__n_neighbors=k), cv=10, scoring='f1_macro', n_jobs=-1)\n",
        "estimator1.fit(train_data, train_labels)\n",
        "estimator2.fit(train_data, train_labels)\n",
        "preds1 = estimator1.predict(test_data)\n",
        "preds2 = estimator2.predict(test_data)\n",
        "\n",
        "print(estimator1.best_estimator_)\n",
        "print(estimator1.best_params_)\n",
        "\n",
        "print(classification_report(test_labels,preds1))"
      ],
      "execution_count": null,
      "outputs": [
        {
          "output_type": "stream",
          "text": [
            "Pipeline(memory=None,\n",
            "         steps=[('scaler',\n",
            "                 StandardScaler(copy=True, with_mean=True, with_std=True)),\n",
            "                ('pca',\n",
            "                 PCA(copy=True, iterated_power='auto', n_components=17,\n",
            "                     random_state=None, svd_solver='auto', tol=0.0,\n",
            "                     whiten=False)),\n",
            "                ('kNN',\n",
            "                 KNeighborsClassifier(algorithm='auto', leaf_size=30,\n",
            "                                      metric='minkowski', metric_params=None,\n",
            "                                      n_jobs=None, n_neighbors=3, p=2,\n",
            "                                      weights='uniform'))],\n",
            "         verbose=False)\n",
            "{'kNN__n_neighbors': 3, 'pca__n_components': 17}\n",
            "              precision    recall  f1-score   support\n",
            "\n",
            "           0       0.72      1.00      0.84        36\n",
            "           1       0.58      0.47      0.52        53\n",
            "           2       0.41      0.38      0.39        39\n",
            "           3       0.90      0.86      0.88        42\n",
            "\n",
            "    accuracy                           0.66       170\n",
            "   macro avg       0.65      0.68      0.66       170\n",
            "weighted avg       0.65      0.66      0.65       170\n",
            "\n"
          ],
          "name": "stdout"
        }
      ]
    },
    {
      "cell_type": "code",
      "metadata": {
        "colab": {
          "base_uri": "https://localhost:8080/"
        },
        "id": "UcqCJPov-HRL",
        "outputId": "b1814fc5-9576-47f2-f271-194a56b7a939"
      },
      "source": [
        "knn_opt_preds = estimator1.best_estimator_.predict(test_data)\n",
        "\n",
        "f1_micro_knn_opt1=precision_recall_fscore_support(test_labels, knn_opt_preds, average='micro')[2]\n",
        "f1_macro_knn_opt1=precision_recall_fscore_support(test_labels, knn_opt_preds, average='macro')[2]\n",
        "\n",
        "print(\"Results of the optimal knn classifier as indicated by the CVGS:\")\n",
        "print(\"f1_micro:\",f1_micro_knn_opt1 ,\"f1_macro:\",f1_macro_knn_opt1)"
      ],
      "execution_count": null,
      "outputs": [
        {
          "output_type": "stream",
          "text": [
            "Results of the optimal knn classifier as indicated by the CVGS:\n",
            "f1_micro: 0.6588235294117647 f1_macro: 0.6577070645629957\n"
          ],
          "name": "stdout"
        }
      ]
    },
    {
      "cell_type": "code",
      "metadata": {
        "id": "hSom7H_0Dh7p"
      },
      "source": [
        "f1_micros_opt.append(f1_micro_knn_opt1)\n",
        "f1_macros_opt.append(f1_macro_knn_opt1)"
      ],
      "execution_count": null,
      "outputs": []
    },
    {
      "cell_type": "markdown",
      "metadata": {
        "id": "28ZsqZyYlilY"
      },
      "source": [
        "####Τελική παρουσίαση αποτελεσμάτων και παρατηρήσεις"
      ]
    },
    {
      "cell_type": "code",
      "metadata": {
        "id": "A-3G83eFshbd",
        "colab": {
          "base_uri": "https://localhost:8080/",
          "height": 562
        },
        "outputId": "17b244dd-6299-42e0-a9f5-f847c41c0a75"
      },
      "source": [
        "#DEN EXEI TELEIWSEI AUTO AKOMA\n",
        "classifiers=[\"Dummy\\nUniform\",\"Dummy\\nMost\\nFrequent\",\"Dummy\\nConstant\",\"Dummy\\nStratified\",\"Gauss\\nNaive\\nBayes\",\"kNN\"]\n",
        "\n",
        "\n",
        "fig, ax = plt.subplots(figsize = (10,8))\n",
        "ax.grid(True)\n",
        "xax=np.arange(len(classifiers))\n",
        "ax.set_xticks(xax)\n",
        "ax.set_xticklabels(classifiers, size=13)\n",
        "ax.set_xlabel('Classifiers', size=20)\n",
        "ax.set_ylim(0,1)\n",
        "ax.set_ylabel(\"Accuracy\", size=20)\n",
        "\n",
        "ax.bar(xax-0.2, f1_micros_def, label='F1 MICRO DEFAULT',align='edge',width=0.2, color='blue' )\n",
        "ax.bar(xax,f1_micros_opt, label='F1 MICRO OPTIMIZED',align='edge',width=0.2, color='red' )\n",
        "ax.bar(xax + 0.2, f1_macros_def, label='F1 MACRO DEFAULT',align='edge',width=0.2, color='green' )\n",
        "ax.bar(xax +0.4, f1_macros_opt, label='F1 MACRO OPTIMIZED',align='edge',width=0.2, color='m' )\n",
        "plt.legend()\n"
      ],
      "execution_count": null,
      "outputs": [
        {
          "output_type": "execute_result",
          "data": {
            "text/plain": [
              "<matplotlib.legend.Legend at 0x7eff8bc3c358>"
            ]
          },
          "metadata": {
            "tags": []
          },
          "execution_count": 127
        },
        {
          "output_type": "display_data",
          "data": {
            "image/png": "[encoded data removed]",
            "text/plain": [
              "<Figure size 720x576 with 1 Axes>"
            ]
          },
          "metadata": {
            "tags": [],
            "needs_background": "light"
          }
        }
      ]
    },
    {
      "cell_type": "markdown",
      "metadata": {
        "id": "ifsggMOBg0on"
      },
      "source": [
        "#**Μεγάλο Dataset (B09 - [SECOM Data Set](http://archive.ics.uci.edu/ml/datasets/SECOM))**"
      ]
    },
    {
      "cell_type": "markdown",
      "metadata": {
        "id": "QOPELRdr0DV4"
      },
      "source": [
        "###Βασικές Πληροφορίες"
      ]
    },
    {
      "cell_type": "markdown",
      "metadata": {
        "id": "yRY366bh0GfC"
      },
      "source": [
        "1. Το dataset αφορά δεδομένα που συλλέχθηκαν κατά την παραγωγή ημιαγωγών. Yπάρχουν 1567 δείγματα με 590 χαρακτηριστικά το καθένα. Κάθε δείγμα αντιπροσωπεύει μία μονάδα που παράχθηκε και κάθε χαρακτηριστικό αντιπροσωπεύει μία μέτρηση που έγινε κατά την παραγωγή του. Όσον αφορά τα labels, οι τιμές που παίρνουν είναι 1 και -1. Η τιμή -1 υποδεικνύει πως το προϊόν πέρασε τον έλεγχο, ενώ η τιμή 1 πως απέτυχε"
      ]
    },
    {
      "cell_type": "code",
      "metadata": {
        "id": "WWwdB_eBhG9z",
        "colab": {
          "base_uri": "https://localhost:8080/",
          "height": 444
        },
        "outputId": "2a05cd39-a7e0-4148-9b00-3b78e50d5f9a"
      },
      "source": [
        "path = '/content/drive/My Drive/Colab Notebooks/Neural Networks/Ασκησεις/1η Εργασία/'\n",
        "big_data_path = path+'big_data.data'\n",
        "big_data_labels = path+'big_labels.data'\n",
        "\n",
        "#Aνάγνωση των χαρακτηριστικών\n",
        "df_data = pd.read_csv(big_data_path, sep=' ', header=None)\n",
        "\n",
        "#Ανάγνωση των labels και εισαγωγή τους στο dataset των χαρακτηριστικών στο τελευταίο column\n",
        "df_vals = pd.read_csv(big_data_labels,sep=' ', header=None)\n",
        "df_vals = df_vals[0]\n",
        "df_data['Label'] = df_vals\n",
        "df_data"
      ],
      "execution_count": null,
      "outputs": [
        {
          "output_type": "execute_result",
          "data": {
            "text/html": [
              "<div>\n",
              "<style scoped>\n",
              "    .dataframe tbody tr th:only-of-type {\n",
              "        vertical-align: middle;\n",
              "    }\n",
              "\n",
              "    .dataframe tbody tr th {\n",
              "        vertical-align: top;\n",
              "    }\n",
              "\n",
              "    .dataframe thead th {\n",
              "        text-align: right;\n",
              "    }\n",
              "</style>\n",
              "<table border=\"1\" class=\"dataframe\">\n",
              "  <thead>\n",
              "    <tr style=\"text-align: right;\">\n",
              "      <th></th>\n",
              "      <th>0</th>\n",
              "      <th>1</th>\n",
              "      <th>2</th>\n",
              "      <th>3</th>\n",
              "      <th>4</th>\n",
              "      <th>5</th>\n",
              "      <th>6</th>\n",
              "      <th>7</th>\n",
              "      <th>8</th>\n",
              "      <th>9</th>\n",
              "      <th>10</th>\n",
              "      <th>11</th>\n",
              "      <th>12</th>\n",
              "      <th>13</th>\n",
              "      <th>14</th>\n",
              "      <th>15</th>\n",
              "      <th>16</th>\n",
              "      <th>17</th>\n",
              "      <th>18</th>\n",
              "      <th>19</th>\n",
              "      <th>20</th>\n",
              "      <th>21</th>\n",
              "      <th>22</th>\n",
              "      <th>23</th>\n",
              "      <th>24</th>\n",
              "      <th>25</th>\n",
              "      <th>26</th>\n",
              "      <th>27</th>\n",
              "      <th>28</th>\n",
              "      <th>29</th>\n",
              "      <th>30</th>\n",
              "      <th>31</th>\n",
              "      <th>32</th>\n",
              "      <th>33</th>\n",
              "      <th>34</th>\n",
              "      <th>35</th>\n",
              "      <th>36</th>\n",
              "      <th>37</th>\n",
              "      <th>38</th>\n",
              "      <th>39</th>\n",
              "      <th>...</th>\n",
              "      <th>551</th>\n",
              "      <th>552</th>\n",
              "      <th>553</th>\n",
              "      <th>554</th>\n",
              "      <th>555</th>\n",
              "      <th>556</th>\n",
              "      <th>557</th>\n",
              "      <th>558</th>\n",
              "      <th>559</th>\n",
              "      <th>560</th>\n",
              "      <th>561</th>\n",
              "      <th>562</th>\n",
              "      <th>563</th>\n",
              "      <th>564</th>\n",
              "      <th>565</th>\n",
              "      <th>566</th>\n",
              "      <th>567</th>\n",
              "      <th>568</th>\n",
              "      <th>569</th>\n",
              "      <th>570</th>\n",
              "      <th>571</th>\n",
              "      <th>572</th>\n",
              "      <th>573</th>\n",
              "      <th>574</th>\n",
              "      <th>575</th>\n",
              "      <th>576</th>\n",
              "      <th>577</th>\n",
              "      <th>578</th>\n",
              "      <th>579</th>\n",
              "      <th>580</th>\n",
              "      <th>581</th>\n",
              "      <th>582</th>\n",
              "      <th>583</th>\n",
              "      <th>584</th>\n",
              "      <th>585</th>\n",
              "      <th>586</th>\n",
              "      <th>587</th>\n",
              "      <th>588</th>\n",
              "      <th>589</th>\n",
              "      <th>Label</th>\n",
              "    </tr>\n",
              "  </thead>\n",
              "  <tbody>\n",
              "    <tr>\n",
              "      <th>0</th>\n",
              "      <td>3030.93</td>\n",
              "      <td>2564.00</td>\n",
              "      <td>2187.7333</td>\n",
              "      <td>1411.1265</td>\n",
              "      <td>1.3602</td>\n",
              "      <td>100.0</td>\n",
              "      <td>97.6133</td>\n",
              "      <td>0.1242</td>\n",
              "      <td>1.5005</td>\n",
              "      <td>0.0162</td>\n",
              "      <td>-0.0034</td>\n",
              "      <td>0.9455</td>\n",
              "      <td>202.4396</td>\n",
              "      <td>0.0</td>\n",
              "      <td>7.9558</td>\n",
              "      <td>414.8710</td>\n",
              "      <td>10.0433</td>\n",
              "      <td>0.9680</td>\n",
              "      <td>192.3963</td>\n",
              "      <td>12.5190</td>\n",
              "      <td>1.4026</td>\n",
              "      <td>-5419.00</td>\n",
              "      <td>2916.50</td>\n",
              "      <td>-4043.75</td>\n",
              "      <td>751.00</td>\n",
              "      <td>0.8955</td>\n",
              "      <td>1.7730</td>\n",
              "      <td>3.0490</td>\n",
              "      <td>64.2333</td>\n",
              "      <td>2.0222</td>\n",
              "      <td>0.1632</td>\n",
              "      <td>3.5191</td>\n",
              "      <td>83.3971</td>\n",
              "      <td>9.5126</td>\n",
              "      <td>50.6170</td>\n",
              "      <td>64.2588</td>\n",
              "      <td>49.3830</td>\n",
              "      <td>66.3141</td>\n",
              "      <td>86.9555</td>\n",
              "      <td>117.5132</td>\n",
              "      <td>...</td>\n",
              "      <td>0.78</td>\n",
              "      <td>0.1827</td>\n",
              "      <td>5.7349</td>\n",
              "      <td>0.3363</td>\n",
              "      <td>39.8842</td>\n",
              "      <td>3.2687</td>\n",
              "      <td>1.0297</td>\n",
              "      <td>1.0344</td>\n",
              "      <td>0.4385</td>\n",
              "      <td>0.1039</td>\n",
              "      <td>42.3877</td>\n",
              "      <td>NaN</td>\n",
              "      <td>NaN</td>\n",
              "      <td>NaN</td>\n",
              "      <td>NaN</td>\n",
              "      <td>NaN</td>\n",
              "      <td>NaN</td>\n",
              "      <td>NaN</td>\n",
              "      <td>NaN</td>\n",
              "      <td>533.8500</td>\n",
              "      <td>2.1113</td>\n",
              "      <td>8.95</td>\n",
              "      <td>0.3157</td>\n",
              "      <td>3.0624</td>\n",
              "      <td>0.1026</td>\n",
              "      <td>1.6765</td>\n",
              "      <td>14.9509</td>\n",
              "      <td>NaN</td>\n",
              "      <td>NaN</td>\n",
              "      <td>NaN</td>\n",
              "      <td>NaN</td>\n",
              "      <td>0.5005</td>\n",
              "      <td>0.0118</td>\n",
              "      <td>0.0035</td>\n",
              "      <td>2.3630</td>\n",
              "      <td>NaN</td>\n",
              "      <td>NaN</td>\n",
              "      <td>NaN</td>\n",
              "      <td>NaN</td>\n",
              "      <td>-1</td>\n",
              "    </tr>\n",
              "    <tr>\n",
              "      <th>1</th>\n",
              "      <td>3095.78</td>\n",
              "      <td>2465.14</td>\n",
              "      <td>2230.4222</td>\n",
              "      <td>1463.6606</td>\n",
              "      <td>0.8294</td>\n",
              "      <td>100.0</td>\n",
              "      <td>102.3433</td>\n",
              "      <td>0.1247</td>\n",
              "      <td>1.4966</td>\n",
              "      <td>-0.0005</td>\n",
              "      <td>-0.0148</td>\n",
              "      <td>0.9627</td>\n",
              "      <td>200.5470</td>\n",
              "      <td>0.0</td>\n",
              "      <td>10.1548</td>\n",
              "      <td>414.7347</td>\n",
              "      <td>9.2599</td>\n",
              "      <td>0.9701</td>\n",
              "      <td>191.2872</td>\n",
              "      <td>12.4608</td>\n",
              "      <td>1.3825</td>\n",
              "      <td>-5441.50</td>\n",
              "      <td>2604.25</td>\n",
              "      <td>-3498.75</td>\n",
              "      <td>-1640.25</td>\n",
              "      <td>1.2973</td>\n",
              "      <td>2.0143</td>\n",
              "      <td>7.3900</td>\n",
              "      <td>68.4222</td>\n",
              "      <td>2.2667</td>\n",
              "      <td>0.2102</td>\n",
              "      <td>3.4171</td>\n",
              "      <td>84.9052</td>\n",
              "      <td>9.7997</td>\n",
              "      <td>50.6596</td>\n",
              "      <td>64.2828</td>\n",
              "      <td>49.3404</td>\n",
              "      <td>64.9193</td>\n",
              "      <td>87.5241</td>\n",
              "      <td>118.1188</td>\n",
              "      <td>...</td>\n",
              "      <td>1.33</td>\n",
              "      <td>0.2829</td>\n",
              "      <td>7.1196</td>\n",
              "      <td>0.4989</td>\n",
              "      <td>53.1836</td>\n",
              "      <td>3.9139</td>\n",
              "      <td>1.7819</td>\n",
              "      <td>0.9634</td>\n",
              "      <td>0.1745</td>\n",
              "      <td>0.0375</td>\n",
              "      <td>18.1087</td>\n",
              "      <td>NaN</td>\n",
              "      <td>NaN</td>\n",
              "      <td>NaN</td>\n",
              "      <td>NaN</td>\n",
              "      <td>NaN</td>\n",
              "      <td>NaN</td>\n",
              "      <td>NaN</td>\n",
              "      <td>NaN</td>\n",
              "      <td>535.0164</td>\n",
              "      <td>2.4335</td>\n",
              "      <td>5.92</td>\n",
              "      <td>0.2653</td>\n",
              "      <td>2.0111</td>\n",
              "      <td>0.0772</td>\n",
              "      <td>1.1065</td>\n",
              "      <td>10.9003</td>\n",
              "      <td>0.0096</td>\n",
              "      <td>0.0201</td>\n",
              "      <td>0.0060</td>\n",
              "      <td>208.2045</td>\n",
              "      <td>0.5019</td>\n",
              "      <td>0.0223</td>\n",
              "      <td>0.0055</td>\n",
              "      <td>4.4447</td>\n",
              "      <td>0.0096</td>\n",
              "      <td>0.0201</td>\n",
              "      <td>0.0060</td>\n",
              "      <td>208.2045</td>\n",
              "      <td>-1</td>\n",
              "    </tr>\n",
              "    <tr>\n",
              "      <th>2</th>\n",
              "      <td>2932.61</td>\n",
              "      <td>2559.94</td>\n",
              "      <td>2186.4111</td>\n",
              "      <td>1698.0172</td>\n",
              "      <td>1.5102</td>\n",
              "      <td>100.0</td>\n",
              "      <td>95.4878</td>\n",
              "      <td>0.1241</td>\n",
              "      <td>1.4436</td>\n",
              "      <td>0.0041</td>\n",
              "      <td>0.0013</td>\n",
              "      <td>0.9615</td>\n",
              "      <td>202.0179</td>\n",
              "      <td>0.0</td>\n",
              "      <td>9.5157</td>\n",
              "      <td>416.7075</td>\n",
              "      <td>9.3144</td>\n",
              "      <td>0.9674</td>\n",
              "      <td>192.7035</td>\n",
              "      <td>12.5404</td>\n",
              "      <td>1.4123</td>\n",
              "      <td>-5447.75</td>\n",
              "      <td>2701.75</td>\n",
              "      <td>-4047.00</td>\n",
              "      <td>-1916.50</td>\n",
              "      <td>1.3122</td>\n",
              "      <td>2.0295</td>\n",
              "      <td>7.5788</td>\n",
              "      <td>67.1333</td>\n",
              "      <td>2.3333</td>\n",
              "      <td>0.1734</td>\n",
              "      <td>3.5986</td>\n",
              "      <td>84.7569</td>\n",
              "      <td>8.6590</td>\n",
              "      <td>50.1530</td>\n",
              "      <td>64.1114</td>\n",
              "      <td>49.8470</td>\n",
              "      <td>65.8389</td>\n",
              "      <td>84.7327</td>\n",
              "      <td>118.6128</td>\n",
              "      <td>...</td>\n",
              "      <td>0.85</td>\n",
              "      <td>0.0857</td>\n",
              "      <td>7.1619</td>\n",
              "      <td>0.3752</td>\n",
              "      <td>23.0713</td>\n",
              "      <td>3.9306</td>\n",
              "      <td>1.1386</td>\n",
              "      <td>1.5021</td>\n",
              "      <td>0.3718</td>\n",
              "      <td>0.1233</td>\n",
              "      <td>24.7524</td>\n",
              "      <td>267.064</td>\n",
              "      <td>0.9032</td>\n",
              "      <td>1.10</td>\n",
              "      <td>0.6219</td>\n",
              "      <td>0.4122</td>\n",
              "      <td>0.2562</td>\n",
              "      <td>0.4119</td>\n",
              "      <td>68.8489</td>\n",
              "      <td>535.0245</td>\n",
              "      <td>2.0293</td>\n",
              "      <td>11.21</td>\n",
              "      <td>0.1882</td>\n",
              "      <td>4.0923</td>\n",
              "      <td>0.0640</td>\n",
              "      <td>2.0952</td>\n",
              "      <td>9.2721</td>\n",
              "      <td>0.0584</td>\n",
              "      <td>0.0484</td>\n",
              "      <td>0.0148</td>\n",
              "      <td>82.8602</td>\n",
              "      <td>0.4958</td>\n",
              "      <td>0.0157</td>\n",
              "      <td>0.0039</td>\n",
              "      <td>3.1745</td>\n",
              "      <td>0.0584</td>\n",
              "      <td>0.0484</td>\n",
              "      <td>0.0148</td>\n",
              "      <td>82.8602</td>\n",
              "      <td>1</td>\n",
              "    </tr>\n",
              "    <tr>\n",
              "      <th>3</th>\n",
              "      <td>2988.72</td>\n",
              "      <td>2479.90</td>\n",
              "      <td>2199.0333</td>\n",
              "      <td>909.7926</td>\n",
              "      <td>1.3204</td>\n",
              "      <td>100.0</td>\n",
              "      <td>104.2367</td>\n",
              "      <td>0.1217</td>\n",
              "      <td>1.4882</td>\n",
              "      <td>-0.0124</td>\n",
              "      <td>-0.0033</td>\n",
              "      <td>0.9629</td>\n",
              "      <td>201.8482</td>\n",
              "      <td>0.0</td>\n",
              "      <td>9.6052</td>\n",
              "      <td>422.2894</td>\n",
              "      <td>9.6924</td>\n",
              "      <td>0.9687</td>\n",
              "      <td>192.1557</td>\n",
              "      <td>12.4782</td>\n",
              "      <td>1.4011</td>\n",
              "      <td>-5468.25</td>\n",
              "      <td>2648.25</td>\n",
              "      <td>-4515.00</td>\n",
              "      <td>-1657.25</td>\n",
              "      <td>1.3137</td>\n",
              "      <td>2.0038</td>\n",
              "      <td>7.3145</td>\n",
              "      <td>62.9333</td>\n",
              "      <td>2.6444</td>\n",
              "      <td>0.2071</td>\n",
              "      <td>3.3813</td>\n",
              "      <td>84.9105</td>\n",
              "      <td>8.6789</td>\n",
              "      <td>50.5100</td>\n",
              "      <td>64.1125</td>\n",
              "      <td>49.4900</td>\n",
              "      <td>65.1951</td>\n",
              "      <td>86.6867</td>\n",
              "      <td>117.0442</td>\n",
              "      <td>...</td>\n",
              "      <td>39.33</td>\n",
              "      <td>0.6812</td>\n",
              "      <td>56.9303</td>\n",
              "      <td>17.4781</td>\n",
              "      <td>161.4081</td>\n",
              "      <td>35.3198</td>\n",
              "      <td>54.2917</td>\n",
              "      <td>1.1613</td>\n",
              "      <td>0.7288</td>\n",
              "      <td>0.2710</td>\n",
              "      <td>62.7572</td>\n",
              "      <td>268.228</td>\n",
              "      <td>0.6511</td>\n",
              "      <td>7.32</td>\n",
              "      <td>0.1630</td>\n",
              "      <td>3.5611</td>\n",
              "      <td>0.0670</td>\n",
              "      <td>2.7290</td>\n",
              "      <td>25.0363</td>\n",
              "      <td>530.5682</td>\n",
              "      <td>2.0253</td>\n",
              "      <td>9.33</td>\n",
              "      <td>0.1738</td>\n",
              "      <td>2.8971</td>\n",
              "      <td>0.0525</td>\n",
              "      <td>1.7585</td>\n",
              "      <td>8.5831</td>\n",
              "      <td>0.0202</td>\n",
              "      <td>0.0149</td>\n",
              "      <td>0.0044</td>\n",
              "      <td>73.8432</td>\n",
              "      <td>0.4990</td>\n",
              "      <td>0.0103</td>\n",
              "      <td>0.0025</td>\n",
              "      <td>2.0544</td>\n",
              "      <td>0.0202</td>\n",
              "      <td>0.0149</td>\n",
              "      <td>0.0044</td>\n",
              "      <td>73.8432</td>\n",
              "      <td>-1</td>\n",
              "    </tr>\n",
              "    <tr>\n",
              "      <th>4</th>\n",
              "      <td>3032.24</td>\n",
              "      <td>2502.87</td>\n",
              "      <td>2233.3667</td>\n",
              "      <td>1326.5200</td>\n",
              "      <td>1.5334</td>\n",
              "      <td>100.0</td>\n",
              "      <td>100.3967</td>\n",
              "      <td>0.1235</td>\n",
              "      <td>1.5031</td>\n",
              "      <td>-0.0031</td>\n",
              "      <td>-0.0072</td>\n",
              "      <td>0.9569</td>\n",
              "      <td>201.9424</td>\n",
              "      <td>0.0</td>\n",
              "      <td>10.5661</td>\n",
              "      <td>420.5925</td>\n",
              "      <td>10.3387</td>\n",
              "      <td>0.9735</td>\n",
              "      <td>191.6037</td>\n",
              "      <td>12.4735</td>\n",
              "      <td>1.3888</td>\n",
              "      <td>-5476.25</td>\n",
              "      <td>2635.25</td>\n",
              "      <td>-3987.50</td>\n",
              "      <td>117.00</td>\n",
              "      <td>1.2887</td>\n",
              "      <td>1.9912</td>\n",
              "      <td>7.2748</td>\n",
              "      <td>62.8333</td>\n",
              "      <td>3.1556</td>\n",
              "      <td>0.2696</td>\n",
              "      <td>3.2728</td>\n",
              "      <td>86.3269</td>\n",
              "      <td>8.7677</td>\n",
              "      <td>50.2480</td>\n",
              "      <td>64.1511</td>\n",
              "      <td>49.7520</td>\n",
              "      <td>66.1542</td>\n",
              "      <td>86.1468</td>\n",
              "      <td>121.4364</td>\n",
              "      <td>...</td>\n",
              "      <td>1.98</td>\n",
              "      <td>0.4287</td>\n",
              "      <td>9.7608</td>\n",
              "      <td>0.8311</td>\n",
              "      <td>70.9706</td>\n",
              "      <td>4.9086</td>\n",
              "      <td>2.5014</td>\n",
              "      <td>0.9778</td>\n",
              "      <td>0.2156</td>\n",
              "      <td>0.0461</td>\n",
              "      <td>22.0500</td>\n",
              "      <td>NaN</td>\n",
              "      <td>NaN</td>\n",
              "      <td>NaN</td>\n",
              "      <td>NaN</td>\n",
              "      <td>NaN</td>\n",
              "      <td>NaN</td>\n",
              "      <td>NaN</td>\n",
              "      <td>NaN</td>\n",
              "      <td>532.0155</td>\n",
              "      <td>2.0275</td>\n",
              "      <td>8.83</td>\n",
              "      <td>0.2224</td>\n",
              "      <td>3.1776</td>\n",
              "      <td>0.0706</td>\n",
              "      <td>1.6597</td>\n",
              "      <td>10.9698</td>\n",
              "      <td>NaN</td>\n",
              "      <td>NaN</td>\n",
              "      <td>NaN</td>\n",
              "      <td>NaN</td>\n",
              "      <td>0.4800</td>\n",
              "      <td>0.4766</td>\n",
              "      <td>0.1045</td>\n",
              "      <td>99.3032</td>\n",
              "      <td>0.0202</td>\n",
              "      <td>0.0149</td>\n",
              "      <td>0.0044</td>\n",
              "      <td>73.8432</td>\n",
              "      <td>-1</td>\n",
              "    </tr>\n",
              "    <tr>\n",
              "      <th>...</th>\n",
              "      <td>...</td>\n",
              "      <td>...</td>\n",
              "      <td>...</td>\n",
              "      <td>...</td>\n",
              "      <td>...</td>\n",
              "      <td>...</td>\n",
              "      <td>...</td>\n",
              "      <td>...</td>\n",
              "      <td>...</td>\n",
              "      <td>...</td>\n",
              "      <td>...</td>\n",
              "      <td>...</td>\n",
              "      <td>...</td>\n",
              "      <td>...</td>\n",
              "      <td>...</td>\n",
              "      <td>...</td>\n",
              "      <td>...</td>\n",
              "      <td>...</td>\n",
              "      <td>...</td>\n",
              "      <td>...</td>\n",
              "      <td>...</td>\n",
              "      <td>...</td>\n",
              "      <td>...</td>\n",
              "      <td>...</td>\n",
              "      <td>...</td>\n",
              "      <td>...</td>\n",
              "      <td>...</td>\n",
              "      <td>...</td>\n",
              "      <td>...</td>\n",
              "      <td>...</td>\n",
              "      <td>...</td>\n",
              "      <td>...</td>\n",
              "      <td>...</td>\n",
              "      <td>...</td>\n",
              "      <td>...</td>\n",
              "      <td>...</td>\n",
              "      <td>...</td>\n",
              "      <td>...</td>\n",
              "      <td>...</td>\n",
              "      <td>...</td>\n",
              "      <td>...</td>\n",
              "      <td>...</td>\n",
              "      <td>...</td>\n",
              "      <td>...</td>\n",
              "      <td>...</td>\n",
              "      <td>...</td>\n",
              "      <td>...</td>\n",
              "      <td>...</td>\n",
              "      <td>...</td>\n",
              "      <td>...</td>\n",
              "      <td>...</td>\n",
              "      <td>...</td>\n",
              "      <td>...</td>\n",
              "      <td>...</td>\n",
              "      <td>...</td>\n",
              "      <td>...</td>\n",
              "      <td>...</td>\n",
              "      <td>...</td>\n",
              "      <td>...</td>\n",
              "      <td>...</td>\n",
              "      <td>...</td>\n",
              "      <td>...</td>\n",
              "      <td>...</td>\n",
              "      <td>...</td>\n",
              "      <td>...</td>\n",
              "      <td>...</td>\n",
              "      <td>...</td>\n",
              "      <td>...</td>\n",
              "      <td>...</td>\n",
              "      <td>...</td>\n",
              "      <td>...</td>\n",
              "      <td>...</td>\n",
              "      <td>...</td>\n",
              "      <td>...</td>\n",
              "      <td>...</td>\n",
              "      <td>...</td>\n",
              "      <td>...</td>\n",
              "      <td>...</td>\n",
              "      <td>...</td>\n",
              "      <td>...</td>\n",
              "      <td>...</td>\n",
              "    </tr>\n",
              "    <tr>\n",
              "      <th>1562</th>\n",
              "      <td>2899.41</td>\n",
              "      <td>2464.36</td>\n",
              "      <td>2179.7333</td>\n",
              "      <td>3085.3781</td>\n",
              "      <td>1.4843</td>\n",
              "      <td>100.0</td>\n",
              "      <td>82.2467</td>\n",
              "      <td>0.1248</td>\n",
              "      <td>1.3424</td>\n",
              "      <td>-0.0045</td>\n",
              "      <td>-0.0057</td>\n",
              "      <td>0.9579</td>\n",
              "      <td>203.9867</td>\n",
              "      <td>0.0</td>\n",
              "      <td>11.7692</td>\n",
              "      <td>419.3404</td>\n",
              "      <td>10.2397</td>\n",
              "      <td>0.9693</td>\n",
              "      <td>193.7470</td>\n",
              "      <td>12.5373</td>\n",
              "      <td>1.4072</td>\n",
              "      <td>-5418.75</td>\n",
              "      <td>2608.00</td>\n",
              "      <td>-6228.25</td>\n",
              "      <td>356.00</td>\n",
              "      <td>1.2817</td>\n",
              "      <td>1.9540</td>\n",
              "      <td>7.0793</td>\n",
              "      <td>71.1444</td>\n",
              "      <td>2.2222</td>\n",
              "      <td>0.1753</td>\n",
              "      <td>3.4680</td>\n",
              "      <td>83.8405</td>\n",
              "      <td>8.7164</td>\n",
              "      <td>50.2482</td>\n",
              "      <td>64.3573</td>\n",
              "      <td>49.7518</td>\n",
              "      <td>66.2013</td>\n",
              "      <td>86.3672</td>\n",
              "      <td>120.5156</td>\n",
              "      <td>...</td>\n",
              "      <td>0.80</td>\n",
              "      <td>0.4754</td>\n",
              "      <td>8.5138</td>\n",
              "      <td>0.3141</td>\n",
              "      <td>85.1806</td>\n",
              "      <td>4.2063</td>\n",
              "      <td>1.0367</td>\n",
              "      <td>1.0972</td>\n",
              "      <td>0.3553</td>\n",
              "      <td>0.0929</td>\n",
              "      <td>32.3812</td>\n",
              "      <td>264.272</td>\n",
              "      <td>0.5671</td>\n",
              "      <td>4.98</td>\n",
              "      <td>0.0877</td>\n",
              "      <td>2.0902</td>\n",
              "      <td>0.0382</td>\n",
              "      <td>1.8844</td>\n",
              "      <td>15.4662</td>\n",
              "      <td>536.3418</td>\n",
              "      <td>2.0153</td>\n",
              "      <td>7.98</td>\n",
              "      <td>0.2363</td>\n",
              "      <td>2.6401</td>\n",
              "      <td>0.0785</td>\n",
              "      <td>1.4879</td>\n",
              "      <td>11.7256</td>\n",
              "      <td>0.0068</td>\n",
              "      <td>0.0138</td>\n",
              "      <td>0.0047</td>\n",
              "      <td>203.1720</td>\n",
              "      <td>0.4988</td>\n",
              "      <td>0.0143</td>\n",
              "      <td>0.0039</td>\n",
              "      <td>2.8669</td>\n",
              "      <td>0.0068</td>\n",
              "      <td>0.0138</td>\n",
              "      <td>0.0047</td>\n",
              "      <td>203.1720</td>\n",
              "      <td>-1</td>\n",
              "    </tr>\n",
              "    <tr>\n",
              "      <th>1563</th>\n",
              "      <td>3052.31</td>\n",
              "      <td>2522.55</td>\n",
              "      <td>2198.5667</td>\n",
              "      <td>1124.6595</td>\n",
              "      <td>0.8763</td>\n",
              "      <td>100.0</td>\n",
              "      <td>98.4689</td>\n",
              "      <td>0.1205</td>\n",
              "      <td>1.4333</td>\n",
              "      <td>-0.0061</td>\n",
              "      <td>-0.0093</td>\n",
              "      <td>0.9618</td>\n",
              "      <td>204.0173</td>\n",
              "      <td>0.0</td>\n",
              "      <td>9.1620</td>\n",
              "      <td>405.8178</td>\n",
              "      <td>10.2285</td>\n",
              "      <td>0.9696</td>\n",
              "      <td>193.7889</td>\n",
              "      <td>12.4020</td>\n",
              "      <td>1.3949</td>\n",
              "      <td>-6408.75</td>\n",
              "      <td>2277.50</td>\n",
              "      <td>-3675.50</td>\n",
              "      <td>339.00</td>\n",
              "      <td>1.0870</td>\n",
              "      <td>1.8023</td>\n",
              "      <td>5.1515</td>\n",
              "      <td>72.8444</td>\n",
              "      <td>2.0000</td>\n",
              "      <td>0.1416</td>\n",
              "      <td>4.7088</td>\n",
              "      <td>84.0623</td>\n",
              "      <td>8.9607</td>\n",
              "      <td>50.2067</td>\n",
              "      <td>64.1176</td>\n",
              "      <td>49.7934</td>\n",
              "      <td>66.1488</td>\n",
              "      <td>86.4051</td>\n",
              "      <td>120.2552</td>\n",
              "      <td>...</td>\n",
              "      <td>1.33</td>\n",
              "      <td>0.0949</td>\n",
              "      <td>6.7381</td>\n",
              "      <td>0.5058</td>\n",
              "      <td>27.0176</td>\n",
              "      <td>3.6251</td>\n",
              "      <td>1.8156</td>\n",
              "      <td>0.9671</td>\n",
              "      <td>0.3105</td>\n",
              "      <td>0.0696</td>\n",
              "      <td>32.1048</td>\n",
              "      <td>266.832</td>\n",
              "      <td>0.6254</td>\n",
              "      <td>4.56</td>\n",
              "      <td>0.1308</td>\n",
              "      <td>1.7420</td>\n",
              "      <td>0.0495</td>\n",
              "      <td>1.7089</td>\n",
              "      <td>20.9118</td>\n",
              "      <td>537.9264</td>\n",
              "      <td>2.1814</td>\n",
              "      <td>5.48</td>\n",
              "      <td>0.3891</td>\n",
              "      <td>1.9077</td>\n",
              "      <td>0.1213</td>\n",
              "      <td>1.0187</td>\n",
              "      <td>17.8379</td>\n",
              "      <td>NaN</td>\n",
              "      <td>NaN</td>\n",
              "      <td>NaN</td>\n",
              "      <td>NaN</td>\n",
              "      <td>0.4975</td>\n",
              "      <td>0.0131</td>\n",
              "      <td>0.0036</td>\n",
              "      <td>2.6238</td>\n",
              "      <td>0.0068</td>\n",
              "      <td>0.0138</td>\n",
              "      <td>0.0047</td>\n",
              "      <td>203.1720</td>\n",
              "      <td>-1</td>\n",
              "    </tr>\n",
              "    <tr>\n",
              "      <th>1564</th>\n",
              "      <td>2978.81</td>\n",
              "      <td>2379.78</td>\n",
              "      <td>2206.3000</td>\n",
              "      <td>1110.4967</td>\n",
              "      <td>0.8236</td>\n",
              "      <td>100.0</td>\n",
              "      <td>99.4122</td>\n",
              "      <td>0.1208</td>\n",
              "      <td>NaN</td>\n",
              "      <td>NaN</td>\n",
              "      <td>NaN</td>\n",
              "      <td>NaN</td>\n",
              "      <td>NaN</td>\n",
              "      <td>NaN</td>\n",
              "      <td>NaN</td>\n",
              "      <td>NaN</td>\n",
              "      <td>NaN</td>\n",
              "      <td>NaN</td>\n",
              "      <td>NaN</td>\n",
              "      <td>12.4555</td>\n",
              "      <td>1.4256</td>\n",
              "      <td>-5153.25</td>\n",
              "      <td>2707.00</td>\n",
              "      <td>-4102.00</td>\n",
              "      <td>-1226.00</td>\n",
              "      <td>1.2930</td>\n",
              "      <td>1.9435</td>\n",
              "      <td>7.2315</td>\n",
              "      <td>71.2667</td>\n",
              "      <td>2.2333</td>\n",
              "      <td>0.1659</td>\n",
              "      <td>3.4912</td>\n",
              "      <td>85.8638</td>\n",
              "      <td>8.1728</td>\n",
              "      <td>50.9333</td>\n",
              "      <td>64.4062</td>\n",
              "      <td>49.0667</td>\n",
              "      <td>65.8936</td>\n",
              "      <td>86.3506</td>\n",
              "      <td>117.8912</td>\n",
              "      <td>...</td>\n",
              "      <td>1.50</td>\n",
              "      <td>0.2829</td>\n",
              "      <td>7.0023</td>\n",
              "      <td>0.5605</td>\n",
              "      <td>74.1541</td>\n",
              "      <td>4.1095</td>\n",
              "      <td>2.0228</td>\n",
              "      <td>0.9718</td>\n",
              "      <td>0.1266</td>\n",
              "      <td>0.0332</td>\n",
              "      <td>13.0316</td>\n",
              "      <td>256.730</td>\n",
              "      <td>0.8209</td>\n",
              "      <td>11.09</td>\n",
              "      <td>0.2388</td>\n",
              "      <td>4.4128</td>\n",
              "      <td>0.0965</td>\n",
              "      <td>4.3197</td>\n",
              "      <td>29.0954</td>\n",
              "      <td>530.3709</td>\n",
              "      <td>2.3435</td>\n",
              "      <td>6.49</td>\n",
              "      <td>0.4154</td>\n",
              "      <td>2.1760</td>\n",
              "      <td>0.1352</td>\n",
              "      <td>1.2237</td>\n",
              "      <td>17.7267</td>\n",
              "      <td>0.0197</td>\n",
              "      <td>0.0086</td>\n",
              "      <td>0.0025</td>\n",
              "      <td>43.5231</td>\n",
              "      <td>0.4987</td>\n",
              "      <td>0.0153</td>\n",
              "      <td>0.0041</td>\n",
              "      <td>3.0590</td>\n",
              "      <td>0.0197</td>\n",
              "      <td>0.0086</td>\n",
              "      <td>0.0025</td>\n",
              "      <td>43.5231</td>\n",
              "      <td>-1</td>\n",
              "    </tr>\n",
              "    <tr>\n",
              "      <th>1565</th>\n",
              "      <td>2894.92</td>\n",
              "      <td>2532.01</td>\n",
              "      <td>2177.0333</td>\n",
              "      <td>1183.7287</td>\n",
              "      <td>1.5726</td>\n",
              "      <td>100.0</td>\n",
              "      <td>98.7978</td>\n",
              "      <td>0.1213</td>\n",
              "      <td>1.4622</td>\n",
              "      <td>-0.0072</td>\n",
              "      <td>0.0032</td>\n",
              "      <td>0.9694</td>\n",
              "      <td>197.2448</td>\n",
              "      <td>0.0</td>\n",
              "      <td>9.7354</td>\n",
              "      <td>401.9153</td>\n",
              "      <td>9.8630</td>\n",
              "      <td>0.9740</td>\n",
              "      <td>187.3818</td>\n",
              "      <td>12.3937</td>\n",
              "      <td>1.3868</td>\n",
              "      <td>-5271.75</td>\n",
              "      <td>2676.50</td>\n",
              "      <td>-4001.50</td>\n",
              "      <td>394.75</td>\n",
              "      <td>1.2875</td>\n",
              "      <td>1.9880</td>\n",
              "      <td>7.3255</td>\n",
              "      <td>70.5111</td>\n",
              "      <td>2.9667</td>\n",
              "      <td>0.2386</td>\n",
              "      <td>3.2803</td>\n",
              "      <td>84.5602</td>\n",
              "      <td>9.1930</td>\n",
              "      <td>50.6547</td>\n",
              "      <td>64.0158</td>\n",
              "      <td>49.3453</td>\n",
              "      <td>66.2301</td>\n",
              "      <td>86.3130</td>\n",
              "      <td>118.9288</td>\n",
              "      <td>...</td>\n",
              "      <td>1.33</td>\n",
              "      <td>0.0949</td>\n",
              "      <td>6.7381</td>\n",
              "      <td>0.5058</td>\n",
              "      <td>27.0176</td>\n",
              "      <td>3.6251</td>\n",
              "      <td>1.8156</td>\n",
              "      <td>1.0108</td>\n",
              "      <td>0.1920</td>\n",
              "      <td>0.0435</td>\n",
              "      <td>18.9966</td>\n",
              "      <td>264.272</td>\n",
              "      <td>0.5671</td>\n",
              "      <td>4.98</td>\n",
              "      <td>0.0877</td>\n",
              "      <td>2.0902</td>\n",
              "      <td>0.0382</td>\n",
              "      <td>1.8844</td>\n",
              "      <td>15.4662</td>\n",
              "      <td>534.3936</td>\n",
              "      <td>1.9098</td>\n",
              "      <td>9.13</td>\n",
              "      <td>0.3669</td>\n",
              "      <td>3.2524</td>\n",
              "      <td>0.1040</td>\n",
              "      <td>1.7085</td>\n",
              "      <td>19.2104</td>\n",
              "      <td>0.0262</td>\n",
              "      <td>0.0245</td>\n",
              "      <td>0.0075</td>\n",
              "      <td>93.4941</td>\n",
              "      <td>0.5004</td>\n",
              "      <td>0.0178</td>\n",
              "      <td>0.0038</td>\n",
              "      <td>3.5662</td>\n",
              "      <td>0.0262</td>\n",
              "      <td>0.0245</td>\n",
              "      <td>0.0075</td>\n",
              "      <td>93.4941</td>\n",
              "      <td>-1</td>\n",
              "    </tr>\n",
              "    <tr>\n",
              "      <th>1566</th>\n",
              "      <td>2944.92</td>\n",
              "      <td>2450.76</td>\n",
              "      <td>2195.4444</td>\n",
              "      <td>2914.1792</td>\n",
              "      <td>1.5978</td>\n",
              "      <td>100.0</td>\n",
              "      <td>85.1011</td>\n",
              "      <td>0.1235</td>\n",
              "      <td>NaN</td>\n",
              "      <td>NaN</td>\n",
              "      <td>NaN</td>\n",
              "      <td>NaN</td>\n",
              "      <td>NaN</td>\n",
              "      <td>NaN</td>\n",
              "      <td>NaN</td>\n",
              "      <td>NaN</td>\n",
              "      <td>NaN</td>\n",
              "      <td>NaN</td>\n",
              "      <td>NaN</td>\n",
              "      <td>12.4790</td>\n",
              "      <td>1.4048</td>\n",
              "      <td>-5319.50</td>\n",
              "      <td>2668.00</td>\n",
              "      <td>-3951.75</td>\n",
              "      <td>-425.00</td>\n",
              "      <td>1.3020</td>\n",
              "      <td>2.0085</td>\n",
              "      <td>7.3395</td>\n",
              "      <td>73.0667</td>\n",
              "      <td>2.5889</td>\n",
              "      <td>0.2021</td>\n",
              "      <td>3.3860</td>\n",
              "      <td>83.3424</td>\n",
              "      <td>8.7786</td>\n",
              "      <td>50.1940</td>\n",
              "      <td>64.2226</td>\n",
              "      <td>49.8060</td>\n",
              "      <td>66.2251</td>\n",
              "      <td>86.4039</td>\n",
              "      <td>120.5418</td>\n",
              "      <td>...</td>\n",
              "      <td>1.33</td>\n",
              "      <td>0.0949</td>\n",
              "      <td>6.7381</td>\n",
              "      <td>0.5058</td>\n",
              "      <td>27.0176</td>\n",
              "      <td>3.6251</td>\n",
              "      <td>1.8156</td>\n",
              "      <td>1.0827</td>\n",
              "      <td>0.2327</td>\n",
              "      <td>0.0678</td>\n",
              "      <td>21.4914</td>\n",
              "      <td>257.974</td>\n",
              "      <td>0.6193</td>\n",
              "      <td>8.42</td>\n",
              "      <td>0.1307</td>\n",
              "      <td>3.0894</td>\n",
              "      <td>0.0493</td>\n",
              "      <td>3.2639</td>\n",
              "      <td>21.1128</td>\n",
              "      <td>528.7918</td>\n",
              "      <td>2.0831</td>\n",
              "      <td>6.81</td>\n",
              "      <td>0.4774</td>\n",
              "      <td>2.2727</td>\n",
              "      <td>0.1495</td>\n",
              "      <td>1.2878</td>\n",
              "      <td>22.9183</td>\n",
              "      <td>0.0117</td>\n",
              "      <td>0.0162</td>\n",
              "      <td>0.0045</td>\n",
              "      <td>137.7844</td>\n",
              "      <td>0.4987</td>\n",
              "      <td>0.0181</td>\n",
              "      <td>0.0040</td>\n",
              "      <td>3.6275</td>\n",
              "      <td>0.0117</td>\n",
              "      <td>0.0162</td>\n",
              "      <td>0.0045</td>\n",
              "      <td>137.7844</td>\n",
              "      <td>-1</td>\n",
              "    </tr>\n",
              "  </tbody>\n",
              "</table>\n",
              "<p>1567 rows × 591 columns</p>\n",
              "</div>"
            ],
            "text/plain": [
              "            0        1          2          3  ...     587     588       589  Label\n",
              "0     3030.93  2564.00  2187.7333  1411.1265  ...     NaN     NaN       NaN     -1\n",
              "1     3095.78  2465.14  2230.4222  1463.6606  ...  0.0201  0.0060  208.2045     -1\n",
              "2     2932.61  2559.94  2186.4111  1698.0172  ...  0.0484  0.0148   82.8602      1\n",
              "3     2988.72  2479.90  2199.0333   909.7926  ...  0.0149  0.0044   73.8432     -1\n",
              "4     3032.24  2502.87  2233.3667  1326.5200  ...  0.0149  0.0044   73.8432     -1\n",
              "...       ...      ...        ...        ...  ...     ...     ...       ...    ...\n",
              "1562  2899.41  2464.36  2179.7333  3085.3781  ...  0.0138  0.0047  203.1720     -1\n",
              "1563  3052.31  2522.55  2198.5667  1124.6595  ...  0.0138  0.0047  203.1720     -1\n",
              "1564  2978.81  2379.78  2206.3000  1110.4967  ...  0.0086  0.0025   43.5231     -1\n",
              "1565  2894.92  2532.01  2177.0333  1183.7287  ...  0.0245  0.0075   93.4941     -1\n",
              "1566  2944.92  2450.76  2195.4444  2914.1792  ...  0.0162  0.0045  137.7844     -1\n",
              "\n",
              "[1567 rows x 591 columns]"
            ]
          },
          "metadata": {
            "tags": []
          },
          "execution_count": 59
        }
      ]
    },
    {
      "cell_type": "code",
      "metadata": {
        "id": "GU4qhRy68piS"
      },
      "source": [
        "n_samples=df_data.shape[0]"
      ],
      "execution_count": null,
      "outputs": []
    },
    {
      "cell_type": "markdown",
      "metadata": {
        "id": "s3MlSMsR6bv3"
      },
      "source": [
        "2. Έχουμε 1567 δείγματα, το καθένα με 590 χαρακτηριστικά. Τα χαρακτηριστικά αυτά αντιπροσωπεύουν διάφορες μετρήσεις (πχ από αισθητήρες), επομένως πρόκειται για αριθμητικά χαρακτηριστικά."
      ]
    },
    {
      "cell_type": "markdown",
      "metadata": {
        "id": "RFowpdRZ6zDP"
      },
      "source": [
        "3. Δεν υπήρχε κάποια αρίθμηση στα αρχεία κειμένου των δεδομένων, ούτε υπήρχαν κεφαλίδες."
      ]
    },
    {
      "cell_type": "markdown",
      "metadata": {
        "id": "7vY6yjiz6-nO"
      },
      "source": [
        "4. Οι ετικέτες των κλάσεων είναι οι τιμές 1 και -1 οι οποίες αντιπροσωπεύουν αντίστοιχα αποτυχία και επιτυχία (δεν καταλαβαίνω γιατί να αντιστοιχίσεις το -1 σε επιτυχία, αλλά ποιος είμαι εγώ να κρίνω...)"
      ]
    },
    {
      "cell_type": "markdown",
      "metadata": {
        "id": "gR0MlifJ7QjG"
      },
      "source": [
        "5. Δε χρειάστηκε να κάνουμε κάποια μετατροπή στα αρχεία κειμένου, τα χρησιμοποιήσαμε όπως τα πήραμε και στη συνέχεια παράξαμε ένα ενιαίο dataset από αυτά."
      ]
    },
    {
      "cell_type": "markdown",
      "metadata": {
        "id": "c7EV8A897g4u"
      },
      "source": [
        "6. Υπάρχουν αρκετά δείγματα με απουσιάζουσες τιμές. Συγκεκριμένα όπως βλέπουμε παρακάτω, είναι 538, δηλαδή περίπου το 34% των δειγμάτων."
      ]
    },
    {
      "cell_type": "code",
      "metadata": {
        "id": "ihzmgsz_3x6k",
        "colab": {
          "base_uri": "https://localhost:8080/"
        },
        "outputId": "625b92ae-ba1c-47a1-9737-ea30e50710b3"
      },
      "source": [
        "def check_missing_value(attributes):\n",
        "  for a in attributes:\n",
        "    if np.isnan(a):\n",
        "      return True\n",
        "  return False\n",
        "\n",
        "missing_values_samples=0\n",
        "for sample in df_data:\n",
        "   if check_missing_value(df_data[sample]):\n",
        "     missing_values_samples+=1\n",
        "\n",
        "print(\"Samples with missing values: \"+str(missing_values_samples),\",\", float(\"{:.3f}\".format(100*missing_values_samples/n_samples)),\"% of the total dataset\")"
      ],
      "execution_count": null,
      "outputs": [
        {
          "output_type": "stream",
          "text": [
            "Samples with missing values: 538 , 34.333 % of the total dataset\n"
          ],
          "name": "stdout"
        }
      ]
    },
    {
      "cell_type": "markdown",
      "metadata": {
        "id": "0YYl4X4-AOB1"
      },
      "source": [
        "7. Όπως βλέπουμε, τα δείγματά μας αντιστοιχούν σε 1463 επιτυχίες και 104 αποτυχίες. Προφανώς το dataset μας δεν είναι ισορροπημένο, καθώς η μία κλάση είναι σχεδόν 14 φορές υπερπληθέστερη από την άλλη."
      ]
    },
    {
      "cell_type": "code",
      "metadata": {
        "id": "yEQOJuEi6-K9",
        "colab": {
          "base_uri": "https://localhost:8080/"
        },
        "outputId": "dd694dd6-7e8e-447f-c25e-c2ea4dfa3f16"
      },
      "source": [
        "labels_df = df_data.iloc[:,[-1]] #Τα labels βρισκονται στην τελευταία στήλη\n",
        "features_df = df_data.iloc[:,:591] #590 attributes, στις στήλες 0-590.\n",
        "\n",
        "np_features=features_df.values #Μετατρέπουμε το dataframe σε np array\n",
        "np_labels = labels_df.values.flatten()\n",
        "\n",
        "instances_per_class = Counter(np_labels)\n",
        "print(instances_per_class)"
      ],
      "execution_count": null,
      "outputs": [
        {
          "output_type": "stream",
          "text": [
            "Counter({-1: 1463, 1: 104})\n"
          ],
          "name": "stdout"
        }
      ]
    }
  ]
}